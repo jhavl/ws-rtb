{
 "cells": [
  {
   "cell_type": "markdown",
   "metadata": {},
   "source": [
    "# Not your grandmother’s toolbox– the Robotics Toolbox reinvented for python\n",
    "### Peter Corke and Jesse Haviland\n",
    "\n",
    "This is the code for the examples in the [paper published at ICRA2021](https://ieeexplore.ieee.org/document/9561366).\n"
   ]
  },
  {
   "cell_type": "code",
   "execution_count": 1,
   "metadata": {},
   "outputs": [
    {
     "data": {
      "text/html": [
       "\n",
       "<style>\n",
       "    div#notebook-container    { width: 95%; }\n",
       "    div#menubar-container     { width: 65%; }\n",
       "    div#maintoolbar-container { width: 99%; }\n",
       "</style>\n"
      ],
      "text/plain": [
       "<IPython.core.display.HTML object>"
      ]
     },
     "metadata": {},
     "output_type": "display_data"
    }
   ],
   "source": [
    "# !pip install numpy --upgrade\n",
    "# !pip install roboticstoolbox-python\n",
    "# !pip install -U ipython\n",
    "from math import pi\n",
    "import numpy as np\n",
    "import matplotlib.pyplot as plt\n",
    "\n",
    "# display result of assignments\n",
    "%config ZMQInteractiveShell.ast_node_interactivity = 'last_expr_or_assign'\n",
    "# make NumPy display a bit nicer\n",
    "np.set_printoptions(linewidth=100, formatter={'float': lambda x: f\"{x:10.4g}\" if abs(x) > 1e-10 else f\"{0:8.4g}\"})\n",
    "# make cells nice and wide\n",
    "from IPython.display import display, HTML\n",
    "display(HTML(data=\"\"\"\n",
    "<style>\n",
    "    div#notebook-container    { width: 95%; }\n",
    "    div#menubar-container     { width: 65%; }\n",
    "    div#maintoolbar-container { width: 99%; }\n",
    "</style>\n",
    "\"\"\"))\n",
    "# %matplotlib widget"
   ]
  },
  {
   "cell_type": "markdown",
   "metadata": {},
   "source": [
    "# III.SPATIAL MATHEMATICS"
   ]
  },
  {
   "cell_type": "markdown",
   "metadata": {},
   "source": [
    "The spatial math package underpins the Robotics and Machine Vision Toolboxes. It supports mathematical objects such as SO(2), SE(2), SO(3) and SE(3) matrices, quaternions and unit quaternions as well as twists in 2D and 3D.\n",
    "\n",
    "We start by importing the package"
   ]
  },
  {
   "cell_type": "code",
   "execution_count": 2,
   "metadata": {},
   "outputs": [],
   "source": [
    "from spatialmath.base import *"
   ]
  },
  {
   "cell_type": "markdown",
   "metadata": {},
   "source": [
    "Now we can create an SE(3) transformation by composing a number of simple transformations such as translations and rotations.  These functions have the same names, and mimic the functions of the older Robotics Toolbox for MATLAB"
   ]
  },
  {
   "cell_type": "code",
   "execution_count": 3,
   "metadata": {},
   "outputs": [
    {
     "data": {
      "text/plain": [
       "array([[    0.9752,    -0.1987,   -0.09784,        0.5],\n",
       "       [    0.1538,     0.2896,     0.9447,        0],\n",
       "       [   -0.1593,    -0.9363,      0.313,        0],\n",
       "       [       0,        0,        0,          1]])"
      ]
     },
     "execution_count": 3,
     "metadata": {},
     "output_type": "execute_result"
    }
   ],
   "source": [
    "T = transl(0.5, 0.0, 0.0) @ rpy2tr(0.1, 0.2, 0.3, order='xyz') @ trotx(-90, 'deg')"
   ]
  },
  {
   "cell_type": "markdown",
   "metadata": {},
   "source": [
    "which has created a 4x4 NumPy array with an SE(3) matrix value.  There are lots of functions in `spatialmath.base` to convert between different representations such roll-pitch-yaw angles, Euler angles, angle-axis, unit quaternions and so on.  There are also functions to plot and animate frames and even turn those into mp4 files. If you're a fan of twists and product of exponential representations there are also functions to compute skew-symmetric matrices, logarithms and exponentials."
   ]
  },
  {
   "cell_type": "markdown",
   "metadata": {},
   "source": [
    "Alternatively, and definitely encouraged, we can use the object-oriented interface"
   ]
  },
  {
   "cell_type": "code",
   "execution_count": 4,
   "metadata": {},
   "outputs": [],
   "source": [
    "from spatialmath import *"
   ]
  },
  {
   "cell_type": "markdown",
   "metadata": {},
   "source": [
    "and we can rewrite the above example as"
   ]
  },
  {
   "cell_type": "code",
   "execution_count": 5,
   "metadata": {},
   "outputs": [
    {
     "data": {
      "text/plain": [
       "  \u001b[38;5;1m 0.9752  \u001b[0m \u001b[38;5;1m-0.1987  \u001b[0m \u001b[38;5;1m-0.09784 \u001b[0m \u001b[38;5;4m 0.5     \u001b[0m  \u001b[0m\n",
       "  \u001b[38;5;1m 0.1538  \u001b[0m \u001b[38;5;1m 0.2896  \u001b[0m \u001b[38;5;1m 0.9447  \u001b[0m \u001b[38;5;4m 0       \u001b[0m  \u001b[0m\n",
       "  \u001b[38;5;1m-0.1593  \u001b[0m \u001b[38;5;1m-0.9363  \u001b[0m \u001b[38;5;1m 0.313   \u001b[0m \u001b[38;5;4m 0       \u001b[0m  \u001b[0m\n",
       "  \u001b[38;5;244m 0       \u001b[0m \u001b[38;5;244m 0       \u001b[0m \u001b[38;5;244m 0       \u001b[0m \u001b[38;5;244m 1       \u001b[0m  \u001b[0m\n"
      ]
     },
     "execution_count": 5,
     "metadata": {},
     "output_type": "execute_result"
    }
   ],
   "source": [
    "T = SE3(0.5, 0.0, 0.0) * SE3.RPY([0.1, 0.2, 0.3], order='xyz') * SE3.Rx(-90, unit='deg')"
   ]
  },
  {
   "cell_type": "markdown",
   "metadata": {},
   "source": [
    "In most environments, we see the matrix printed with color coding: red for rotation submatrix, blue for translation, grey for constant values.\n",
    "\n",
    "The matrices are encapsulated in objects, we can compose them using the regular `*` operator.  "
   ]
  },
  {
   "cell_type": "code",
   "execution_count": 6,
   "metadata": {},
   "outputs": [
    {
     "data": {
      "text/plain": [
       "array([     1.674,      1.252,     -1.402])"
      ]
     },
     "execution_count": 6,
     "metadata": {},
     "output_type": "execute_result"
    }
   ],
   "source": [
    "T.eul()"
   ]
  },
  {
   "cell_type": "code",
   "execution_count": 7,
   "metadata": {},
   "outputs": [
    {
     "data": {
      "text/plain": [
       "array([[    0.9752,    -0.1987,   -0.09784],\n",
       "       [    0.1538,     0.2896,     0.9447],\n",
       "       [   -0.1593,    -0.9363,      0.313]])"
      ]
     },
     "execution_count": 7,
     "metadata": {},
     "output_type": "execute_result"
    }
   ],
   "source": [
    "T.R"
   ]
  },
  {
   "cell_type": "code",
   "execution_count": 8,
   "metadata": {},
   "outputs": [
    {
     "data": {
      "image/png": "[encoded data removed]",
      "text/plain": [
       "<Figure size 432x288 with 1 Axes>"
      ]
     },
     "metadata": {
      "needs_background": "light"
     },
     "output_type": "display_data"
    }
   ],
   "source": [
    "T.plot(color='red', label='2')"
   ]
  },
  {
   "cell_type": "code",
   "execution_count": 9,
   "metadata": {},
   "outputs": [
    {
     "data": {
      "text/plain": [
       "  \u001b[38;5;1m 0.9752  \u001b[0m \u001b[38;5;1m 0.1538  \u001b[0m \u001b[38;5;1m-0.1593  \u001b[0m \u001b[38;5;4m-0.4876  \u001b[0m  \u001b[0m\n",
       "  \u001b[38;5;1m-0.1987  \u001b[0m \u001b[38;5;1m 0.2896  \u001b[0m \u001b[38;5;1m-0.9363  \u001b[0m \u001b[38;5;4m 0.09933 \u001b[0m  \u001b[0m\n",
       "  \u001b[38;5;1m-0.09784 \u001b[0m \u001b[38;5;1m 0.9447  \u001b[0m \u001b[38;5;1m 0.313   \u001b[0m \u001b[38;5;4m 0.04892 \u001b[0m  \u001b[0m\n",
       "  \u001b[38;5;244m 0       \u001b[0m \u001b[38;5;244m 0       \u001b[0m \u001b[38;5;244m 0       \u001b[0m \u001b[38;5;244m 1       \u001b[0m  \u001b[0m\n"
      ]
     },
     "execution_count": 9,
     "metadata": {},
     "output_type": "execute_result"
    }
   ],
   "source": [
    "T.inv()"
   ]
  },
  {
   "cell_type": "markdown",
   "metadata": {},
   "source": [
    "We can create unit quaternions using the same methods as we did for `SE3` objects, and compose them using the `*` operator"
   ]
  },
  {
   "cell_type": "code",
   "execution_count": 10,
   "metadata": {},
   "outputs": [
    {
     "name": "stdout",
     "output_type": "stream",
     "text": [
      " 0.9888 <<  0.1494,  0.0000,  0.0000 >>\n"
     ]
    },
    {
     "data": {
      "text/plain": []
     },
     "execution_count": 10,
     "metadata": {},
     "output_type": "execute_result"
    }
   ],
   "source": [
    "q1 = UnitQuaternion.Rx(0.3)\n"
   ]
  },
  {
   "cell_type": "code",
   "execution_count": 11,
   "metadata": {},
   "outputs": [
    {
     "name": "stdout",
     "output_type": "stream",
     "text": [
      " 0.9888 <<  0.1494,  0.0000,  0.0000 >>\n"
     ]
    },
    {
     "data": {
      "text/plain": []
     },
     "execution_count": 11,
     "metadata": {},
     "output_type": "execute_result"
    }
   ],
   "source": [
    "q2 = UnitQuaternion.AngVec(0.3, [1, 0, 0])"
   ]
  },
  {
   "cell_type": "code",
   "execution_count": 12,
   "metadata": {},
   "outputs": [
    {
     "name": "stdout",
     "output_type": "stream",
     "text": [
      " 0.9553 <<  0.2955,  0.0000,  0.0000 >>\n"
     ]
    },
    {
     "data": {
      "text/plain": []
     },
     "execution_count": 12,
     "metadata": {},
     "output_type": "execute_result"
    }
   ],
   "source": [
    "q3 = q1 * q2"
   ]
  },
  {
   "cell_type": "markdown",
   "metadata": {},
   "source": [
    "The inverse is easy"
   ]
  },
  {
   "cell_type": "code",
   "execution_count": 13,
   "metadata": {},
   "outputs": [
    {
     "name": "stdout",
     "output_type": "stream",
     "text": [
      " 0.9553 << -0.2955, -0.0000, -0.0000 >>\n"
     ]
    },
    {
     "data": {
      "text/plain": []
     },
     "execution_count": 13,
     "metadata": {},
     "output_type": "execute_result"
    }
   ],
   "source": [
    "q3.inv()"
   ]
  },
  {
   "cell_type": "markdown",
   "metadata": {},
   "source": [
    "and we can convert back to an SO(3) rotation matrix"
   ]
  },
  {
   "cell_type": "code",
   "execution_count": 14,
   "metadata": {},
   "outputs": [
    {
     "data": {
      "text/plain": [
       "  \u001b[38;5;1m 1       \u001b[0m \u001b[38;5;1m 0       \u001b[0m \u001b[38;5;1m 0       \u001b[0m  \u001b[0m\n",
       "  \u001b[38;5;1m 0       \u001b[0m \u001b[38;5;1m 0.8253  \u001b[0m \u001b[38;5;1m-0.5646  \u001b[0m  \u001b[0m\n",
       "  \u001b[38;5;1m 0       \u001b[0m \u001b[38;5;1m 0.5646  \u001b[0m \u001b[38;5;1m 0.8253  \u001b[0m  \u001b[0m\n"
      ]
     },
     "execution_count": 14,
     "metadata": {},
     "output_type": "execute_result"
    }
   ],
   "source": [
    "q3.SO3()"
   ]
  },
  {
   "cell_type": "markdown",
   "metadata": {},
   "source": [
    "All the objects just introduced have three superpowers.  Firstly, they can each hold multiple values, just like a Python list.  This is really useful for a collection of frames along a trajectory, or for every link on a robot arm"
   ]
  },
  {
   "cell_type": "code",
   "execution_count": 15,
   "metadata": {},
   "outputs": [
    {
     "data": {
      "text/plain": [
       "0:\n",
       "  \u001b[38;5;1m 1       \u001b[0m \u001b[38;5;1m 0       \u001b[0m \u001b[38;5;1m 0       \u001b[0m \u001b[38;5;4m 0       \u001b[0m  \u001b[0m\n",
       "  \u001b[38;5;1m 0       \u001b[0m \u001b[38;5;1m 1       \u001b[0m \u001b[38;5;1m 0       \u001b[0m \u001b[38;5;4m 0       \u001b[0m  \u001b[0m\n",
       "  \u001b[38;5;1m 0       \u001b[0m \u001b[38;5;1m 0       \u001b[0m \u001b[38;5;1m 1       \u001b[0m \u001b[38;5;4m 0       \u001b[0m  \u001b[0m\n",
       "  \u001b[38;5;244m 0       \u001b[0m \u001b[38;5;244m 0       \u001b[0m \u001b[38;5;244m 0       \u001b[0m \u001b[38;5;244m 1       \u001b[0m  \u001b[0m\n",
       "1:\n",
       "  \u001b[38;5;1m 1       \u001b[0m \u001b[38;5;1m 0       \u001b[0m \u001b[38;5;1m 0       \u001b[0m \u001b[38;5;4m 0       \u001b[0m  \u001b[0m\n",
       "  \u001b[38;5;1m 0       \u001b[0m \u001b[38;5;1m 0.9999  \u001b[0m \u001b[38;5;1m-0.01587 \u001b[0m \u001b[38;5;4m 0       \u001b[0m  \u001b[0m\n",
       "  \u001b[38;5;1m 0       \u001b[0m \u001b[38;5;1m 0.01587 \u001b[0m \u001b[38;5;1m 0.9999  \u001b[0m \u001b[38;5;4m 0       \u001b[0m  \u001b[0m\n",
       "  \u001b[38;5;244m 0       \u001b[0m \u001b[38;5;244m 0       \u001b[0m \u001b[38;5;244m 0       \u001b[0m \u001b[38;5;244m 1       \u001b[0m  \u001b[0m\n",
       "2:\n",
       "  \u001b[38;5;1m 1       \u001b[0m \u001b[38;5;1m 0       \u001b[0m \u001b[38;5;1m 0       \u001b[0m \u001b[38;5;4m 0       \u001b[0m  \u001b[0m\n",
       "  \u001b[38;5;1m 0       \u001b[0m \u001b[38;5;1m 0.9995  \u001b[0m \u001b[38;5;1m-0.03173 \u001b[0m \u001b[38;5;4m 0       \u001b[0m  \u001b[0m\n",
       "  \u001b[38;5;1m 0       \u001b[0m \u001b[38;5;1m 0.03173 \u001b[0m \u001b[38;5;1m 0.9995  \u001b[0m \u001b[38;5;4m 0       \u001b[0m  \u001b[0m\n",
       "  \u001b[38;5;244m 0       \u001b[0m \u001b[38;5;244m 0       \u001b[0m \u001b[38;5;244m 0       \u001b[0m \u001b[38;5;244m 1       \u001b[0m  \u001b[0m\n",
       "3:\n",
       "  \u001b[38;5;1m 1       \u001b[0m \u001b[38;5;1m 0       \u001b[0m \u001b[38;5;1m 0       \u001b[0m \u001b[38;5;4m 0       \u001b[0m  \u001b[0m\n",
       "  \u001b[38;5;1m 0       \u001b[0m \u001b[38;5;1m 0.9989  \u001b[0m \u001b[38;5;1m-0.04758 \u001b[0m \u001b[38;5;4m 0       \u001b[0m  \u001b[0m\n",
       "  \u001b[38;5;1m 0       \u001b[0m \u001b[38;5;1m 0.04758 \u001b[0m \u001b[38;5;1m 0.9989  \u001b[0m \u001b[38;5;4m 0       \u001b[0m  \u001b[0m\n",
       "  \u001b[38;5;244m 0       \u001b[0m \u001b[38;5;244m 0       \u001b[0m \u001b[38;5;244m 0       \u001b[0m \u001b[38;5;244m 1       \u001b[0m  \u001b[0m\n",
       "4:\n",
       "  \u001b[38;5;1m 1       \u001b[0m \u001b[38;5;1m 0       \u001b[0m \u001b[38;5;1m 0       \u001b[0m \u001b[38;5;4m 0       \u001b[0m  \u001b[0m\n",
       "  \u001b[38;5;1m 0       \u001b[0m \u001b[38;5;1m 0.998   \u001b[0m \u001b[38;5;1m-0.06342 \u001b[0m \u001b[38;5;4m 0       \u001b[0m  \u001b[0m\n",
       "  \u001b[38;5;1m 0       \u001b[0m \u001b[38;5;1m 0.06342 \u001b[0m \u001b[38;5;1m 0.998   \u001b[0m \u001b[38;5;4m 0       \u001b[0m  \u001b[0m\n",
       "  \u001b[38;5;244m 0       \u001b[0m \u001b[38;5;244m 0       \u001b[0m \u001b[38;5;244m 0       \u001b[0m \u001b[38;5;244m 1       \u001b[0m  \u001b[0m\n",
       "5:\n",
       "  \u001b[38;5;1m 1       \u001b[0m \u001b[38;5;1m 0       \u001b[0m \u001b[38;5;1m 0       \u001b[0m \u001b[38;5;4m 0       \u001b[0m  \u001b[0m\n",
       "  \u001b[38;5;1m 0       \u001b[0m \u001b[38;5;1m 0.9969  \u001b[0m \u001b[38;5;1m-0.07925 \u001b[0m \u001b[38;5;4m 0       \u001b[0m  \u001b[0m\n",
       "  \u001b[38;5;1m 0       \u001b[0m \u001b[38;5;1m 0.07925 \u001b[0m \u001b[38;5;1m 0.9969  \u001b[0m \u001b[38;5;4m 0       \u001b[0m  \u001b[0m\n",
       "  \u001b[38;5;244m 0       \u001b[0m \u001b[38;5;244m 0       \u001b[0m \u001b[38;5;244m 0       \u001b[0m \u001b[38;5;244m 1       \u001b[0m  \u001b[0m\n",
       "6:\n",
       "  \u001b[38;5;1m 1       \u001b[0m \u001b[38;5;1m 0       \u001b[0m \u001b[38;5;1m 0       \u001b[0m \u001b[38;5;4m 0       \u001b[0m  \u001b[0m\n",
       "  \u001b[38;5;1m 0       \u001b[0m \u001b[38;5;1m 0.9955  \u001b[0m \u001b[38;5;1m-0.09506 \u001b[0m \u001b[38;5;4m 0       \u001b[0m  \u001b[0m\n",
       "  \u001b[38;5;1m 0       \u001b[0m \u001b[38;5;1m 0.09506 \u001b[0m \u001b[38;5;1m 0.9955  \u001b[0m \u001b[38;5;4m 0       \u001b[0m  \u001b[0m\n",
       "  \u001b[38;5;244m 0       \u001b[0m \u001b[38;5;244m 0       \u001b[0m \u001b[38;5;244m 0       \u001b[0m \u001b[38;5;244m 1       \u001b[0m  \u001b[0m\n",
       "7:\n",
       "  \u001b[38;5;1m 1       \u001b[0m \u001b[38;5;1m 0       \u001b[0m \u001b[38;5;1m 0       \u001b[0m \u001b[38;5;4m 0       \u001b[0m  \u001b[0m\n",
       "  \u001b[38;5;1m 0       \u001b[0m \u001b[38;5;1m 0.9938  \u001b[0m \u001b[38;5;1m-0.1108  \u001b[0m \u001b[38;5;4m 0       \u001b[0m  \u001b[0m\n",
       "  \u001b[38;5;1m 0       \u001b[0m \u001b[38;5;1m 0.1108  \u001b[0m \u001b[38;5;1m 0.9938  \u001b[0m \u001b[38;5;4m 0       \u001b[0m  \u001b[0m\n",
       "  \u001b[38;5;244m 0       \u001b[0m \u001b[38;5;244m 0       \u001b[0m \u001b[38;5;244m 0       \u001b[0m \u001b[38;5;244m 1       \u001b[0m  \u001b[0m\n",
       "8:\n",
       "  \u001b[38;5;1m 1       \u001b[0m \u001b[38;5;1m 0       \u001b[0m \u001b[38;5;1m 0       \u001b[0m \u001b[38;5;4m 0       \u001b[0m  \u001b[0m\n",
       "  \u001b[38;5;1m 0       \u001b[0m \u001b[38;5;1m 0.992   \u001b[0m \u001b[38;5;1m-0.1266  \u001b[0m \u001b[38;5;4m 0       \u001b[0m  \u001b[0m\n",
       "  \u001b[38;5;1m 0       \u001b[0m \u001b[38;5;1m 0.1266  \u001b[0m \u001b[38;5;1m 0.992   \u001b[0m \u001b[38;5;4m 0       \u001b[0m  \u001b[0m\n",
       "  \u001b[38;5;244m 0       \u001b[0m \u001b[38;5;244m 0       \u001b[0m \u001b[38;5;244m 0       \u001b[0m \u001b[38;5;244m 1       \u001b[0m  \u001b[0m\n",
       "9:\n",
       "  \u001b[38;5;1m 1       \u001b[0m \u001b[38;5;1m 0       \u001b[0m \u001b[38;5;1m 0       \u001b[0m \u001b[38;5;4m 0       \u001b[0m  \u001b[0m\n",
       "  \u001b[38;5;1m 0       \u001b[0m \u001b[38;5;1m 0.9898  \u001b[0m \u001b[38;5;1m-0.1423  \u001b[0m \u001b[38;5;4m 0       \u001b[0m  \u001b[0m\n",
       "  \u001b[38;5;1m 0       \u001b[0m \u001b[38;5;1m 0.1423  \u001b[0m \u001b[38;5;1m 0.9898  \u001b[0m \u001b[38;5;4m 0       \u001b[0m  \u001b[0m\n",
       "  \u001b[38;5;244m 0       \u001b[0m \u001b[38;5;244m 0       \u001b[0m \u001b[38;5;244m 0       \u001b[0m \u001b[38;5;244m 1       \u001b[0m  \u001b[0m\n",
       "10:\n",
       "  \u001b[38;5;1m 1       \u001b[0m \u001b[38;5;1m 0       \u001b[0m \u001b[38;5;1m 0       \u001b[0m \u001b[38;5;4m 0       \u001b[0m  \u001b[0m\n",
       "  \u001b[38;5;1m 0       \u001b[0m \u001b[38;5;1m 0.9874  \u001b[0m \u001b[38;5;1m-0.158   \u001b[0m \u001b[38;5;4m 0       \u001b[0m  \u001b[0m\n",
       "  \u001b[38;5;1m 0       \u001b[0m \u001b[38;5;1m 0.158   \u001b[0m \u001b[38;5;1m 0.9874  \u001b[0m \u001b[38;5;4m 0       \u001b[0m  \u001b[0m\n",
       "  \u001b[38;5;244m 0       \u001b[0m \u001b[38;5;244m 0       \u001b[0m \u001b[38;5;244m 0       \u001b[0m \u001b[38;5;244m 1       \u001b[0m  \u001b[0m\n",
       "11:\n",
       "  \u001b[38;5;1m 1       \u001b[0m \u001b[38;5;1m 0       \u001b[0m \u001b[38;5;1m 0       \u001b[0m \u001b[38;5;4m 0       \u001b[0m  \u001b[0m\n",
       "  \u001b[38;5;1m 0       \u001b[0m \u001b[38;5;1m 0.9848  \u001b[0m \u001b[38;5;1m-0.1736  \u001b[0m \u001b[38;5;4m 0       \u001b[0m  \u001b[0m\n",
       "  \u001b[38;5;1m 0       \u001b[0m \u001b[38;5;1m 0.1736  \u001b[0m \u001b[38;5;1m 0.9848  \u001b[0m \u001b[38;5;4m 0       \u001b[0m  \u001b[0m\n",
       "  \u001b[38;5;244m 0       \u001b[0m \u001b[38;5;244m 0       \u001b[0m \u001b[38;5;244m 0       \u001b[0m \u001b[38;5;244m 1       \u001b[0m  \u001b[0m\n",
       "12:\n",
       "  \u001b[38;5;1m 1       \u001b[0m \u001b[38;5;1m 0       \u001b[0m \u001b[38;5;1m 0       \u001b[0m \u001b[38;5;4m 0       \u001b[0m  \u001b[0m\n",
       "  \u001b[38;5;1m 0       \u001b[0m \u001b[38;5;1m 0.9819  \u001b[0m \u001b[38;5;1m-0.1893  \u001b[0m \u001b[38;5;4m 0       \u001b[0m  \u001b[0m\n",
       "  \u001b[38;5;1m 0       \u001b[0m \u001b[38;5;1m 0.1893  \u001b[0m \u001b[38;5;1m 0.9819  \u001b[0m \u001b[38;5;4m 0       \u001b[0m  \u001b[0m\n",
       "  \u001b[38;5;244m 0       \u001b[0m \u001b[38;5;244m 0       \u001b[0m \u001b[38;5;244m 0       \u001b[0m \u001b[38;5;244m 1       \u001b[0m  \u001b[0m\n",
       "13:\n",
       "  \u001b[38;5;1m 1       \u001b[0m \u001b[38;5;1m 0       \u001b[0m \u001b[38;5;1m 0       \u001b[0m \u001b[38;5;4m 0       \u001b[0m  \u001b[0m\n",
       "  \u001b[38;5;1m 0       \u001b[0m \u001b[38;5;1m 0.9788  \u001b[0m \u001b[38;5;1m-0.2048  \u001b[0m \u001b[38;5;4m 0       \u001b[0m  \u001b[0m\n",
       "  \u001b[38;5;1m 0       \u001b[0m \u001b[38;5;1m 0.2048  \u001b[0m \u001b[38;5;1m 0.9788  \u001b[0m \u001b[38;5;4m 0       \u001b[0m  \u001b[0m\n",
       "  \u001b[38;5;244m 0       \u001b[0m \u001b[38;5;244m 0       \u001b[0m \u001b[38;5;244m 0       \u001b[0m \u001b[38;5;244m 1       \u001b[0m  \u001b[0m\n",
       "14:\n",
       "  \u001b[38;5;1m 1       \u001b[0m \u001b[38;5;1m 0       \u001b[0m \u001b[38;5;1m 0       \u001b[0m \u001b[38;5;4m 0       \u001b[0m  \u001b[0m\n",
       "  \u001b[38;5;1m 0       \u001b[0m \u001b[38;5;1m 0.9754  \u001b[0m \u001b[38;5;1m-0.2203  \u001b[0m \u001b[38;5;4m 0       \u001b[0m  \u001b[0m\n",
       "  \u001b[38;5;1m 0       \u001b[0m \u001b[38;5;1m 0.2203  \u001b[0m \u001b[38;5;1m 0.9754  \u001b[0m \u001b[38;5;4m 0       \u001b[0m  \u001b[0m\n",
       "  \u001b[38;5;244m 0       \u001b[0m \u001b[38;5;244m 0       \u001b[0m \u001b[38;5;244m 0       \u001b[0m \u001b[38;5;244m 1       \u001b[0m  \u001b[0m\n",
       "15:\n",
       "  \u001b[38;5;1m 1       \u001b[0m \u001b[38;5;1m 0       \u001b[0m \u001b[38;5;1m 0       \u001b[0m \u001b[38;5;4m 0       \u001b[0m  \u001b[0m\n",
       "  \u001b[38;5;1m 0       \u001b[0m \u001b[38;5;1m 0.9718  \u001b[0m \u001b[38;5;1m-0.2358  \u001b[0m \u001b[38;5;4m 0       \u001b[0m  \u001b[0m\n",
       "  \u001b[38;5;1m 0       \u001b[0m \u001b[38;5;1m 0.2358  \u001b[0m \u001b[38;5;1m 0.9718  \u001b[0m \u001b[38;5;4m 0       \u001b[0m  \u001b[0m\n",
       "  \u001b[38;5;244m 0       \u001b[0m \u001b[38;5;244m 0       \u001b[0m \u001b[38;5;244m 0       \u001b[0m \u001b[38;5;244m 1       \u001b[0m  \u001b[0m\n",
       "16:\n",
       "  \u001b[38;5;1m 1       \u001b[0m \u001b[38;5;1m 0       \u001b[0m \u001b[38;5;1m 0       \u001b[0m \u001b[38;5;4m 0       \u001b[0m  \u001b[0m\n",
       "  \u001b[38;5;1m 0       \u001b[0m \u001b[38;5;1m 0.9679  \u001b[0m \u001b[38;5;1m-0.2511  \u001b[0m \u001b[38;5;4m 0       \u001b[0m  \u001b[0m\n",
       "  \u001b[38;5;1m 0       \u001b[0m \u001b[38;5;1m 0.2511  \u001b[0m \u001b[38;5;1m 0.9679  \u001b[0m \u001b[38;5;4m 0       \u001b[0m  \u001b[0m\n",
       "  \u001b[38;5;244m 0       \u001b[0m \u001b[38;5;244m 0       \u001b[0m \u001b[38;5;244m 0       \u001b[0m \u001b[38;5;244m 1       \u001b[0m  \u001b[0m\n",
       "17:\n",
       "  \u001b[38;5;1m 1       \u001b[0m \u001b[38;5;1m 0       \u001b[0m \u001b[38;5;1m 0       \u001b[0m \u001b[38;5;4m 0       \u001b[0m  \u001b[0m\n",
       "  \u001b[38;5;1m 0       \u001b[0m \u001b[38;5;1m 0.9638  \u001b[0m \u001b[38;5;1m-0.2665  \u001b[0m \u001b[38;5;4m 0       \u001b[0m  \u001b[0m\n",
       "  \u001b[38;5;1m 0       \u001b[0m \u001b[38;5;1m 0.2665  \u001b[0m \u001b[38;5;1m 0.9638  \u001b[0m \u001b[38;5;4m 0       \u001b[0m  \u001b[0m\n",
       "  \u001b[38;5;244m 0       \u001b[0m \u001b[38;5;244m 0       \u001b[0m \u001b[38;5;244m 0       \u001b[0m \u001b[38;5;244m 1       \u001b[0m  \u001b[0m\n",
       "18:\n",
       "  \u001b[38;5;1m 1       \u001b[0m \u001b[38;5;1m 0       \u001b[0m \u001b[38;5;1m 0       \u001b[0m \u001b[38;5;4m 0       \u001b[0m  \u001b[0m\n",
       "  \u001b[38;5;1m 0       \u001b[0m \u001b[38;5;1m 0.9595  \u001b[0m \u001b[38;5;1m-0.2817  \u001b[0m \u001b[38;5;4m 0       \u001b[0m  \u001b[0m\n",
       "  \u001b[38;5;1m 0       \u001b[0m \u001b[38;5;1m 0.2817  \u001b[0m \u001b[38;5;1m 0.9595  \u001b[0m \u001b[38;5;4m 0       \u001b[0m  \u001b[0m\n",
       "  \u001b[38;5;244m 0       \u001b[0m \u001b[38;5;244m 0       \u001b[0m \u001b[38;5;244m 0       \u001b[0m \u001b[38;5;244m 1       \u001b[0m  \u001b[0m\n",
       "19:\n",
       "  \u001b[38;5;1m 1       \u001b[0m \u001b[38;5;1m 0       \u001b[0m \u001b[38;5;1m 0       \u001b[0m \u001b[38;5;4m 0       \u001b[0m  \u001b[0m\n",
       "  \u001b[38;5;1m 0       \u001b[0m \u001b[38;5;1m 0.9549  \u001b[0m \u001b[38;5;1m-0.2969  \u001b[0m \u001b[38;5;4m 0       \u001b[0m  \u001b[0m\n",
       "  \u001b[38;5;1m 0       \u001b[0m \u001b[38;5;1m 0.2969  \u001b[0m \u001b[38;5;1m 0.9549  \u001b[0m \u001b[38;5;4m 0       \u001b[0m  \u001b[0m\n",
       "  \u001b[38;5;244m 0       \u001b[0m \u001b[38;5;244m 0       \u001b[0m \u001b[38;5;244m 0       \u001b[0m \u001b[38;5;244m 1       \u001b[0m  \u001b[0m\n",
       "20:\n",
       "  \u001b[38;5;1m 1       \u001b[0m \u001b[38;5;1m 0       \u001b[0m \u001b[38;5;1m 0       \u001b[0m \u001b[38;5;4m 0       \u001b[0m  \u001b[0m\n",
       "  \u001b[38;5;1m 0       \u001b[0m \u001b[38;5;1m 0.9501  \u001b[0m \u001b[38;5;1m-0.312   \u001b[0m \u001b[38;5;4m 0       \u001b[0m  \u001b[0m\n",
       "  \u001b[38;5;1m 0       \u001b[0m \u001b[38;5;1m 0.312   \u001b[0m \u001b[38;5;1m 0.9501  \u001b[0m \u001b[38;5;4m 0       \u001b[0m  \u001b[0m\n",
       "  \u001b[38;5;244m 0       \u001b[0m \u001b[38;5;244m 0       \u001b[0m \u001b[38;5;244m 0       \u001b[0m \u001b[38;5;244m 1       \u001b[0m  \u001b[0m\n",
       "21:\n",
       "  \u001b[38;5;1m 1       \u001b[0m \u001b[38;5;1m 0       \u001b[0m \u001b[38;5;1m 0       \u001b[0m \u001b[38;5;4m 0       \u001b[0m  \u001b[0m\n",
       "  \u001b[38;5;1m 0       \u001b[0m \u001b[38;5;1m 0.945   \u001b[0m \u001b[38;5;1m-0.3271  \u001b[0m \u001b[38;5;4m 0       \u001b[0m  \u001b[0m\n",
       "  \u001b[38;5;1m 0       \u001b[0m \u001b[38;5;1m 0.3271  \u001b[0m \u001b[38;5;1m 0.945   \u001b[0m \u001b[38;5;4m 0       \u001b[0m  \u001b[0m\n",
       "  \u001b[38;5;244m 0       \u001b[0m \u001b[38;5;244m 0       \u001b[0m \u001b[38;5;244m 0       \u001b[0m \u001b[38;5;244m 1       \u001b[0m  \u001b[0m\n",
       "22:\n",
       "  \u001b[38;5;1m 1       \u001b[0m \u001b[38;5;1m 0       \u001b[0m \u001b[38;5;1m 0       \u001b[0m \u001b[38;5;4m 0       \u001b[0m  \u001b[0m\n",
       "  \u001b[38;5;1m 0       \u001b[0m \u001b[38;5;1m 0.9397  \u001b[0m \u001b[38;5;1m-0.342   \u001b[0m \u001b[38;5;4m 0       \u001b[0m  \u001b[0m\n",
       "  \u001b[38;5;1m 0       \u001b[0m \u001b[38;5;1m 0.342   \u001b[0m \u001b[38;5;1m 0.9397  \u001b[0m \u001b[38;5;4m 0       \u001b[0m  \u001b[0m\n",
       "  \u001b[38;5;244m 0       \u001b[0m \u001b[38;5;244m 0       \u001b[0m \u001b[38;5;244m 0       \u001b[0m \u001b[38;5;244m 1       \u001b[0m  \u001b[0m\n",
       "23:\n",
       "  \u001b[38;5;1m 1       \u001b[0m \u001b[38;5;1m 0       \u001b[0m \u001b[38;5;1m 0       \u001b[0m \u001b[38;5;4m 0       \u001b[0m  \u001b[0m\n",
       "  \u001b[38;5;1m 0       \u001b[0m \u001b[38;5;1m 0.9341  \u001b[0m \u001b[38;5;1m-0.3569  \u001b[0m \u001b[38;5;4m 0       \u001b[0m  \u001b[0m\n",
       "  \u001b[38;5;1m 0       \u001b[0m \u001b[38;5;1m 0.3569  \u001b[0m \u001b[38;5;1m 0.9341  \u001b[0m \u001b[38;5;4m 0       \u001b[0m  \u001b[0m\n",
       "  \u001b[38;5;244m 0       \u001b[0m \u001b[38;5;244m 0       \u001b[0m \u001b[38;5;244m 0       \u001b[0m \u001b[38;5;244m 1       \u001b[0m  \u001b[0m\n",
       "24:\n",
       "  \u001b[38;5;1m 1       \u001b[0m \u001b[38;5;1m 0       \u001b[0m \u001b[38;5;1m 0       \u001b[0m \u001b[38;5;4m 0       \u001b[0m  \u001b[0m\n",
       "  \u001b[38;5;1m 0       \u001b[0m \u001b[38;5;1m 0.9284  \u001b[0m \u001b[38;5;1m-0.3717  \u001b[0m \u001b[38;5;4m 0       \u001b[0m  \u001b[0m\n",
       "  \u001b[38;5;1m 0       \u001b[0m \u001b[38;5;1m 0.3717  \u001b[0m \u001b[38;5;1m 0.9284  \u001b[0m \u001b[38;5;4m 0       \u001b[0m  \u001b[0m\n",
       "  \u001b[38;5;244m 0       \u001b[0m \u001b[38;5;244m 0       \u001b[0m \u001b[38;5;244m 0       \u001b[0m \u001b[38;5;244m 1       \u001b[0m  \u001b[0m\n",
       "25:\n",
       "  \u001b[38;5;1m 1       \u001b[0m \u001b[38;5;1m 0       \u001b[0m \u001b[38;5;1m 0       \u001b[0m \u001b[38;5;4m 0       \u001b[0m  \u001b[0m\n",
       "  \u001b[38;5;1m 0       \u001b[0m \u001b[38;5;1m 0.9224  \u001b[0m \u001b[38;5;1m-0.3863  \u001b[0m \u001b[38;5;4m 0       \u001b[0m  \u001b[0m\n",
       "  \u001b[38;5;1m 0       \u001b[0m \u001b[38;5;1m 0.3863  \u001b[0m \u001b[38;5;1m 0.9224  \u001b[0m \u001b[38;5;4m 0       \u001b[0m  \u001b[0m\n",
       "  \u001b[38;5;244m 0       \u001b[0m \u001b[38;5;244m 0       \u001b[0m \u001b[38;5;244m 0       \u001b[0m \u001b[38;5;244m 1       \u001b[0m  \u001b[0m\n",
       "26:\n",
       "  \u001b[38;5;1m 1       \u001b[0m \u001b[38;5;1m 0       \u001b[0m \u001b[38;5;1m 0       \u001b[0m \u001b[38;5;4m 0       \u001b[0m  \u001b[0m\n",
       "  \u001b[38;5;1m 0       \u001b[0m \u001b[38;5;1m 0.9161  \u001b[0m \u001b[38;5;1m-0.4009  \u001b[0m \u001b[38;5;4m 0       \u001b[0m  \u001b[0m\n",
       "  \u001b[38;5;1m 0       \u001b[0m \u001b[38;5;1m 0.4009  \u001b[0m \u001b[38;5;1m 0.9161  \u001b[0m \u001b[38;5;4m 0       \u001b[0m  \u001b[0m\n",
       "  \u001b[38;5;244m 0       \u001b[0m \u001b[38;5;244m 0       \u001b[0m \u001b[38;5;244m 0       \u001b[0m \u001b[38;5;244m 1       \u001b[0m  \u001b[0m\n",
       "27:\n",
       "  \u001b[38;5;1m 1       \u001b[0m \u001b[38;5;1m 0       \u001b[0m \u001b[38;5;1m 0       \u001b[0m \u001b[38;5;4m 0       \u001b[0m  \u001b[0m\n",
       "  \u001b[38;5;1m 0       \u001b[0m \u001b[38;5;1m 0.9096  \u001b[0m \u001b[38;5;1m-0.4154  \u001b[0m \u001b[38;5;4m 0       \u001b[0m  \u001b[0m\n",
       "  \u001b[38;5;1m 0       \u001b[0m \u001b[38;5;1m 0.4154  \u001b[0m \u001b[38;5;1m 0.9096  \u001b[0m \u001b[38;5;4m 0       \u001b[0m  \u001b[0m\n",
       "  \u001b[38;5;244m 0       \u001b[0m \u001b[38;5;244m 0       \u001b[0m \u001b[38;5;244m 0       \u001b[0m \u001b[38;5;244m 1       \u001b[0m  \u001b[0m\n",
       "28:\n",
       "  \u001b[38;5;1m 1       \u001b[0m \u001b[38;5;1m 0       \u001b[0m \u001b[38;5;1m 0       \u001b[0m \u001b[38;5;4m 0       \u001b[0m  \u001b[0m\n",
       "  \u001b[38;5;1m 0       \u001b[0m \u001b[38;5;1m 0.9029  \u001b[0m \u001b[38;5;1m-0.4298  \u001b[0m \u001b[38;5;4m 0       \u001b[0m  \u001b[0m\n",
       "  \u001b[38;5;1m 0       \u001b[0m \u001b[38;5;1m 0.4298  \u001b[0m \u001b[38;5;1m 0.9029  \u001b[0m \u001b[38;5;4m 0       \u001b[0m  \u001b[0m\n",
       "  \u001b[38;5;244m 0       \u001b[0m \u001b[38;5;244m 0       \u001b[0m \u001b[38;5;244m 0       \u001b[0m \u001b[38;5;244m 1       \u001b[0m  \u001b[0m\n",
       "29:\n",
       "  \u001b[38;5;1m 1       \u001b[0m \u001b[38;5;1m 0       \u001b[0m \u001b[38;5;1m 0       \u001b[0m \u001b[38;5;4m 0       \u001b[0m  \u001b[0m\n",
       "  \u001b[38;5;1m 0       \u001b[0m \u001b[38;5;1m 0.896   \u001b[0m \u001b[38;5;1m-0.4441  \u001b[0m \u001b[38;5;4m 0       \u001b[0m  \u001b[0m\n",
       "  \u001b[38;5;1m 0       \u001b[0m \u001b[38;5;1m 0.4441  \u001b[0m \u001b[38;5;1m 0.896   \u001b[0m \u001b[38;5;4m 0       \u001b[0m  \u001b[0m\n",
       "  \u001b[38;5;244m 0       \u001b[0m \u001b[38;5;244m 0       \u001b[0m \u001b[38;5;244m 0       \u001b[0m \u001b[38;5;244m 1       \u001b[0m  \u001b[0m\n",
       "30:\n",
       "  \u001b[38;5;1m 1       \u001b[0m \u001b[38;5;1m 0       \u001b[0m \u001b[38;5;1m 0       \u001b[0m \u001b[38;5;4m 0       \u001b[0m  \u001b[0m\n",
       "  \u001b[38;5;1m 0       \u001b[0m \u001b[38;5;1m 0.8888  \u001b[0m \u001b[38;5;1m-0.4582  \u001b[0m \u001b[38;5;4m 0       \u001b[0m  \u001b[0m\n",
       "  \u001b[38;5;1m 0       \u001b[0m \u001b[38;5;1m 0.4582  \u001b[0m \u001b[38;5;1m 0.8888  \u001b[0m \u001b[38;5;4m 0       \u001b[0m  \u001b[0m\n",
       "  \u001b[38;5;244m 0       \u001b[0m \u001b[38;5;244m 0       \u001b[0m \u001b[38;5;244m 0       \u001b[0m \u001b[38;5;244m 1       \u001b[0m  \u001b[0m\n",
       "31:\n",
       "  \u001b[38;5;1m 1       \u001b[0m \u001b[38;5;1m 0       \u001b[0m \u001b[38;5;1m 0       \u001b[0m \u001b[38;5;4m 0       \u001b[0m  \u001b[0m\n",
       "  \u001b[38;5;1m 0       \u001b[0m \u001b[38;5;1m 0.8815  \u001b[0m \u001b[38;5;1m-0.4723  \u001b[0m \u001b[38;5;4m 0       \u001b[0m  \u001b[0m\n",
       "  \u001b[38;5;1m 0       \u001b[0m \u001b[38;5;1m 0.4723  \u001b[0m \u001b[38;5;1m 0.8815  \u001b[0m \u001b[38;5;4m 0       \u001b[0m  \u001b[0m\n",
       "  \u001b[38;5;244m 0       \u001b[0m \u001b[38;5;244m 0       \u001b[0m \u001b[38;5;244m 0       \u001b[0m \u001b[38;5;244m 1       \u001b[0m  \u001b[0m\n",
       "32:\n",
       "  \u001b[38;5;1m 1       \u001b[0m \u001b[38;5;1m 0       \u001b[0m \u001b[38;5;1m 0       \u001b[0m \u001b[38;5;4m 0       \u001b[0m  \u001b[0m\n",
       "  \u001b[38;5;1m 0       \u001b[0m \u001b[38;5;1m 0.8738  \u001b[0m \u001b[38;5;1m-0.4862  \u001b[0m \u001b[38;5;4m 0       \u001b[0m  \u001b[0m\n",
       "  \u001b[38;5;1m 0       \u001b[0m \u001b[38;5;1m 0.4862  \u001b[0m \u001b[38;5;1m 0.8738  \u001b[0m \u001b[38;5;4m 0       \u001b[0m  \u001b[0m\n",
       "  \u001b[38;5;244m 0       \u001b[0m \u001b[38;5;244m 0       \u001b[0m \u001b[38;5;244m 0       \u001b[0m \u001b[38;5;244m 1       \u001b[0m  \u001b[0m\n",
       "33:\n",
       "  \u001b[38;5;1m 1       \u001b[0m \u001b[38;5;1m 0       \u001b[0m \u001b[38;5;1m 0       \u001b[0m \u001b[38;5;4m 0       \u001b[0m  \u001b[0m\n",
       "  \u001b[38;5;1m 0       \u001b[0m \u001b[38;5;1m 0.866   \u001b[0m \u001b[38;5;1m-0.5     \u001b[0m \u001b[38;5;4m 0       \u001b[0m  \u001b[0m\n",
       "  \u001b[38;5;1m 0       \u001b[0m \u001b[38;5;1m 0.5     \u001b[0m \u001b[38;5;1m 0.866   \u001b[0m \u001b[38;5;4m 0       \u001b[0m  \u001b[0m\n",
       "  \u001b[38;5;244m 0       \u001b[0m \u001b[38;5;244m 0       \u001b[0m \u001b[38;5;244m 0       \u001b[0m \u001b[38;5;244m 1       \u001b[0m  \u001b[0m\n",
       "34:\n",
       "  \u001b[38;5;1m 1       \u001b[0m \u001b[38;5;1m 0       \u001b[0m \u001b[38;5;1m 0       \u001b[0m \u001b[38;5;4m 0       \u001b[0m  \u001b[0m\n",
       "  \u001b[38;5;1m 0       \u001b[0m \u001b[38;5;1m 0.858   \u001b[0m \u001b[38;5;1m-0.5137  \u001b[0m \u001b[38;5;4m 0       \u001b[0m  \u001b[0m\n",
       "  \u001b[38;5;1m 0       \u001b[0m \u001b[38;5;1m 0.5137  \u001b[0m \u001b[38;5;1m 0.858   \u001b[0m \u001b[38;5;4m 0       \u001b[0m  \u001b[0m\n",
       "  \u001b[38;5;244m 0       \u001b[0m \u001b[38;5;244m 0       \u001b[0m \u001b[38;5;244m 0       \u001b[0m \u001b[38;5;244m 1       \u001b[0m  \u001b[0m\n",
       "35:\n",
       "  \u001b[38;5;1m 1       \u001b[0m \u001b[38;5;1m 0       \u001b[0m \u001b[38;5;1m 0       \u001b[0m \u001b[38;5;4m 0       \u001b[0m  \u001b[0m\n",
       "  \u001b[38;5;1m 0       \u001b[0m \u001b[38;5;1m 0.8497  \u001b[0m \u001b[38;5;1m-0.5272  \u001b[0m \u001b[38;5;4m 0       \u001b[0m  \u001b[0m\n",
       "  \u001b[38;5;1m 0       \u001b[0m \u001b[38;5;1m 0.5272  \u001b[0m \u001b[38;5;1m 0.8497  \u001b[0m \u001b[38;5;4m 0       \u001b[0m  \u001b[0m\n",
       "  \u001b[38;5;244m 0       \u001b[0m \u001b[38;5;244m 0       \u001b[0m \u001b[38;5;244m 0       \u001b[0m \u001b[38;5;244m 1       \u001b[0m  \u001b[0m\n",
       "36:\n",
       "  \u001b[38;5;1m 1       \u001b[0m \u001b[38;5;1m 0       \u001b[0m \u001b[38;5;1m 0       \u001b[0m \u001b[38;5;4m 0       \u001b[0m  \u001b[0m\n",
       "  \u001b[38;5;1m 0       \u001b[0m \u001b[38;5;1m 0.8413  \u001b[0m \u001b[38;5;1m-0.5406  \u001b[0m \u001b[38;5;4m 0       \u001b[0m  \u001b[0m\n",
       "  \u001b[38;5;1m 0       \u001b[0m \u001b[38;5;1m 0.5406  \u001b[0m \u001b[38;5;1m 0.8413  \u001b[0m \u001b[38;5;4m 0       \u001b[0m  \u001b[0m\n",
       "  \u001b[38;5;244m 0       \u001b[0m \u001b[38;5;244m 0       \u001b[0m \u001b[38;5;244m 0       \u001b[0m \u001b[38;5;244m 1       \u001b[0m  \u001b[0m\n",
       "37:\n",
       "  \u001b[38;5;1m 1       \u001b[0m \u001b[38;5;1m 0       \u001b[0m \u001b[38;5;1m 0       \u001b[0m \u001b[38;5;4m 0       \u001b[0m  \u001b[0m\n",
       "  \u001b[38;5;1m 0       \u001b[0m \u001b[38;5;1m 0.8326  \u001b[0m \u001b[38;5;1m-0.5539  \u001b[0m \u001b[38;5;4m 0       \u001b[0m  \u001b[0m\n",
       "  \u001b[38;5;1m 0       \u001b[0m \u001b[38;5;1m 0.5539  \u001b[0m \u001b[38;5;1m 0.8326  \u001b[0m \u001b[38;5;4m 0       \u001b[0m  \u001b[0m\n",
       "  \u001b[38;5;244m 0       \u001b[0m \u001b[38;5;244m 0       \u001b[0m \u001b[38;5;244m 0       \u001b[0m \u001b[38;5;244m 1       \u001b[0m  \u001b[0m\n",
       "38:\n",
       "  \u001b[38;5;1m 1       \u001b[0m \u001b[38;5;1m 0       \u001b[0m \u001b[38;5;1m 0       \u001b[0m \u001b[38;5;4m 0       \u001b[0m  \u001b[0m\n",
       "  \u001b[38;5;1m 0       \u001b[0m \u001b[38;5;1m 0.8237  \u001b[0m \u001b[38;5;1m-0.5671  \u001b[0m \u001b[38;5;4m 0       \u001b[0m  \u001b[0m\n",
       "  \u001b[38;5;1m 0       \u001b[0m \u001b[38;5;1m 0.5671  \u001b[0m \u001b[38;5;1m 0.8237  \u001b[0m \u001b[38;5;4m 0       \u001b[0m  \u001b[0m\n",
       "  \u001b[38;5;244m 0       \u001b[0m \u001b[38;5;244m 0       \u001b[0m \u001b[38;5;244m 0       \u001b[0m \u001b[38;5;244m 1       \u001b[0m  \u001b[0m\n",
       "39:\n",
       "  \u001b[38;5;1m 1       \u001b[0m \u001b[38;5;1m 0       \u001b[0m \u001b[38;5;1m 0       \u001b[0m \u001b[38;5;4m 0       \u001b[0m  \u001b[0m\n",
       "  \u001b[38;5;1m 0       \u001b[0m \u001b[38;5;1m 0.8146  \u001b[0m \u001b[38;5;1m-0.5801  \u001b[0m \u001b[38;5;4m 0       \u001b[0m  \u001b[0m\n",
       "  \u001b[38;5;1m 0       \u001b[0m \u001b[38;5;1m 0.5801  \u001b[0m \u001b[38;5;1m 0.8146  \u001b[0m \u001b[38;5;4m 0       \u001b[0m  \u001b[0m\n",
       "  \u001b[38;5;244m 0       \u001b[0m \u001b[38;5;244m 0       \u001b[0m \u001b[38;5;244m 0       \u001b[0m \u001b[38;5;244m 1       \u001b[0m  \u001b[0m\n",
       "40:\n",
       "  \u001b[38;5;1m 1       \u001b[0m \u001b[38;5;1m 0       \u001b[0m \u001b[38;5;1m 0       \u001b[0m \u001b[38;5;4m 0       \u001b[0m  \u001b[0m\n",
       "  \u001b[38;5;1m 0       \u001b[0m \u001b[38;5;1m 0.8053  \u001b[0m \u001b[38;5;1m-0.5929  \u001b[0m \u001b[38;5;4m 0       \u001b[0m  \u001b[0m\n",
       "  \u001b[38;5;1m 0       \u001b[0m \u001b[38;5;1m 0.5929  \u001b[0m \u001b[38;5;1m 0.8053  \u001b[0m \u001b[38;5;4m 0       \u001b[0m  \u001b[0m\n",
       "  \u001b[38;5;244m 0       \u001b[0m \u001b[38;5;244m 0       \u001b[0m \u001b[38;5;244m 0       \u001b[0m \u001b[38;5;244m 1       \u001b[0m  \u001b[0m\n",
       "41:\n",
       "  \u001b[38;5;1m 1       \u001b[0m \u001b[38;5;1m 0       \u001b[0m \u001b[38;5;1m 0       \u001b[0m \u001b[38;5;4m 0       \u001b[0m  \u001b[0m\n",
       "  \u001b[38;5;1m 0       \u001b[0m \u001b[38;5;1m 0.7958  \u001b[0m \u001b[38;5;1m-0.6056  \u001b[0m \u001b[38;5;4m 0       \u001b[0m  \u001b[0m\n",
       "  \u001b[38;5;1m 0       \u001b[0m \u001b[38;5;1m 0.6056  \u001b[0m \u001b[38;5;1m 0.7958  \u001b[0m \u001b[38;5;4m 0       \u001b[0m  \u001b[0m\n",
       "  \u001b[38;5;244m 0       \u001b[0m \u001b[38;5;244m 0       \u001b[0m \u001b[38;5;244m 0       \u001b[0m \u001b[38;5;244m 1       \u001b[0m  \u001b[0m\n",
       "42:\n",
       "  \u001b[38;5;1m 1       \u001b[0m \u001b[38;5;1m 0       \u001b[0m \u001b[38;5;1m 0       \u001b[0m \u001b[38;5;4m 0       \u001b[0m  \u001b[0m\n",
       "  \u001b[38;5;1m 0       \u001b[0m \u001b[38;5;1m 0.7861  \u001b[0m \u001b[38;5;1m-0.6182  \u001b[0m \u001b[38;5;4m 0       \u001b[0m  \u001b[0m\n",
       "  \u001b[38;5;1m 0       \u001b[0m \u001b[38;5;1m 0.6182  \u001b[0m \u001b[38;5;1m 0.7861  \u001b[0m \u001b[38;5;4m 0       \u001b[0m  \u001b[0m\n",
       "  \u001b[38;5;244m 0       \u001b[0m \u001b[38;5;244m 0       \u001b[0m \u001b[38;5;244m 0       \u001b[0m \u001b[38;5;244m 1       \u001b[0m  \u001b[0m\n",
       "43:\n",
       "  \u001b[38;5;1m 1       \u001b[0m \u001b[38;5;1m 0       \u001b[0m \u001b[38;5;1m 0       \u001b[0m \u001b[38;5;4m 0       \u001b[0m  \u001b[0m\n",
       "  \u001b[38;5;1m 0       \u001b[0m \u001b[38;5;1m 0.7761  \u001b[0m \u001b[38;5;1m-0.6306  \u001b[0m \u001b[38;5;4m 0       \u001b[0m  \u001b[0m\n",
       "  \u001b[38;5;1m 0       \u001b[0m \u001b[38;5;1m 0.6306  \u001b[0m \u001b[38;5;1m 0.7761  \u001b[0m \u001b[38;5;4m 0       \u001b[0m  \u001b[0m\n",
       "  \u001b[38;5;244m 0       \u001b[0m \u001b[38;5;244m 0       \u001b[0m \u001b[38;5;244m 0       \u001b[0m \u001b[38;5;244m 1       \u001b[0m  \u001b[0m\n",
       "44:\n",
       "  \u001b[38;5;1m 1       \u001b[0m \u001b[38;5;1m 0       \u001b[0m \u001b[38;5;1m 0       \u001b[0m \u001b[38;5;4m 0       \u001b[0m  \u001b[0m\n",
       "  \u001b[38;5;1m 0       \u001b[0m \u001b[38;5;1m 0.766   \u001b[0m \u001b[38;5;1m-0.6428  \u001b[0m \u001b[38;5;4m 0       \u001b[0m  \u001b[0m\n",
       "  \u001b[38;5;1m 0       \u001b[0m \u001b[38;5;1m 0.6428  \u001b[0m \u001b[38;5;1m 0.766   \u001b[0m \u001b[38;5;4m 0       \u001b[0m  \u001b[0m\n",
       "  \u001b[38;5;244m 0       \u001b[0m \u001b[38;5;244m 0       \u001b[0m \u001b[38;5;244m 0       \u001b[0m \u001b[38;5;244m 1       \u001b[0m  \u001b[0m\n",
       "45:\n",
       "  \u001b[38;5;1m 1       \u001b[0m \u001b[38;5;1m 0       \u001b[0m \u001b[38;5;1m 0       \u001b[0m \u001b[38;5;4m 0       \u001b[0m  \u001b[0m\n",
       "  \u001b[38;5;1m 0       \u001b[0m \u001b[38;5;1m 0.7557  \u001b[0m \u001b[38;5;1m-0.6549  \u001b[0m \u001b[38;5;4m 0       \u001b[0m  \u001b[0m\n",
       "  \u001b[38;5;1m 0       \u001b[0m \u001b[38;5;1m 0.6549  \u001b[0m \u001b[38;5;1m 0.7557  \u001b[0m \u001b[38;5;4m 0       \u001b[0m  \u001b[0m\n",
       "  \u001b[38;5;244m 0       \u001b[0m \u001b[38;5;244m 0       \u001b[0m \u001b[38;5;244m 0       \u001b[0m \u001b[38;5;244m 1       \u001b[0m  \u001b[0m\n",
       "46:\n",
       "  \u001b[38;5;1m 1       \u001b[0m \u001b[38;5;1m 0       \u001b[0m \u001b[38;5;1m 0       \u001b[0m \u001b[38;5;4m 0       \u001b[0m  \u001b[0m\n",
       "  \u001b[38;5;1m 0       \u001b[0m \u001b[38;5;1m 0.7453  \u001b[0m \u001b[38;5;1m-0.6668  \u001b[0m \u001b[38;5;4m 0       \u001b[0m  \u001b[0m\n",
       "  \u001b[38;5;1m 0       \u001b[0m \u001b[38;5;1m 0.6668  \u001b[0m \u001b[38;5;1m 0.7453  \u001b[0m \u001b[38;5;4m 0       \u001b[0m  \u001b[0m\n",
       "  \u001b[38;5;244m 0       \u001b[0m \u001b[38;5;244m 0       \u001b[0m \u001b[38;5;244m 0       \u001b[0m \u001b[38;5;244m 1       \u001b[0m  \u001b[0m\n",
       "47:\n",
       "  \u001b[38;5;1m 1       \u001b[0m \u001b[38;5;1m 0       \u001b[0m \u001b[38;5;1m 0       \u001b[0m \u001b[38;5;4m 0       \u001b[0m  \u001b[0m\n",
       "  \u001b[38;5;1m 0       \u001b[0m \u001b[38;5;1m 0.7346  \u001b[0m \u001b[38;5;1m-0.6785  \u001b[0m \u001b[38;5;4m 0       \u001b[0m  \u001b[0m\n",
       "  \u001b[38;5;1m 0       \u001b[0m \u001b[38;5;1m 0.6785  \u001b[0m \u001b[38;5;1m 0.7346  \u001b[0m \u001b[38;5;4m 0       \u001b[0m  \u001b[0m\n",
       "  \u001b[38;5;244m 0       \u001b[0m \u001b[38;5;244m 0       \u001b[0m \u001b[38;5;244m 0       \u001b[0m \u001b[38;5;244m 1       \u001b[0m  \u001b[0m\n",
       "48:\n",
       "  \u001b[38;5;1m 1       \u001b[0m \u001b[38;5;1m 0       \u001b[0m \u001b[38;5;1m 0       \u001b[0m \u001b[38;5;4m 0       \u001b[0m  \u001b[0m\n",
       "  \u001b[38;5;1m 0       \u001b[0m \u001b[38;5;1m 0.7237  \u001b[0m \u001b[38;5;1m-0.6901  \u001b[0m \u001b[38;5;4m 0       \u001b[0m  \u001b[0m\n",
       "  \u001b[38;5;1m 0       \u001b[0m \u001b[38;5;1m 0.6901  \u001b[0m \u001b[38;5;1m 0.7237  \u001b[0m \u001b[38;5;4m 0       \u001b[0m  \u001b[0m\n",
       "  \u001b[38;5;244m 0       \u001b[0m \u001b[38;5;244m 0       \u001b[0m \u001b[38;5;244m 0       \u001b[0m \u001b[38;5;244m 1       \u001b[0m  \u001b[0m\n",
       "49:\n",
       "  \u001b[38;5;1m 1       \u001b[0m \u001b[38;5;1m 0       \u001b[0m \u001b[38;5;1m 0       \u001b[0m \u001b[38;5;4m 0       \u001b[0m  \u001b[0m\n",
       "  \u001b[38;5;1m 0       \u001b[0m \u001b[38;5;1m 0.7127  \u001b[0m \u001b[38;5;1m-0.7015  \u001b[0m \u001b[38;5;4m 0       \u001b[0m  \u001b[0m\n",
       "  \u001b[38;5;1m 0       \u001b[0m \u001b[38;5;1m 0.7015  \u001b[0m \u001b[38;5;1m 0.7127  \u001b[0m \u001b[38;5;4m 0       \u001b[0m  \u001b[0m\n",
       "  \u001b[38;5;244m 0       \u001b[0m \u001b[38;5;244m 0       \u001b[0m \u001b[38;5;244m 0       \u001b[0m \u001b[38;5;244m 1       \u001b[0m  \u001b[0m\n",
       "50:\n",
       "  \u001b[38;5;1m 1       \u001b[0m \u001b[38;5;1m 0       \u001b[0m \u001b[38;5;1m 0       \u001b[0m \u001b[38;5;4m 0       \u001b[0m  \u001b[0m\n",
       "  \u001b[38;5;1m 0       \u001b[0m \u001b[38;5;1m 0.7015  \u001b[0m \u001b[38;5;1m-0.7127  \u001b[0m \u001b[38;5;4m 0       \u001b[0m  \u001b[0m\n",
       "  \u001b[38;5;1m 0       \u001b[0m \u001b[38;5;1m 0.7127  \u001b[0m \u001b[38;5;1m 0.7015  \u001b[0m \u001b[38;5;4m 0       \u001b[0m  \u001b[0m\n",
       "  \u001b[38;5;244m 0       \u001b[0m \u001b[38;5;244m 0       \u001b[0m \u001b[38;5;244m 0       \u001b[0m \u001b[38;5;244m 1       \u001b[0m  \u001b[0m\n",
       "51:\n",
       "  \u001b[38;5;1m 1       \u001b[0m \u001b[38;5;1m 0       \u001b[0m \u001b[38;5;1m 0       \u001b[0m \u001b[38;5;4m 0       \u001b[0m  \u001b[0m\n",
       "  \u001b[38;5;1m 0       \u001b[0m \u001b[38;5;1m 0.6901  \u001b[0m \u001b[38;5;1m-0.7237  \u001b[0m \u001b[38;5;4m 0       \u001b[0m  \u001b[0m\n",
       "  \u001b[38;5;1m 0       \u001b[0m \u001b[38;5;1m 0.7237  \u001b[0m \u001b[38;5;1m 0.6901  \u001b[0m \u001b[38;5;4m 0       \u001b[0m  \u001b[0m\n",
       "  \u001b[38;5;244m 0       \u001b[0m \u001b[38;5;244m 0       \u001b[0m \u001b[38;5;244m 0       \u001b[0m \u001b[38;5;244m 1       \u001b[0m  \u001b[0m\n",
       "52:\n",
       "  \u001b[38;5;1m 1       \u001b[0m \u001b[38;5;1m 0       \u001b[0m \u001b[38;5;1m 0       \u001b[0m \u001b[38;5;4m 0       \u001b[0m  \u001b[0m\n",
       "  \u001b[38;5;1m 0       \u001b[0m \u001b[38;5;1m 0.6785  \u001b[0m \u001b[38;5;1m-0.7346  \u001b[0m \u001b[38;5;4m 0       \u001b[0m  \u001b[0m\n",
       "  \u001b[38;5;1m 0       \u001b[0m \u001b[38;5;1m 0.7346  \u001b[0m \u001b[38;5;1m 0.6785  \u001b[0m \u001b[38;5;4m 0       \u001b[0m  \u001b[0m\n",
       "  \u001b[38;5;244m 0       \u001b[0m \u001b[38;5;244m 0       \u001b[0m \u001b[38;5;244m 0       \u001b[0m \u001b[38;5;244m 1       \u001b[0m  \u001b[0m\n",
       "53:\n",
       "  \u001b[38;5;1m 1       \u001b[0m \u001b[38;5;1m 0       \u001b[0m \u001b[38;5;1m 0       \u001b[0m \u001b[38;5;4m 0       \u001b[0m  \u001b[0m\n",
       "  \u001b[38;5;1m 0       \u001b[0m \u001b[38;5;1m 0.6668  \u001b[0m \u001b[38;5;1m-0.7453  \u001b[0m \u001b[38;5;4m 0       \u001b[0m  \u001b[0m\n",
       "  \u001b[38;5;1m 0       \u001b[0m \u001b[38;5;1m 0.7453  \u001b[0m \u001b[38;5;1m 0.6668  \u001b[0m \u001b[38;5;4m 0       \u001b[0m  \u001b[0m\n",
       "  \u001b[38;5;244m 0       \u001b[0m \u001b[38;5;244m 0       \u001b[0m \u001b[38;5;244m 0       \u001b[0m \u001b[38;5;244m 1       \u001b[0m  \u001b[0m\n",
       "54:\n",
       "  \u001b[38;5;1m 1       \u001b[0m \u001b[38;5;1m 0       \u001b[0m \u001b[38;5;1m 0       \u001b[0m \u001b[38;5;4m 0       \u001b[0m  \u001b[0m\n",
       "  \u001b[38;5;1m 0       \u001b[0m \u001b[38;5;1m 0.6549  \u001b[0m \u001b[38;5;1m-0.7557  \u001b[0m \u001b[38;5;4m 0       \u001b[0m  \u001b[0m\n",
       "  \u001b[38;5;1m 0       \u001b[0m \u001b[38;5;1m 0.7557  \u001b[0m \u001b[38;5;1m 0.6549  \u001b[0m \u001b[38;5;4m 0       \u001b[0m  \u001b[0m\n",
       "  \u001b[38;5;244m 0       \u001b[0m \u001b[38;5;244m 0       \u001b[0m \u001b[38;5;244m 0       \u001b[0m \u001b[38;5;244m 1       \u001b[0m  \u001b[0m\n",
       "55:\n",
       "  \u001b[38;5;1m 1       \u001b[0m \u001b[38;5;1m 0       \u001b[0m \u001b[38;5;1m 0       \u001b[0m \u001b[38;5;4m 0       \u001b[0m  \u001b[0m\n",
       "  \u001b[38;5;1m 0       \u001b[0m \u001b[38;5;1m 0.6428  \u001b[0m \u001b[38;5;1m-0.766   \u001b[0m \u001b[38;5;4m 0       \u001b[0m  \u001b[0m\n",
       "  \u001b[38;5;1m 0       \u001b[0m \u001b[38;5;1m 0.766   \u001b[0m \u001b[38;5;1m 0.6428  \u001b[0m \u001b[38;5;4m 0       \u001b[0m  \u001b[0m\n",
       "  \u001b[38;5;244m 0       \u001b[0m \u001b[38;5;244m 0       \u001b[0m \u001b[38;5;244m 0       \u001b[0m \u001b[38;5;244m 1       \u001b[0m  \u001b[0m\n",
       "56:\n",
       "  \u001b[38;5;1m 1       \u001b[0m \u001b[38;5;1m 0       \u001b[0m \u001b[38;5;1m 0       \u001b[0m \u001b[38;5;4m 0       \u001b[0m  \u001b[0m\n",
       "  \u001b[38;5;1m 0       \u001b[0m \u001b[38;5;1m 0.6306  \u001b[0m \u001b[38;5;1m-0.7761  \u001b[0m \u001b[38;5;4m 0       \u001b[0m  \u001b[0m\n",
       "  \u001b[38;5;1m 0       \u001b[0m \u001b[38;5;1m 0.7761  \u001b[0m \u001b[38;5;1m 0.6306  \u001b[0m \u001b[38;5;4m 0       \u001b[0m  \u001b[0m\n",
       "  \u001b[38;5;244m 0       \u001b[0m \u001b[38;5;244m 0       \u001b[0m \u001b[38;5;244m 0       \u001b[0m \u001b[38;5;244m 1       \u001b[0m  \u001b[0m\n",
       "57:\n",
       "  \u001b[38;5;1m 1       \u001b[0m \u001b[38;5;1m 0       \u001b[0m \u001b[38;5;1m 0       \u001b[0m \u001b[38;5;4m 0       \u001b[0m  \u001b[0m\n",
       "  \u001b[38;5;1m 0       \u001b[0m \u001b[38;5;1m 0.6182  \u001b[0m \u001b[38;5;1m-0.7861  \u001b[0m \u001b[38;5;4m 0       \u001b[0m  \u001b[0m\n",
       "  \u001b[38;5;1m 0       \u001b[0m \u001b[38;5;1m 0.7861  \u001b[0m \u001b[38;5;1m 0.6182  \u001b[0m \u001b[38;5;4m 0       \u001b[0m  \u001b[0m\n",
       "  \u001b[38;5;244m 0       \u001b[0m \u001b[38;5;244m 0       \u001b[0m \u001b[38;5;244m 0       \u001b[0m \u001b[38;5;244m 1       \u001b[0m  \u001b[0m\n",
       "58:\n",
       "  \u001b[38;5;1m 1       \u001b[0m \u001b[38;5;1m 0       \u001b[0m \u001b[38;5;1m 0       \u001b[0m \u001b[38;5;4m 0       \u001b[0m  \u001b[0m\n",
       "  \u001b[38;5;1m 0       \u001b[0m \u001b[38;5;1m 0.6056  \u001b[0m \u001b[38;5;1m-0.7958  \u001b[0m \u001b[38;5;4m 0       \u001b[0m  \u001b[0m\n",
       "  \u001b[38;5;1m 0       \u001b[0m \u001b[38;5;1m 0.7958  \u001b[0m \u001b[38;5;1m 0.6056  \u001b[0m \u001b[38;5;4m 0       \u001b[0m  \u001b[0m\n",
       "  \u001b[38;5;244m 0       \u001b[0m \u001b[38;5;244m 0       \u001b[0m \u001b[38;5;244m 0       \u001b[0m \u001b[38;5;244m 1       \u001b[0m  \u001b[0m\n",
       "59:\n",
       "  \u001b[38;5;1m 1       \u001b[0m \u001b[38;5;1m 0       \u001b[0m \u001b[38;5;1m 0       \u001b[0m \u001b[38;5;4m 0       \u001b[0m  \u001b[0m\n",
       "  \u001b[38;5;1m 0       \u001b[0m \u001b[38;5;1m 0.5929  \u001b[0m \u001b[38;5;1m-0.8053  \u001b[0m \u001b[38;5;4m 0       \u001b[0m  \u001b[0m\n",
       "  \u001b[38;5;1m 0       \u001b[0m \u001b[38;5;1m 0.8053  \u001b[0m \u001b[38;5;1m 0.5929  \u001b[0m \u001b[38;5;4m 0       \u001b[0m  \u001b[0m\n",
       "  \u001b[38;5;244m 0       \u001b[0m \u001b[38;5;244m 0       \u001b[0m \u001b[38;5;244m 0       \u001b[0m \u001b[38;5;244m 1       \u001b[0m  \u001b[0m\n",
       "60:\n",
       "  \u001b[38;5;1m 1       \u001b[0m \u001b[38;5;1m 0       \u001b[0m \u001b[38;5;1m 0       \u001b[0m \u001b[38;5;4m 0       \u001b[0m  \u001b[0m\n",
       "  \u001b[38;5;1m 0       \u001b[0m \u001b[38;5;1m 0.5801  \u001b[0m \u001b[38;5;1m-0.8146  \u001b[0m \u001b[38;5;4m 0       \u001b[0m  \u001b[0m\n",
       "  \u001b[38;5;1m 0       \u001b[0m \u001b[38;5;1m 0.8146  \u001b[0m \u001b[38;5;1m 0.5801  \u001b[0m \u001b[38;5;4m 0       \u001b[0m  \u001b[0m\n",
       "  \u001b[38;5;244m 0       \u001b[0m \u001b[38;5;244m 0       \u001b[0m \u001b[38;5;244m 0       \u001b[0m \u001b[38;5;244m 1       \u001b[0m  \u001b[0m\n",
       "61:\n",
       "  \u001b[38;5;1m 1       \u001b[0m \u001b[38;5;1m 0       \u001b[0m \u001b[38;5;1m 0       \u001b[0m \u001b[38;5;4m 0       \u001b[0m  \u001b[0m\n",
       "  \u001b[38;5;1m 0       \u001b[0m \u001b[38;5;1m 0.5671  \u001b[0m \u001b[38;5;1m-0.8237  \u001b[0m \u001b[38;5;4m 0       \u001b[0m  \u001b[0m\n",
       "  \u001b[38;5;1m 0       \u001b[0m \u001b[38;5;1m 0.8237  \u001b[0m \u001b[38;5;1m 0.5671  \u001b[0m \u001b[38;5;4m 0       \u001b[0m  \u001b[0m\n",
       "  \u001b[38;5;244m 0       \u001b[0m \u001b[38;5;244m 0       \u001b[0m \u001b[38;5;244m 0       \u001b[0m \u001b[38;5;244m 1       \u001b[0m  \u001b[0m\n",
       "62:\n",
       "  \u001b[38;5;1m 1       \u001b[0m \u001b[38;5;1m 0       \u001b[0m \u001b[38;5;1m 0       \u001b[0m \u001b[38;5;4m 0       \u001b[0m  \u001b[0m\n",
       "  \u001b[38;5;1m 0       \u001b[0m \u001b[38;5;1m 0.5539  \u001b[0m \u001b[38;5;1m-0.8326  \u001b[0m \u001b[38;5;4m 0       \u001b[0m  \u001b[0m\n",
       "  \u001b[38;5;1m 0       \u001b[0m \u001b[38;5;1m 0.8326  \u001b[0m \u001b[38;5;1m 0.5539  \u001b[0m \u001b[38;5;4m 0       \u001b[0m  \u001b[0m\n",
       "  \u001b[38;5;244m 0       \u001b[0m \u001b[38;5;244m 0       \u001b[0m \u001b[38;5;244m 0       \u001b[0m \u001b[38;5;244m 1       \u001b[0m  \u001b[0m\n",
       "63:\n",
       "  \u001b[38;5;1m 1       \u001b[0m \u001b[38;5;1m 0       \u001b[0m \u001b[38;5;1m 0       \u001b[0m \u001b[38;5;4m 0       \u001b[0m  \u001b[0m\n",
       "  \u001b[38;5;1m 0       \u001b[0m \u001b[38;5;1m 0.5406  \u001b[0m \u001b[38;5;1m-0.8413  \u001b[0m \u001b[38;5;4m 0       \u001b[0m  \u001b[0m\n",
       "  \u001b[38;5;1m 0       \u001b[0m \u001b[38;5;1m 0.8413  \u001b[0m \u001b[38;5;1m 0.5406  \u001b[0m \u001b[38;5;4m 0       \u001b[0m  \u001b[0m\n",
       "  \u001b[38;5;244m 0       \u001b[0m \u001b[38;5;244m 0       \u001b[0m \u001b[38;5;244m 0       \u001b[0m \u001b[38;5;244m 1       \u001b[0m  \u001b[0m\n",
       "64:\n",
       "  \u001b[38;5;1m 1       \u001b[0m \u001b[38;5;1m 0       \u001b[0m \u001b[38;5;1m 0       \u001b[0m \u001b[38;5;4m 0       \u001b[0m  \u001b[0m\n",
       "  \u001b[38;5;1m 0       \u001b[0m \u001b[38;5;1m 0.5272  \u001b[0m \u001b[38;5;1m-0.8497  \u001b[0m \u001b[38;5;4m 0       \u001b[0m  \u001b[0m\n",
       "  \u001b[38;5;1m 0       \u001b[0m \u001b[38;5;1m 0.8497  \u001b[0m \u001b[38;5;1m 0.5272  \u001b[0m \u001b[38;5;4m 0       \u001b[0m  \u001b[0m\n",
       "  \u001b[38;5;244m 0       \u001b[0m \u001b[38;5;244m 0       \u001b[0m \u001b[38;5;244m 0       \u001b[0m \u001b[38;5;244m 1       \u001b[0m  \u001b[0m\n",
       "65:\n",
       "  \u001b[38;5;1m 1       \u001b[0m \u001b[38;5;1m 0       \u001b[0m \u001b[38;5;1m 0       \u001b[0m \u001b[38;5;4m 0       \u001b[0m  \u001b[0m\n",
       "  \u001b[38;5;1m 0       \u001b[0m \u001b[38;5;1m 0.5137  \u001b[0m \u001b[38;5;1m-0.858   \u001b[0m \u001b[38;5;4m 0       \u001b[0m  \u001b[0m\n",
       "  \u001b[38;5;1m 0       \u001b[0m \u001b[38;5;1m 0.858   \u001b[0m \u001b[38;5;1m 0.5137  \u001b[0m \u001b[38;5;4m 0       \u001b[0m  \u001b[0m\n",
       "  \u001b[38;5;244m 0       \u001b[0m \u001b[38;5;244m 0       \u001b[0m \u001b[38;5;244m 0       \u001b[0m \u001b[38;5;244m 1       \u001b[0m  \u001b[0m\n",
       "66:\n",
       "  \u001b[38;5;1m 1       \u001b[0m \u001b[38;5;1m 0       \u001b[0m \u001b[38;5;1m 0       \u001b[0m \u001b[38;5;4m 0       \u001b[0m  \u001b[0m\n",
       "  \u001b[38;5;1m 0       \u001b[0m \u001b[38;5;1m 0.5     \u001b[0m \u001b[38;5;1m-0.866   \u001b[0m \u001b[38;5;4m 0       \u001b[0m  \u001b[0m\n",
       "  \u001b[38;5;1m 0       \u001b[0m \u001b[38;5;1m 0.866   \u001b[0m \u001b[38;5;1m 0.5     \u001b[0m \u001b[38;5;4m 0       \u001b[0m  \u001b[0m\n",
       "  \u001b[38;5;244m 0       \u001b[0m \u001b[38;5;244m 0       \u001b[0m \u001b[38;5;244m 0       \u001b[0m \u001b[38;5;244m 1       \u001b[0m  \u001b[0m\n",
       "67:\n",
       "  \u001b[38;5;1m 1       \u001b[0m \u001b[38;5;1m 0       \u001b[0m \u001b[38;5;1m 0       \u001b[0m \u001b[38;5;4m 0       \u001b[0m  \u001b[0m\n",
       "  \u001b[38;5;1m 0       \u001b[0m \u001b[38;5;1m 0.4862  \u001b[0m \u001b[38;5;1m-0.8738  \u001b[0m \u001b[38;5;4m 0       \u001b[0m  \u001b[0m\n",
       "  \u001b[38;5;1m 0       \u001b[0m \u001b[38;5;1m 0.8738  \u001b[0m \u001b[38;5;1m 0.4862  \u001b[0m \u001b[38;5;4m 0       \u001b[0m  \u001b[0m\n",
       "  \u001b[38;5;244m 0       \u001b[0m \u001b[38;5;244m 0       \u001b[0m \u001b[38;5;244m 0       \u001b[0m \u001b[38;5;244m 1       \u001b[0m  \u001b[0m\n",
       "68:\n",
       "  \u001b[38;5;1m 1       \u001b[0m \u001b[38;5;1m 0       \u001b[0m \u001b[38;5;1m 0       \u001b[0m \u001b[38;5;4m 0       \u001b[0m  \u001b[0m\n",
       "  \u001b[38;5;1m 0       \u001b[0m \u001b[38;5;1m 0.4723  \u001b[0m \u001b[38;5;1m-0.8815  \u001b[0m \u001b[38;5;4m 0       \u001b[0m  \u001b[0m\n",
       "  \u001b[38;5;1m 0       \u001b[0m \u001b[38;5;1m 0.8815  \u001b[0m \u001b[38;5;1m 0.4723  \u001b[0m \u001b[38;5;4m 0       \u001b[0m  \u001b[0m\n",
       "  \u001b[38;5;244m 0       \u001b[0m \u001b[38;5;244m 0       \u001b[0m \u001b[38;5;244m 0       \u001b[0m \u001b[38;5;244m 1       \u001b[0m  \u001b[0m\n",
       "69:\n",
       "  \u001b[38;5;1m 1       \u001b[0m \u001b[38;5;1m 0       \u001b[0m \u001b[38;5;1m 0       \u001b[0m \u001b[38;5;4m 0       \u001b[0m  \u001b[0m\n",
       "  \u001b[38;5;1m 0       \u001b[0m \u001b[38;5;1m 0.4582  \u001b[0m \u001b[38;5;1m-0.8888  \u001b[0m \u001b[38;5;4m 0       \u001b[0m  \u001b[0m\n",
       "  \u001b[38;5;1m 0       \u001b[0m \u001b[38;5;1m 0.8888  \u001b[0m \u001b[38;5;1m 0.4582  \u001b[0m \u001b[38;5;4m 0       \u001b[0m  \u001b[0m\n",
       "  \u001b[38;5;244m 0       \u001b[0m \u001b[38;5;244m 0       \u001b[0m \u001b[38;5;244m 0       \u001b[0m \u001b[38;5;244m 1       \u001b[0m  \u001b[0m\n",
       "70:\n",
       "  \u001b[38;5;1m 1       \u001b[0m \u001b[38;5;1m 0       \u001b[0m \u001b[38;5;1m 0       \u001b[0m \u001b[38;5;4m 0       \u001b[0m  \u001b[0m\n",
       "  \u001b[38;5;1m 0       \u001b[0m \u001b[38;5;1m 0.4441  \u001b[0m \u001b[38;5;1m-0.896   \u001b[0m \u001b[38;5;4m 0       \u001b[0m  \u001b[0m\n",
       "  \u001b[38;5;1m 0       \u001b[0m \u001b[38;5;1m 0.896   \u001b[0m \u001b[38;5;1m 0.4441  \u001b[0m \u001b[38;5;4m 0       \u001b[0m  \u001b[0m\n",
       "  \u001b[38;5;244m 0       \u001b[0m \u001b[38;5;244m 0       \u001b[0m \u001b[38;5;244m 0       \u001b[0m \u001b[38;5;244m 1       \u001b[0m  \u001b[0m\n",
       "71:\n",
       "  \u001b[38;5;1m 1       \u001b[0m \u001b[38;5;1m 0       \u001b[0m \u001b[38;5;1m 0       \u001b[0m \u001b[38;5;4m 0       \u001b[0m  \u001b[0m\n",
       "  \u001b[38;5;1m 0       \u001b[0m \u001b[38;5;1m 0.4298  \u001b[0m \u001b[38;5;1m-0.9029  \u001b[0m \u001b[38;5;4m 0       \u001b[0m  \u001b[0m\n",
       "  \u001b[38;5;1m 0       \u001b[0m \u001b[38;5;1m 0.9029  \u001b[0m \u001b[38;5;1m 0.4298  \u001b[0m \u001b[38;5;4m 0       \u001b[0m  \u001b[0m\n",
       "  \u001b[38;5;244m 0       \u001b[0m \u001b[38;5;244m 0       \u001b[0m \u001b[38;5;244m 0       \u001b[0m \u001b[38;5;244m 1       \u001b[0m  \u001b[0m\n",
       "72:\n",
       "  \u001b[38;5;1m 1       \u001b[0m \u001b[38;5;1m 0       \u001b[0m \u001b[38;5;1m 0       \u001b[0m \u001b[38;5;4m 0       \u001b[0m  \u001b[0m\n",
       "  \u001b[38;5;1m 0       \u001b[0m \u001b[38;5;1m 0.4154  \u001b[0m \u001b[38;5;1m-0.9096  \u001b[0m \u001b[38;5;4m 0       \u001b[0m  \u001b[0m\n",
       "  \u001b[38;5;1m 0       \u001b[0m \u001b[38;5;1m 0.9096  \u001b[0m \u001b[38;5;1m 0.4154  \u001b[0m \u001b[38;5;4m 0       \u001b[0m  \u001b[0m\n",
       "  \u001b[38;5;244m 0       \u001b[0m \u001b[38;5;244m 0       \u001b[0m \u001b[38;5;244m 0       \u001b[0m \u001b[38;5;244m 1       \u001b[0m  \u001b[0m\n",
       "73:\n",
       "  \u001b[38;5;1m 1       \u001b[0m \u001b[38;5;1m 0       \u001b[0m \u001b[38;5;1m 0       \u001b[0m \u001b[38;5;4m 0       \u001b[0m  \u001b[0m\n",
       "  \u001b[38;5;1m 0       \u001b[0m \u001b[38;5;1m 0.4009  \u001b[0m \u001b[38;5;1m-0.9161  \u001b[0m \u001b[38;5;4m 0       \u001b[0m  \u001b[0m\n",
       "  \u001b[38;5;1m 0       \u001b[0m \u001b[38;5;1m 0.9161  \u001b[0m \u001b[38;5;1m 0.4009  \u001b[0m \u001b[38;5;4m 0       \u001b[0m  \u001b[0m\n",
       "  \u001b[38;5;244m 0       \u001b[0m \u001b[38;5;244m 0       \u001b[0m \u001b[38;5;244m 0       \u001b[0m \u001b[38;5;244m 1       \u001b[0m  \u001b[0m\n",
       "74:\n",
       "  \u001b[38;5;1m 1       \u001b[0m \u001b[38;5;1m 0       \u001b[0m \u001b[38;5;1m 0       \u001b[0m \u001b[38;5;4m 0       \u001b[0m  \u001b[0m\n",
       "  \u001b[38;5;1m 0       \u001b[0m \u001b[38;5;1m 0.3863  \u001b[0m \u001b[38;5;1m-0.9224  \u001b[0m \u001b[38;5;4m 0       \u001b[0m  \u001b[0m\n",
       "  \u001b[38;5;1m 0       \u001b[0m \u001b[38;5;1m 0.9224  \u001b[0m \u001b[38;5;1m 0.3863  \u001b[0m \u001b[38;5;4m 0       \u001b[0m  \u001b[0m\n",
       "  \u001b[38;5;244m 0       \u001b[0m \u001b[38;5;244m 0       \u001b[0m \u001b[38;5;244m 0       \u001b[0m \u001b[38;5;244m 1       \u001b[0m  \u001b[0m\n",
       "75:\n",
       "  \u001b[38;5;1m 1       \u001b[0m \u001b[38;5;1m 0       \u001b[0m \u001b[38;5;1m 0       \u001b[0m \u001b[38;5;4m 0       \u001b[0m  \u001b[0m\n",
       "  \u001b[38;5;1m 0       \u001b[0m \u001b[38;5;1m 0.3717  \u001b[0m \u001b[38;5;1m-0.9284  \u001b[0m \u001b[38;5;4m 0       \u001b[0m  \u001b[0m\n",
       "  \u001b[38;5;1m 0       \u001b[0m \u001b[38;5;1m 0.9284  \u001b[0m \u001b[38;5;1m 0.3717  \u001b[0m \u001b[38;5;4m 0       \u001b[0m  \u001b[0m\n",
       "  \u001b[38;5;244m 0       \u001b[0m \u001b[38;5;244m 0       \u001b[0m \u001b[38;5;244m 0       \u001b[0m \u001b[38;5;244m 1       \u001b[0m  \u001b[0m\n",
       "76:\n",
       "  \u001b[38;5;1m 1       \u001b[0m \u001b[38;5;1m 0       \u001b[0m \u001b[38;5;1m 0       \u001b[0m \u001b[38;5;4m 0       \u001b[0m  \u001b[0m\n",
       "  \u001b[38;5;1m 0       \u001b[0m \u001b[38;5;1m 0.3569  \u001b[0m \u001b[38;5;1m-0.9341  \u001b[0m \u001b[38;5;4m 0       \u001b[0m  \u001b[0m\n",
       "  \u001b[38;5;1m 0       \u001b[0m \u001b[38;5;1m 0.9341  \u001b[0m \u001b[38;5;1m 0.3569  \u001b[0m \u001b[38;5;4m 0       \u001b[0m  \u001b[0m\n",
       "  \u001b[38;5;244m 0       \u001b[0m \u001b[38;5;244m 0       \u001b[0m \u001b[38;5;244m 0       \u001b[0m \u001b[38;5;244m 1       \u001b[0m  \u001b[0m\n",
       "77:\n",
       "  \u001b[38;5;1m 1       \u001b[0m \u001b[38;5;1m 0       \u001b[0m \u001b[38;5;1m 0       \u001b[0m \u001b[38;5;4m 0       \u001b[0m  \u001b[0m\n",
       "  \u001b[38;5;1m 0       \u001b[0m \u001b[38;5;1m 0.342   \u001b[0m \u001b[38;5;1m-0.9397  \u001b[0m \u001b[38;5;4m 0       \u001b[0m  \u001b[0m\n",
       "  \u001b[38;5;1m 0       \u001b[0m \u001b[38;5;1m 0.9397  \u001b[0m \u001b[38;5;1m 0.342   \u001b[0m \u001b[38;5;4m 0       \u001b[0m  \u001b[0m\n",
       "  \u001b[38;5;244m 0       \u001b[0m \u001b[38;5;244m 0       \u001b[0m \u001b[38;5;244m 0       \u001b[0m \u001b[38;5;244m 1       \u001b[0m  \u001b[0m\n",
       "78:\n",
       "  \u001b[38;5;1m 1       \u001b[0m \u001b[38;5;1m 0       \u001b[0m \u001b[38;5;1m 0       \u001b[0m \u001b[38;5;4m 0       \u001b[0m  \u001b[0m\n",
       "  \u001b[38;5;1m 0       \u001b[0m \u001b[38;5;1m 0.3271  \u001b[0m \u001b[38;5;1m-0.945   \u001b[0m \u001b[38;5;4m 0       \u001b[0m  \u001b[0m\n",
       "  \u001b[38;5;1m 0       \u001b[0m \u001b[38;5;1m 0.945   \u001b[0m \u001b[38;5;1m 0.3271  \u001b[0m \u001b[38;5;4m 0       \u001b[0m  \u001b[0m\n",
       "  \u001b[38;5;244m 0       \u001b[0m \u001b[38;5;244m 0       \u001b[0m \u001b[38;5;244m 0       \u001b[0m \u001b[38;5;244m 1       \u001b[0m  \u001b[0m\n",
       "79:\n",
       "  \u001b[38;5;1m 1       \u001b[0m \u001b[38;5;1m 0       \u001b[0m \u001b[38;5;1m 0       \u001b[0m \u001b[38;5;4m 0       \u001b[0m  \u001b[0m\n",
       "  \u001b[38;5;1m 0       \u001b[0m \u001b[38;5;1m 0.312   \u001b[0m \u001b[38;5;1m-0.9501  \u001b[0m \u001b[38;5;4m 0       \u001b[0m  \u001b[0m\n",
       "  \u001b[38;5;1m 0       \u001b[0m \u001b[38;5;1m 0.9501  \u001b[0m \u001b[38;5;1m 0.312   \u001b[0m \u001b[38;5;4m 0       \u001b[0m  \u001b[0m\n",
       "  \u001b[38;5;244m 0       \u001b[0m \u001b[38;5;244m 0       \u001b[0m \u001b[38;5;244m 0       \u001b[0m \u001b[38;5;244m 1       \u001b[0m  \u001b[0m\n",
       "80:\n",
       "  \u001b[38;5;1m 1       \u001b[0m \u001b[38;5;1m 0       \u001b[0m \u001b[38;5;1m 0       \u001b[0m \u001b[38;5;4m 0       \u001b[0m  \u001b[0m\n",
       "  \u001b[38;5;1m 0       \u001b[0m \u001b[38;5;1m 0.2969  \u001b[0m \u001b[38;5;1m-0.9549  \u001b[0m \u001b[38;5;4m 0       \u001b[0m  \u001b[0m\n",
       "  \u001b[38;5;1m 0       \u001b[0m \u001b[38;5;1m 0.9549  \u001b[0m \u001b[38;5;1m 0.2969  \u001b[0m \u001b[38;5;4m 0       \u001b[0m  \u001b[0m\n",
       "  \u001b[38;5;244m 0       \u001b[0m \u001b[38;5;244m 0       \u001b[0m \u001b[38;5;244m 0       \u001b[0m \u001b[38;5;244m 1       \u001b[0m  \u001b[0m\n",
       "81:\n",
       "  \u001b[38;5;1m 1       \u001b[0m \u001b[38;5;1m 0       \u001b[0m \u001b[38;5;1m 0       \u001b[0m \u001b[38;5;4m 0       \u001b[0m  \u001b[0m\n",
       "  \u001b[38;5;1m 0       \u001b[0m \u001b[38;5;1m 0.2817  \u001b[0m \u001b[38;5;1m-0.9595  \u001b[0m \u001b[38;5;4m 0       \u001b[0m  \u001b[0m\n",
       "  \u001b[38;5;1m 0       \u001b[0m \u001b[38;5;1m 0.9595  \u001b[0m \u001b[38;5;1m 0.2817  \u001b[0m \u001b[38;5;4m 0       \u001b[0m  \u001b[0m\n",
       "  \u001b[38;5;244m 0       \u001b[0m \u001b[38;5;244m 0       \u001b[0m \u001b[38;5;244m 0       \u001b[0m \u001b[38;5;244m 1       \u001b[0m  \u001b[0m\n",
       "82:\n",
       "  \u001b[38;5;1m 1       \u001b[0m \u001b[38;5;1m 0       \u001b[0m \u001b[38;5;1m 0       \u001b[0m \u001b[38;5;4m 0       \u001b[0m  \u001b[0m\n",
       "  \u001b[38;5;1m 0       \u001b[0m \u001b[38;5;1m 0.2665  \u001b[0m \u001b[38;5;1m-0.9638  \u001b[0m \u001b[38;5;4m 0       \u001b[0m  \u001b[0m\n",
       "  \u001b[38;5;1m 0       \u001b[0m \u001b[38;5;1m 0.9638  \u001b[0m \u001b[38;5;1m 0.2665  \u001b[0m \u001b[38;5;4m 0       \u001b[0m  \u001b[0m\n",
       "  \u001b[38;5;244m 0       \u001b[0m \u001b[38;5;244m 0       \u001b[0m \u001b[38;5;244m 0       \u001b[0m \u001b[38;5;244m 1       \u001b[0m  \u001b[0m\n",
       "83:\n",
       "  \u001b[38;5;1m 1       \u001b[0m \u001b[38;5;1m 0       \u001b[0m \u001b[38;5;1m 0       \u001b[0m \u001b[38;5;4m 0       \u001b[0m  \u001b[0m\n",
       "  \u001b[38;5;1m 0       \u001b[0m \u001b[38;5;1m 0.2511  \u001b[0m \u001b[38;5;1m-0.9679  \u001b[0m \u001b[38;5;4m 0       \u001b[0m  \u001b[0m\n",
       "  \u001b[38;5;1m 0       \u001b[0m \u001b[38;5;1m 0.9679  \u001b[0m \u001b[38;5;1m 0.2511  \u001b[0m \u001b[38;5;4m 0       \u001b[0m  \u001b[0m\n",
       "  \u001b[38;5;244m 0       \u001b[0m \u001b[38;5;244m 0       \u001b[0m \u001b[38;5;244m 0       \u001b[0m \u001b[38;5;244m 1       \u001b[0m  \u001b[0m\n",
       "84:\n",
       "  \u001b[38;5;1m 1       \u001b[0m \u001b[38;5;1m 0       \u001b[0m \u001b[38;5;1m 0       \u001b[0m \u001b[38;5;4m 0       \u001b[0m  \u001b[0m\n",
       "  \u001b[38;5;1m 0       \u001b[0m \u001b[38;5;1m 0.2358  \u001b[0m \u001b[38;5;1m-0.9718  \u001b[0m \u001b[38;5;4m 0       \u001b[0m  \u001b[0m\n",
       "  \u001b[38;5;1m 0       \u001b[0m \u001b[38;5;1m 0.9718  \u001b[0m \u001b[38;5;1m 0.2358  \u001b[0m \u001b[38;5;4m 0       \u001b[0m  \u001b[0m\n",
       "  \u001b[38;5;244m 0       \u001b[0m \u001b[38;5;244m 0       \u001b[0m \u001b[38;5;244m 0       \u001b[0m \u001b[38;5;244m 1       \u001b[0m  \u001b[0m\n",
       "85:\n",
       "  \u001b[38;5;1m 1       \u001b[0m \u001b[38;5;1m 0       \u001b[0m \u001b[38;5;1m 0       \u001b[0m \u001b[38;5;4m 0       \u001b[0m  \u001b[0m\n",
       "  \u001b[38;5;1m 0       \u001b[0m \u001b[38;5;1m 0.2203  \u001b[0m \u001b[38;5;1m-0.9754  \u001b[0m \u001b[38;5;4m 0       \u001b[0m  \u001b[0m\n",
       "  \u001b[38;5;1m 0       \u001b[0m \u001b[38;5;1m 0.9754  \u001b[0m \u001b[38;5;1m 0.2203  \u001b[0m \u001b[38;5;4m 0       \u001b[0m  \u001b[0m\n",
       "  \u001b[38;5;244m 0       \u001b[0m \u001b[38;5;244m 0       \u001b[0m \u001b[38;5;244m 0       \u001b[0m \u001b[38;5;244m 1       \u001b[0m  \u001b[0m\n",
       "86:\n",
       "  \u001b[38;5;1m 1       \u001b[0m \u001b[38;5;1m 0       \u001b[0m \u001b[38;5;1m 0       \u001b[0m \u001b[38;5;4m 0       \u001b[0m  \u001b[0m\n",
       "  \u001b[38;5;1m 0       \u001b[0m \u001b[38;5;1m 0.2048  \u001b[0m \u001b[38;5;1m-0.9788  \u001b[0m \u001b[38;5;4m 0       \u001b[0m  \u001b[0m\n",
       "  \u001b[38;5;1m 0       \u001b[0m \u001b[38;5;1m 0.9788  \u001b[0m \u001b[38;5;1m 0.2048  \u001b[0m \u001b[38;5;4m 0       \u001b[0m  \u001b[0m\n",
       "  \u001b[38;5;244m 0       \u001b[0m \u001b[38;5;244m 0       \u001b[0m \u001b[38;5;244m 0       \u001b[0m \u001b[38;5;244m 1       \u001b[0m  \u001b[0m\n",
       "87:\n",
       "  \u001b[38;5;1m 1       \u001b[0m \u001b[38;5;1m 0       \u001b[0m \u001b[38;5;1m 0       \u001b[0m \u001b[38;5;4m 0       \u001b[0m  \u001b[0m\n",
       "  \u001b[38;5;1m 0       \u001b[0m \u001b[38;5;1m 0.1893  \u001b[0m \u001b[38;5;1m-0.9819  \u001b[0m \u001b[38;5;4m 0       \u001b[0m  \u001b[0m\n",
       "  \u001b[38;5;1m 0       \u001b[0m \u001b[38;5;1m 0.9819  \u001b[0m \u001b[38;5;1m 0.1893  \u001b[0m \u001b[38;5;4m 0       \u001b[0m  \u001b[0m\n",
       "  \u001b[38;5;244m 0       \u001b[0m \u001b[38;5;244m 0       \u001b[0m \u001b[38;5;244m 0       \u001b[0m \u001b[38;5;244m 1       \u001b[0m  \u001b[0m\n",
       "88:\n",
       "  \u001b[38;5;1m 1       \u001b[0m \u001b[38;5;1m 0       \u001b[0m \u001b[38;5;1m 0       \u001b[0m \u001b[38;5;4m 0       \u001b[0m  \u001b[0m\n",
       "  \u001b[38;5;1m 0       \u001b[0m \u001b[38;5;1m 0.1736  \u001b[0m \u001b[38;5;1m-0.9848  \u001b[0m \u001b[38;5;4m 0       \u001b[0m  \u001b[0m\n",
       "  \u001b[38;5;1m 0       \u001b[0m \u001b[38;5;1m 0.9848  \u001b[0m \u001b[38;5;1m 0.1736  \u001b[0m \u001b[38;5;4m 0       \u001b[0m  \u001b[0m\n",
       "  \u001b[38;5;244m 0       \u001b[0m \u001b[38;5;244m 0       \u001b[0m \u001b[38;5;244m 0       \u001b[0m \u001b[38;5;244m 1       \u001b[0m  \u001b[0m\n",
       "89:\n",
       "  \u001b[38;5;1m 1       \u001b[0m \u001b[38;5;1m 0       \u001b[0m \u001b[38;5;1m 0       \u001b[0m \u001b[38;5;4m 0       \u001b[0m  \u001b[0m\n",
       "  \u001b[38;5;1m 0       \u001b[0m \u001b[38;5;1m 0.158   \u001b[0m \u001b[38;5;1m-0.9874  \u001b[0m \u001b[38;5;4m 0       \u001b[0m  \u001b[0m\n",
       "  \u001b[38;5;1m 0       \u001b[0m \u001b[38;5;1m 0.9874  \u001b[0m \u001b[38;5;1m 0.158   \u001b[0m \u001b[38;5;4m 0       \u001b[0m  \u001b[0m\n",
       "  \u001b[38;5;244m 0       \u001b[0m \u001b[38;5;244m 0       \u001b[0m \u001b[38;5;244m 0       \u001b[0m \u001b[38;5;244m 1       \u001b[0m  \u001b[0m\n",
       "90:\n",
       "  \u001b[38;5;1m 1       \u001b[0m \u001b[38;5;1m 0       \u001b[0m \u001b[38;5;1m 0       \u001b[0m \u001b[38;5;4m 0       \u001b[0m  \u001b[0m\n",
       "  \u001b[38;5;1m 0       \u001b[0m \u001b[38;5;1m 0.1423  \u001b[0m \u001b[38;5;1m-0.9898  \u001b[0m \u001b[38;5;4m 0       \u001b[0m  \u001b[0m\n",
       "  \u001b[38;5;1m 0       \u001b[0m \u001b[38;5;1m 0.9898  \u001b[0m \u001b[38;5;1m 0.1423  \u001b[0m \u001b[38;5;4m 0       \u001b[0m  \u001b[0m\n",
       "  \u001b[38;5;244m 0       \u001b[0m \u001b[38;5;244m 0       \u001b[0m \u001b[38;5;244m 0       \u001b[0m \u001b[38;5;244m 1       \u001b[0m  \u001b[0m\n",
       "91:\n",
       "  \u001b[38;5;1m 1       \u001b[0m \u001b[38;5;1m 0       \u001b[0m \u001b[38;5;1m 0       \u001b[0m \u001b[38;5;4m 0       \u001b[0m  \u001b[0m\n",
       "  \u001b[38;5;1m 0       \u001b[0m \u001b[38;5;1m 0.1266  \u001b[0m \u001b[38;5;1m-0.992   \u001b[0m \u001b[38;5;4m 0       \u001b[0m  \u001b[0m\n",
       "  \u001b[38;5;1m 0       \u001b[0m \u001b[38;5;1m 0.992   \u001b[0m \u001b[38;5;1m 0.1266  \u001b[0m \u001b[38;5;4m 0       \u001b[0m  \u001b[0m\n",
       "  \u001b[38;5;244m 0       \u001b[0m \u001b[38;5;244m 0       \u001b[0m \u001b[38;5;244m 0       \u001b[0m \u001b[38;5;244m 1       \u001b[0m  \u001b[0m\n",
       "92:\n",
       "  \u001b[38;5;1m 1       \u001b[0m \u001b[38;5;1m 0       \u001b[0m \u001b[38;5;1m 0       \u001b[0m \u001b[38;5;4m 0       \u001b[0m  \u001b[0m\n",
       "  \u001b[38;5;1m 0       \u001b[0m \u001b[38;5;1m 0.1108  \u001b[0m \u001b[38;5;1m-0.9938  \u001b[0m \u001b[38;5;4m 0       \u001b[0m  \u001b[0m\n",
       "  \u001b[38;5;1m 0       \u001b[0m \u001b[38;5;1m 0.9938  \u001b[0m \u001b[38;5;1m 0.1108  \u001b[0m \u001b[38;5;4m 0       \u001b[0m  \u001b[0m\n",
       "  \u001b[38;5;244m 0       \u001b[0m \u001b[38;5;244m 0       \u001b[0m \u001b[38;5;244m 0       \u001b[0m \u001b[38;5;244m 1       \u001b[0m  \u001b[0m\n",
       "93:\n",
       "  \u001b[38;5;1m 1       \u001b[0m \u001b[38;5;1m 0       \u001b[0m \u001b[38;5;1m 0       \u001b[0m \u001b[38;5;4m 0       \u001b[0m  \u001b[0m\n",
       "  \u001b[38;5;1m 0       \u001b[0m \u001b[38;5;1m 0.09506 \u001b[0m \u001b[38;5;1m-0.9955  \u001b[0m \u001b[38;5;4m 0       \u001b[0m  \u001b[0m\n",
       "  \u001b[38;5;1m 0       \u001b[0m \u001b[38;5;1m 0.9955  \u001b[0m \u001b[38;5;1m 0.09506 \u001b[0m \u001b[38;5;4m 0       \u001b[0m  \u001b[0m\n",
       "  \u001b[38;5;244m 0       \u001b[0m \u001b[38;5;244m 0       \u001b[0m \u001b[38;5;244m 0       \u001b[0m \u001b[38;5;244m 1       \u001b[0m  \u001b[0m\n",
       "94:\n",
       "  \u001b[38;5;1m 1       \u001b[0m \u001b[38;5;1m 0       \u001b[0m \u001b[38;5;1m 0       \u001b[0m \u001b[38;5;4m 0       \u001b[0m  \u001b[0m\n",
       "  \u001b[38;5;1m 0       \u001b[0m \u001b[38;5;1m 0.07925 \u001b[0m \u001b[38;5;1m-0.9969  \u001b[0m \u001b[38;5;4m 0       \u001b[0m  \u001b[0m\n",
       "  \u001b[38;5;1m 0       \u001b[0m \u001b[38;5;1m 0.9969  \u001b[0m \u001b[38;5;1m 0.07925 \u001b[0m \u001b[38;5;4m 0       \u001b[0m  \u001b[0m\n",
       "  \u001b[38;5;244m 0       \u001b[0m \u001b[38;5;244m 0       \u001b[0m \u001b[38;5;244m 0       \u001b[0m \u001b[38;5;244m 1       \u001b[0m  \u001b[0m\n",
       "95:\n",
       "  \u001b[38;5;1m 1       \u001b[0m \u001b[38;5;1m 0       \u001b[0m \u001b[38;5;1m 0       \u001b[0m \u001b[38;5;4m 0       \u001b[0m  \u001b[0m\n",
       "  \u001b[38;5;1m 0       \u001b[0m \u001b[38;5;1m 0.06342 \u001b[0m \u001b[38;5;1m-0.998   \u001b[0m \u001b[38;5;4m 0       \u001b[0m  \u001b[0m\n",
       "  \u001b[38;5;1m 0       \u001b[0m \u001b[38;5;1m 0.998   \u001b[0m \u001b[38;5;1m 0.06342 \u001b[0m \u001b[38;5;4m 0       \u001b[0m  \u001b[0m\n",
       "  \u001b[38;5;244m 0       \u001b[0m \u001b[38;5;244m 0       \u001b[0m \u001b[38;5;244m 0       \u001b[0m \u001b[38;5;244m 1       \u001b[0m  \u001b[0m\n",
       "96:\n",
       "  \u001b[38;5;1m 1       \u001b[0m \u001b[38;5;1m 0       \u001b[0m \u001b[38;5;1m 0       \u001b[0m \u001b[38;5;4m 0       \u001b[0m  \u001b[0m\n",
       "  \u001b[38;5;1m 0       \u001b[0m \u001b[38;5;1m 0.04758 \u001b[0m \u001b[38;5;1m-0.9989  \u001b[0m \u001b[38;5;4m 0       \u001b[0m  \u001b[0m\n",
       "  \u001b[38;5;1m 0       \u001b[0m \u001b[38;5;1m 0.9989  \u001b[0m \u001b[38;5;1m 0.04758 \u001b[0m \u001b[38;5;4m 0       \u001b[0m  \u001b[0m\n",
       "  \u001b[38;5;244m 0       \u001b[0m \u001b[38;5;244m 0       \u001b[0m \u001b[38;5;244m 0       \u001b[0m \u001b[38;5;244m 1       \u001b[0m  \u001b[0m\n",
       "97:\n",
       "  \u001b[38;5;1m 1       \u001b[0m \u001b[38;5;1m 0       \u001b[0m \u001b[38;5;1m 0       \u001b[0m \u001b[38;5;4m 0       \u001b[0m  \u001b[0m\n",
       "  \u001b[38;5;1m 0       \u001b[0m \u001b[38;5;1m 0.03173 \u001b[0m \u001b[38;5;1m-0.9995  \u001b[0m \u001b[38;5;4m 0       \u001b[0m  \u001b[0m\n",
       "  \u001b[38;5;1m 0       \u001b[0m \u001b[38;5;1m 0.9995  \u001b[0m \u001b[38;5;1m 0.03173 \u001b[0m \u001b[38;5;4m 0       \u001b[0m  \u001b[0m\n",
       "  \u001b[38;5;244m 0       \u001b[0m \u001b[38;5;244m 0       \u001b[0m \u001b[38;5;244m 0       \u001b[0m \u001b[38;5;244m 1       \u001b[0m  \u001b[0m\n",
       "98:\n",
       "  \u001b[38;5;1m 1       \u001b[0m \u001b[38;5;1m 0       \u001b[0m \u001b[38;5;1m 0       \u001b[0m \u001b[38;5;4m 0       \u001b[0m  \u001b[0m\n",
       "  \u001b[38;5;1m 0       \u001b[0m \u001b[38;5;1m 0.01587 \u001b[0m \u001b[38;5;1m-0.9999  \u001b[0m \u001b[38;5;4m 0       \u001b[0m  \u001b[0m\n",
       "  \u001b[38;5;1m 0       \u001b[0m \u001b[38;5;1m 0.9999  \u001b[0m \u001b[38;5;1m 0.01587 \u001b[0m \u001b[38;5;4m 0       \u001b[0m  \u001b[0m\n",
       "  \u001b[38;5;244m 0       \u001b[0m \u001b[38;5;244m 0       \u001b[0m \u001b[38;5;244m 0       \u001b[0m \u001b[38;5;244m 1       \u001b[0m  \u001b[0m\n",
       "99:\n",
       "  \u001b[38;5;1m 1       \u001b[0m \u001b[38;5;1m 0       \u001b[0m \u001b[38;5;1m 0       \u001b[0m \u001b[38;5;4m 0       \u001b[0m  \u001b[0m\n",
       "  \u001b[38;5;1m 0       \u001b[0m \u001b[38;5;1m 0       \u001b[0m \u001b[38;5;1m-1       \u001b[0m \u001b[38;5;4m 0       \u001b[0m  \u001b[0m\n",
       "  \u001b[38;5;1m 0       \u001b[0m \u001b[38;5;1m 1       \u001b[0m \u001b[38;5;1m 0       \u001b[0m \u001b[38;5;4m 0       \u001b[0m  \u001b[0m\n",
       "  \u001b[38;5;244m 0       \u001b[0m \u001b[38;5;244m 0       \u001b[0m \u001b[38;5;244m 0       \u001b[0m \u001b[38;5;244m 1       \u001b[0m  \u001b[0m\n"
      ]
     },
     "execution_count": 15,
     "metadata": {},
     "output_type": "execute_result"
    }
   ],
   "source": [
    "T_many = SE3.Rx(np.linspace(0, pi/2, num=100))\n"
   ]
  },
  {
   "cell_type": "code",
   "execution_count": 16,
   "metadata": {},
   "outputs": [
    {
     "data": {
      "text/plain": [
       "100"
      ]
     },
     "execution_count": 16,
     "metadata": {},
     "output_type": "execute_result"
    }
   ],
   "source": [
    "len(T_many)"
   ]
  },
  {
   "cell_type": "markdown",
   "metadata": {},
   "source": [
    "So we can slice them"
   ]
  },
  {
   "cell_type": "code",
   "execution_count": 17,
   "metadata": {},
   "outputs": [
    {
     "data": {
      "text/plain": [
       "  \u001b[38;5;1m 1       \u001b[0m \u001b[38;5;1m 0       \u001b[0m \u001b[38;5;1m 0       \u001b[0m \u001b[38;5;4m 0       \u001b[0m  \u001b[0m\n",
       "  \u001b[38;5;1m 0       \u001b[0m \u001b[38;5;1m 0.9501  \u001b[0m \u001b[38;5;1m-0.312   \u001b[0m \u001b[38;5;4m 0       \u001b[0m  \u001b[0m\n",
       "  \u001b[38;5;1m 0       \u001b[0m \u001b[38;5;1m 0.312   \u001b[0m \u001b[38;5;1m 0.9501  \u001b[0m \u001b[38;5;4m 0       \u001b[0m  \u001b[0m\n",
       "  \u001b[38;5;244m 0       \u001b[0m \u001b[38;5;244m 0       \u001b[0m \u001b[38;5;244m 0       \u001b[0m \u001b[38;5;244m 1       \u001b[0m  \u001b[0m\n"
      ]
     },
     "execution_count": 17,
     "metadata": {},
     "output_type": "execute_result"
    }
   ],
   "source": [
    "T_many[20]"
   ]
  },
  {
   "cell_type": "markdown",
   "metadata": {},
   "source": [
    "or use them as iterators in `for` loop or comprehensions"
   ]
  },
  {
   "cell_type": "code",
   "execution_count": 18,
   "metadata": {},
   "outputs": [],
   "source": [
    "for T in T_many:\n",
    "    pass  # do a thing"
   ]
  },
  {
   "cell_type": "markdown",
   "metadata": {},
   "source": [
    "The second super power is broadcasting."
   ]
  },
  {
   "cell_type": "code",
   "execution_count": 19,
   "metadata": {},
   "outputs": [
    {
     "data": {
      "text/plain": [
       "100"
      ]
     },
     "execution_count": 19,
     "metadata": {},
     "output_type": "execute_result"
    }
   ],
   "source": [
    "T = SE3.Ry(60, unit=\"deg\")\n",
    "T2 = T_many * T\n",
    "len(T2)"
   ]
  },
  {
   "cell_type": "markdown",
   "metadata": {},
   "source": [
    "which has created a new `SE3` object where each value is `T_many[k] * T`.\n",
    "\n",
    "The third superpower is all these objects can transform a vector, or a bunch of vectors"
   ]
  },
  {
   "cell_type": "code",
   "execution_count": 20,
   "metadata": {},
   "outputs": [
    {
     "data": {
      "text/plain": [
       "array([[     3.098],\n",
       "       [         2],\n",
       "       [     0.634]])"
      ]
     },
     "execution_count": 20,
     "metadata": {},
     "output_type": "execute_result"
    }
   ],
   "source": [
    "T * [1, 2, 3]"
   ]
  },
  {
   "cell_type": "markdown",
   "metadata": {},
   "source": [
    "and the class has handled all the hassle of converting the vector to homogeneous form first.\n",
    "\n",
    "This also works for a collection of vectors, always arranged columnwise"
   ]
  },
  {
   "cell_type": "code",
   "execution_count": 21,
   "metadata": {},
   "outputs": [
    {
     "data": {
      "text/plain": [
       "array([[     3.098,      7.196],\n",
       "       [         2,          5],\n",
       "       [     0.634,    -0.4641]])"
      ]
     },
     "execution_count": 21,
     "metadata": {},
     "output_type": "execute_result"
    }
   ],
   "source": [
    "T * np.array([[1,2,3], [4,5,6]]).T"
   ]
  },
  {
   "cell_type": "markdown",
   "metadata": {},
   "source": [
    "and combining all the superpowers we can write"
   ]
  },
  {
   "cell_type": "code",
   "execution_count": 22,
   "metadata": {},
   "outputs": [
    {
     "data": {
      "text/plain": [
       "array([[         1,          1,          1,          1,          1,          1,          1,\n",
       "                 1,          1,          1,          1,          1,          1,          1,\n",
       "                 1,          1,          1,          1,          1,          1,          1,\n",
       "                 1,          1,          1,          1,          1,          1,          1,\n",
       "                 1,          1,          1,          1,          1,          1,          1,\n",
       "                 1,          1,          1,          1,          1,          1,          1,\n",
       "                 1,          1,          1,          1,          1,          1,          1,\n",
       "                 1,          1,          1,          1,          1,          1,          1,\n",
       "                 1,          1,          1,          1,          1,          1,          1,\n",
       "                 1,          1,          1,          1,          1,          1,          1,\n",
       "                 1,          1,          1,          1,          1,          1,          1,\n",
       "                 1,          1,          1,          1,          1,          1,          1,\n",
       "                 1,          1,          1,          1,          1,          1,          1,\n",
       "                 1,          1,          1,          1,          1,          1,          1,\n",
       "                 1,          1],\n",
       "       [         2,      1.952,      1.904,      1.855,      1.806,      1.756,      1.706,\n",
       "             1.655,      1.604,      1.553,      1.501,      1.449,      1.396,      1.343,\n",
       "              1.29,      1.236,      1.182,      1.128,      1.074,      1.019,      0.964,\n",
       "            0.9088,     0.8533,     0.7976,     0.7417,     0.6857,     0.6294,      0.573,\n",
       "            0.5165,     0.4598,      0.403,     0.3461,     0.2891,     0.2321,     0.1749,\n",
       "            0.1178,    0.06058,    0.00338,   -0.05383,     -0.111,    -0.1682,    -0.2253,\n",
       "           -0.2824,    -0.3394,    -0.3963,    -0.4531,    -0.5098,    -0.5663,    -0.6228,\n",
       "            -0.679,    -0.7351,     -0.791,    -0.8468,    -0.9023,    -0.9575,     -1.013,\n",
       "            -1.067,     -1.122,     -1.176,      -1.23,     -1.284,     -1.337,      -1.39,\n",
       "            -1.442,     -1.495,     -1.547,     -1.598,     -1.649,       -1.7,      -1.75,\n",
       "              -1.8,     -1.849,     -1.898,     -1.946,     -1.994,     -2.042,     -2.089,\n",
       "            -2.135,     -2.181,     -2.226,     -2.271,     -2.315,     -2.359,     -2.402,\n",
       "            -2.444,     -2.486,     -2.527,     -2.567,     -2.607,     -2.646,     -2.685,\n",
       "            -2.723,      -2.76,     -2.796,     -2.832,     -2.867,     -2.901,     -2.935,\n",
       "            -2.968,         -3],\n",
       "       [         3,      3.031,      3.062,      3.092,      3.121,      3.149,      3.177,\n",
       "             3.203,      3.229,      3.254,      3.278,      3.302,      3.324,      3.346,\n",
       "             3.367,      3.387,      3.406,      3.424,      3.442,      3.459,      3.474,\n",
       "             3.489,      3.503,      3.516,      3.528,       3.54,       3.55,       3.56,\n",
       "             3.568,      3.576,      3.583,      3.589,      3.594,      3.598,      3.601,\n",
       "             3.604,      3.605,      3.606,      3.605,      3.604,      3.602,      3.599,\n",
       "             3.594,       3.59,      3.584,      3.577,      3.569,      3.561,      3.551,\n",
       "             3.541,       3.53,      3.518,      3.505,      3.491,      3.476,       3.46,\n",
       "             3.444,      3.427,      3.408,      3.389,      3.369,      3.349,      3.327,\n",
       "             3.304,      3.281,      3.257,      3.232,      3.206,       3.18,      3.152,\n",
       "             3.124,      3.095,      3.066,      3.035,      3.004,      2.972,      2.939,\n",
       "             2.905,      2.871,      2.836,      2.801,      2.764,      2.727,      2.689,\n",
       "             2.651,      2.612,      2.572,      2.532,      2.491,      2.449,      2.407,\n",
       "             2.364,       2.32,      2.276,      2.231,      2.186,       2.14,      2.094,\n",
       "             2.047,          2]])"
      ]
     },
     "execution_count": 22,
     "metadata": {},
     "output_type": "execute_result"
    }
   ],
   "source": [
    "T_many * [1, 2, 3]"
   ]
  },
  {
   "cell_type": "markdown",
   "metadata": {},
   "source": [
    "which has applied each element of `T_many` to transform the vector `[1,2,3]`, resulting in a 3x100 array, one column per transformed vector."
   ]
  },
  {
   "cell_type": "markdown",
   "metadata": {},
   "source": [
    "# IV. ROBOTICS TOOLBOX\n",
    "## A. Robot models"
   ]
  },
  {
   "cell_type": "markdown",
   "metadata": {},
   "source": [
    "If you like Denavit-Hartenberg notation (standard or modified) then it is easy to create a robot model, it is simply a list of objects that represent a link-joint pair"
   ]
  },
  {
   "cell_type": "code",
   "execution_count": 23,
   "metadata": {},
   "outputs": [],
   "source": [
    "from roboticstoolbox import *\n",
    "# robot length values (metres)\n",
    "d1 = 0.352\n",
    "a1 = 0.070\n",
    "a2 = 0.360\n",
    "d4 = 0.380\n",
    "d6 = 0.065;"
   ]
  },
  {
   "cell_type": "code",
   "execution_count": 24,
   "metadata": {},
   "outputs": [
    {
     "data": {
      "text/plain": [
       "DHRobot: my IRB140, 3 joints (RRR), dynamics, standard DH parameters\n",
       "┌────┬───────┬──────┬────────┐\n",
       "│θⱼ  │  dⱼ   │  aⱼ  │   ⍺ⱼ   │\n",
       "├────┼───────┼──────┼────────┤\n",
       "│ q1\u001b[0m │ 0.352\u001b[0m │ 0.07\u001b[0m │ -90.0°\u001b[0m │\n",
       "│ q2\u001b[0m │     0\u001b[0m │ 0.36\u001b[0m │   0.0°\u001b[0m │\n",
       "│ q3\u001b[0m │     0\u001b[0m │    0\u001b[0m │  90.0°\u001b[0m │\n",
       "└────┴───────┴──────┴────────┘"
      ]
     },
     "execution_count": 24,
     "metadata": {},
     "output_type": "execute_result"
    }
   ],
   "source": [
    "robot = DHRobot([\n",
    "  RevoluteDH(d=d1, a=a1, alpha=-pi/2), \n",
    "  RevoluteDH(a=a2), \n",
    "  RevoluteDH(alpha=pi/2),\n",
    "  ], name=\"my IRB140\")"
   ]
  },
  {
   "cell_type": "markdown",
   "metadata": {},
   "source": [
    "There are also a lot of prebuilt models shipping with the toolbox"
   ]
  },
  {
   "cell_type": "code",
   "execution_count": 25,
   "metadata": {},
   "outputs": [
    {
     "name": "stdout",
     "output_type": "stream",
     "text": [
      "┌─────────────┬───────────────────────┬─────────────────────┬──────┬─────┬──────┬─────────────────────────────────┬──────────┬──────────┬──────────────────────────┐\n",
      "│   class     │         name          │    manufacturer     │ type │ DoF │ dims │                       structure │ dynamics │ geometry │         keywords         │\n",
      "├─────────────┼───────────────────────┼─────────────────────┼──────┼─────┼──────┼─────────────────────────────────┼──────────┼──────────┼──────────────────────────┤\n",
      "│Panda\u001b[0m        │ Panda\u001b[0m                 │ Franka Emika\u001b[0m        │ DH\u001b[0m   │ 7\u001b[0m   │ 3d\u001b[0m   │ RRRRRRR\u001b[0m                         │ Y\u001b[0m        │ Y\u001b[0m        │ \u001b[0m                         │\n",
      "│Puma560\u001b[0m      │ Puma 560\u001b[0m              │ Unimation\u001b[0m           │ DH\u001b[0m   │ 6\u001b[0m   │ 3d\u001b[0m   │ RRRRRR\u001b[0m                          │ Y\u001b[0m        │ Y\u001b[0m        │ dynamics, symbolic, mesh\u001b[0m │\n",
      "│Stanford\u001b[0m     │ Stanford arm\u001b[0m          │ Victor Scheinman\u001b[0m    │ DH\u001b[0m   │ 6\u001b[0m   │ 3d\u001b[0m   │ RRPRRR\u001b[0m                          │ Y\u001b[0m        │ \u001b[0m         │ dynamics\u001b[0m                 │\n",
      "│Ball\u001b[0m         │ ball\u001b[0m                  │ \u001b[0m                    │ DH\u001b[0m   │ 10\u001b[0m  │ 3d\u001b[0m   │ RRRRRRRRRR\u001b[0m                      │ Y\u001b[0m        │ \u001b[0m         │ \u001b[0m                         │\n",
      "│Hyper\u001b[0m        │ Hyper10\u001b[0m               │ \u001b[0m                    │ DH\u001b[0m   │ 10\u001b[0m  │ 3d\u001b[0m   │ RRRRRRRRRR\u001b[0m                      │ Y\u001b[0m        │ \u001b[0m         │ symbolic\u001b[0m                 │\n",
      "│Coil\u001b[0m         │ Coil10\u001b[0m                │ \u001b[0m                    │ DH\u001b[0m   │ 10\u001b[0m  │ 3d\u001b[0m   │ RRRRRRRRRR\u001b[0m                      │ Y\u001b[0m        │ \u001b[0m         │ symbolic\u001b[0m                 │\n",
      "│Cobra600\u001b[0m     │ Cobra600\u001b[0m              │ Omron\u001b[0m               │ DH\u001b[0m   │ 4\u001b[0m   │ 3d\u001b[0m   │ RRPR\u001b[0m                            │ Y\u001b[0m        │ \u001b[0m         │ \u001b[0m                         │\n",
      "│IRB140\u001b[0m       │ IRB 140\u001b[0m               │ ABB\u001b[0m                 │ DH\u001b[0m   │ 6\u001b[0m   │ 3d\u001b[0m   │ RRRRRR\u001b[0m                          │ Y\u001b[0m        │ Y\u001b[0m        │ \u001b[0m                         │\n",
      "│KR5\u001b[0m          │ KR5\u001b[0m                   │ KUKA\u001b[0m                │ DH\u001b[0m   │ 6\u001b[0m   │ 3d\u001b[0m   │ RRRRRR\u001b[0m                          │ Y\u001b[0m        │ Y\u001b[0m        │ \u001b[0m                         │\n",
      "│Orion5\u001b[0m       │ Orion 5\u001b[0m               │ RAWR Robotics\u001b[0m       │ DH\u001b[0m   │ 4\u001b[0m   │ 3d\u001b[0m   │ RRRR\u001b[0m                            │ Y\u001b[0m        │ \u001b[0m         │ \u001b[0m                         │\n",
      "│Planar3\u001b[0m      │ Planar 3 link\u001b[0m         │ \u001b[0m                    │ DH\u001b[0m   │ 3\u001b[0m   │ 3d\u001b[0m   │ RRR\u001b[0m                             │ Y\u001b[0m        │ \u001b[0m         │ planar\u001b[0m                   │\n",
      "│Planar2\u001b[0m      │ Planar 2 link\u001b[0m         │ \u001b[0m                    │ DH\u001b[0m   │ 2\u001b[0m   │ 3d\u001b[0m   │ RR\u001b[0m                              │ Y\u001b[0m        │ \u001b[0m         │ planar\u001b[0m                   │\n",
      "│LWR4\u001b[0m         │ LWR-IV\u001b[0m                │ Kuka\u001b[0m                │ DH\u001b[0m   │ 7\u001b[0m   │ 3d\u001b[0m   │ RRRRRRR\u001b[0m                         │ Y\u001b[0m        │ \u001b[0m         │ \u001b[0m                         │\n",
      "│Sawyer\u001b[0m       │ Sawyer\u001b[0m                │ Rethink Robotics\u001b[0m    │ DH\u001b[0m   │ 6\u001b[0m   │ 3d\u001b[0m   │ RRRRRR\u001b[0m                          │ Y\u001b[0m        │ \u001b[0m         │ redundant, symbolic\u001b[0m      │\n",
      "│UR3\u001b[0m          │ UR3\u001b[0m                   │ Universal Robotics\u001b[0m  │ DH\u001b[0m   │ 6\u001b[0m   │ 3d\u001b[0m   │ RRRRRR\u001b[0m                          │ Y\u001b[0m        │ \u001b[0m         │ dynamics, symbolic\u001b[0m       │\n",
      "│UR5\u001b[0m          │ UR5\u001b[0m                   │ Universal Robotics\u001b[0m  │ DH\u001b[0m   │ 6\u001b[0m   │ 3d\u001b[0m   │ RRRRRR\u001b[0m                          │ Y\u001b[0m        │ \u001b[0m         │ dynamics, symbolic\u001b[0m       │\n",
      "│UR10\u001b[0m         │ UR10\u001b[0m                  │ Universal Robotics\u001b[0m  │ DH\u001b[0m   │ 6\u001b[0m   │ 3d\u001b[0m   │ RRRRRR\u001b[0m                          │ Y\u001b[0m        │ \u001b[0m         │ dynamics, symbolic\u001b[0m       │\n",
      "│Mico\u001b[0m         │ Mico\u001b[0m                  │ Kinova\u001b[0m              │ DH\u001b[0m   │ 6\u001b[0m   │ 3d\u001b[0m   │ RRRRRR\u001b[0m                          │ Y\u001b[0m        │ \u001b[0m         │ symbolic\u001b[0m                 │\n",
      "│Jaco\u001b[0m         │ Jaco\u001b[0m                  │ Kinova\u001b[0m              │ DH\u001b[0m   │ 6\u001b[0m   │ 3d\u001b[0m   │ RRRRRR\u001b[0m                          │ Y\u001b[0m        │ \u001b[0m         │ symbolic\u001b[0m                 │\n",
      "│Baxter\u001b[0m       │ Baxter-left\u001b[0m           │ Rethink Robotics\u001b[0m    │ DH\u001b[0m   │ 7\u001b[0m   │ 3d\u001b[0m   │ RRRRRRR\u001b[0m                         │ Y\u001b[0m        │ \u001b[0m         │ \u001b[0m                         │\n",
      "│TwoLink\u001b[0m      │ 2 link\u001b[0m                │ \u001b[0m                    │ DH\u001b[0m   │ 2\u001b[0m   │ 3d\u001b[0m   │ RR\u001b[0m                              │ Y\u001b[0m        │ \u001b[0m         │ planar, dynamics\u001b[0m         │\n",
      "│Hyper3d\u001b[0m      │ Hyper3d10\u001b[0m             │ \u001b[0m                    │ DH\u001b[0m   │ 10\u001b[0m  │ 3d\u001b[0m   │ RRRRRRRRRR\u001b[0m                      │ Y\u001b[0m        │ \u001b[0m         │ symbolic\u001b[0m                 │\n",
      "│P8\u001b[0m           │ P8\u001b[0m                    │ \u001b[0m                    │ DH\u001b[0m   │ 8\u001b[0m   │ 3d\u001b[0m   │ PPRRRRRR\u001b[0m                        │ Y\u001b[0m        │ \u001b[0m         │ mobile, redundant\u001b[0m        │\n",
      "│Panda\u001b[0m        │ panda\u001b[0m                 │ Franka Emika\u001b[0m        │ URDF\u001b[0m │ 7\u001b[0m   │ 3d\u001b[0m   │ RRRRRRR\u001b[0m                         │ \u001b[0m         │ Y\u001b[0m        │ \u001b[0m                         │\n",
      "│Frankie\u001b[0m      │ frankie\u001b[0m               │ Franka Emika\u001b[0m        │ URDF\u001b[0m │ 9\u001b[0m   │ 3d\u001b[0m   │ RPRRRRRRR\u001b[0m                       │ \u001b[0m         │ Y\u001b[0m        │ \u001b[0m                         │\n",
      "│FrankieOmni\u001b[0m  │ frankie\u001b[0m               │ Franka Emika\u001b[0m        │ URDF\u001b[0m │ 10\u001b[0m  │ 3d\u001b[0m   │ RPRRRRRRRR\u001b[0m                      │ \u001b[0m         │ Y\u001b[0m        │ \u001b[0m                         │\n",
      "│UR3\u001b[0m          │ UR3\u001b[0m                   │ Universal Robotics\u001b[0m  │ URDF\u001b[0m │ 6\u001b[0m   │ 3d\u001b[0m   │ RRRRRR\u001b[0m                          │ Y\u001b[0m        │ Y\u001b[0m        │ \u001b[0m                         │\n",
      "│UR5\u001b[0m          │ UR5\u001b[0m                   │ Universal Robotics\u001b[0m  │ URDF\u001b[0m │ 6\u001b[0m   │ 3d\u001b[0m   │ RRRRRR\u001b[0m                          │ Y\u001b[0m        │ Y\u001b[0m        │ \u001b[0m                         │\n",
      "│UR10\u001b[0m         │ UR10\u001b[0m                  │ Universal Robotics\u001b[0m  │ URDF\u001b[0m │ 6\u001b[0m   │ 3d\u001b[0m   │ RRRRRR\u001b[0m                          │ Y\u001b[0m        │ Y\u001b[0m        │ \u001b[0m                         │\n",
      "│Puma560\u001b[0m      │ Puma560\u001b[0m               │ Unimation\u001b[0m           │ URDF\u001b[0m │ 6\u001b[0m   │ 3d\u001b[0m   │ RRRRRR\u001b[0m                          │ \u001b[0m         │ Y\u001b[0m        │ \u001b[0m                         │\n",
      "│px100\u001b[0m        │ px100\u001b[0m                 │ Interbotix\u001b[0m          │ URDF\u001b[0m │ 7\u001b[0m   │ 3d\u001b[0m   │ RRRRRPP\u001b[0m                         │ Y\u001b[0m        │ Y\u001b[0m        │ \u001b[0m                         │\n",
      "│px150\u001b[0m        │ px150\u001b[0m                 │ Interbotix\u001b[0m          │ URDF\u001b[0m │ 8\u001b[0m   │ 3d\u001b[0m   │ RRRRRRPP\u001b[0m                        │ Y\u001b[0m        │ Y\u001b[0m        │ \u001b[0m                         │\n",
      "│rx150\u001b[0m        │ rx150\u001b[0m                 │ Interbotix\u001b[0m          │ URDF\u001b[0m │ 8\u001b[0m   │ 3d\u001b[0m   │ RRRRRRPP\u001b[0m                        │ Y\u001b[0m        │ Y\u001b[0m        │ \u001b[0m                         │\n",
      "│rx200\u001b[0m        │ rx200\u001b[0m                 │ Interbotix\u001b[0m          │ URDF\u001b[0m │ 8\u001b[0m   │ 3d\u001b[0m   │ RRRRRRPP\u001b[0m                        │ Y\u001b[0m        │ Y\u001b[0m        │ \u001b[0m                         │\n",
      "│vx300\u001b[0m        │ vx300\u001b[0m                 │ Interbotix\u001b[0m          │ URDF\u001b[0m │ 8\u001b[0m   │ 3d\u001b[0m   │ RRRRRRPP\u001b[0m                        │ Y\u001b[0m        │ Y\u001b[0m        │ \u001b[0m                         │\n",
      "│vx300s\u001b[0m       │ vx300s\u001b[0m                │ Interbotix\u001b[0m          │ URDF\u001b[0m │ 9\u001b[0m   │ 3d\u001b[0m   │ RRRRRRRPP\u001b[0m                       │ Y\u001b[0m        │ Y\u001b[0m        │ \u001b[0m                         │\n",
      "│wx200\u001b[0m        │ wx200\u001b[0m                 │ Interbotix\u001b[0m          │ URDF\u001b[0m │ 8\u001b[0m   │ 3d\u001b[0m   │ RRRRRRPP\u001b[0m                        │ Y\u001b[0m        │ Y\u001b[0m        │ \u001b[0m                         │\n",
      "│wx250\u001b[0m        │ wx250\u001b[0m                 │ Interbotix\u001b[0m          │ URDF\u001b[0m │ 8\u001b[0m   │ 3d\u001b[0m   │ RRRRRRPP\u001b[0m                        │ Y\u001b[0m        │ Y\u001b[0m        │ \u001b[0m                         │\n",
      "│wx250s\u001b[0m       │ wx250s\u001b[0m                │ Interbotix\u001b[0m          │ URDF\u001b[0m │ 9\u001b[0m   │ 3d\u001b[0m   │ RRRRRRRPP\u001b[0m                       │ Y\u001b[0m        │ Y\u001b[0m        │ \u001b[0m                         │\n",
      "│Mico\u001b[0m         │ j2n4s300\u001b[0m              │ Kinova\u001b[0m              │ URDF\u001b[0m │ 4\u001b[0m   │ 3d\u001b[0m   │ RRRR\u001b[0m                            │ Y\u001b[0m        │ Y\u001b[0m        │ \u001b[0m                         │\n",
      "│PR2\u001b[0m          │ pr2\u001b[0m                   │ Willow Garage\u001b[0m       │ URDF\u001b[0m │ 31\u001b[0m  │ 3d\u001b[0m   │ RRRRRRRRRRRRPRRRRRRRRRRRRRRRRRR\u001b[0m │ Y\u001b[0m        │ Y\u001b[0m        │ \u001b[0m                         │\n",
      "│LBR\u001b[0m          │ kuka_lbr_iiwa_14_r820\u001b[0m │ Kuka\u001b[0m                │ URDF\u001b[0m │ 7\u001b[0m   │ 3d\u001b[0m   │ RRRRRRR\u001b[0m                         │ \u001b[0m         │ Y\u001b[0m        │ \u001b[0m                         │\n",
      "│KinovaGen3\u001b[0m   │ gen3\u001b[0m                  │ Kinova\u001b[0m              │ URDF\u001b[0m │ 7\u001b[0m   │ 3d\u001b[0m   │ RRRRRRR\u001b[0m                         │ Y\u001b[0m        │ Y\u001b[0m        │ \u001b[0m                         │\n",
      "│YuMi\u001b[0m         │ yumi\u001b[0m                  │ ABB\u001b[0m                 │ URDF\u001b[0m │ 14\u001b[0m  │ 3d\u001b[0m   │ RRRRRRRRRRRRRR\u001b[0m                  │ Y\u001b[0m        │ Y\u001b[0m        │ \u001b[0m                         │\n",
      "│Panda\u001b[0m        │ Panda\u001b[0m                 │ Franka Emika\u001b[0m        │ ETS\u001b[0m  │ 7\u001b[0m   │ 3d\u001b[0m   │ RRRRRRR\u001b[0m                         │ \u001b[0m         │ \u001b[0m         │ \u001b[0m                         │\n",
      "│Frankie\u001b[0m      │ Frankie\u001b[0m               │ Franka Emika, Omron\u001b[0m │ ETS\u001b[0m  │ 9\u001b[0m   │ 3d\u001b[0m   │ RPRRRRRRR\u001b[0m                       │ \u001b[0m         │ \u001b[0m         │ mobile\u001b[0m                   │\n",
      "│Puma560\u001b[0m      │ Puma560\u001b[0m               │ Unimation\u001b[0m           │ ETS\u001b[0m  │ 6\u001b[0m   │ 3d\u001b[0m   │ RRRRRR\u001b[0m                          │ \u001b[0m         │ \u001b[0m         │ \u001b[0m                         │\n",
      "│Planar_Y\u001b[0m     │ Planar-Y\u001b[0m              │ \u001b[0m                    │ ETS\u001b[0m  │ 6\u001b[0m   │ 3d\u001b[0m   │ RRRRRR\u001b[0m                          │ \u001b[0m         │ \u001b[0m         │ \u001b[0m                         │\n",
      "│Planar2\u001b[0m      │ Planar2\u001b[0m               │ \u001b[0m                    │ ETS\u001b[0m  │ 2\u001b[0m   │ 2d\u001b[0m   │ RR\u001b[0m                              │ \u001b[0m         │ \u001b[0m         │ \u001b[0m                         │\n",
      "│GenericSeven\u001b[0m │ Generic Seven\u001b[0m         │ Jesse's Imagination\u001b[0m │ ETS\u001b[0m  │ 7\u001b[0m   │ 3d\u001b[0m   │ RRRRRRR\u001b[0m                         │ \u001b[0m         │ \u001b[0m         │ \u001b[0m                         │\n",
      "│XYPanda\u001b[0m      │ XYPanda\u001b[0m               │ Franka Emika\u001b[0m        │ ETS\u001b[0m  │ 9\u001b[0m   │ 3d\u001b[0m   │ PPRRRRRRR\u001b[0m                       │ \u001b[0m         │ \u001b[0m         │ \u001b[0m                         │\n",
      "└─────────────┴───────────────────────┴─────────────────────┴──────┴─────┴──────┴─────────────────────────────────┴──────────┴──────────┴──────────────────────────┘\n",
      "\n"
     ]
    }
   ],
   "source": [
    "models.list()"
   ]
  },
  {
   "cell_type": "markdown",
   "metadata": {},
   "source": [
    "There are currently over 50 robot models, and they fall into three types:\n",
    "1. `DH`, based on standard or modifed Denavit-Hartenberg (DH) notation.  This is what you will find in most of the standard robotics texts\n",
    "2. `ETS`, this is a new way to think about robot kinematics that avoids the (IMO) complexity of DH notation, and was described in [this paper](https://ieeexplore.ieee.org/document/4252158)\n",
    "3. [`URDF`](http://wiki.ros.org/urdf/Tutorials/Building%20a%20Visual%20Robot%20Model%20with%20URDF%20from%20Scratch), which is an industry standard way to represent kinematics, dynamics and 3D structure in XML format\n",
    "\n",
    "We will load a standard Denavit-Hartenberg model of Peter's favourite robot"
   ]
  },
  {
   "cell_type": "code",
   "execution_count": 26,
   "metadata": {},
   "outputs": [
    {
     "data": {
      "text/plain": [
       "DHRobot: Puma 560 (by Unimation), 6 joints (RRRRRR), dynamics, geometry, standard DH parameters\n",
       "┌────┬────────┬────────┬────────┬─────────┬────────┐\n",
       "│θⱼ  │   dⱼ   │   aⱼ   │   ⍺ⱼ   │   q⁻    │   q⁺   │\n",
       "├────┼────────┼────────┼────────┼─────────┼────────┤\n",
       "│ q1\u001b[0m │ 0.6718\u001b[0m │      0\u001b[0m │  90.0°\u001b[0m │ -160.0°\u001b[0m │ 160.0°\u001b[0m │\n",
       "│ q2\u001b[0m │      0\u001b[0m │ 0.4318\u001b[0m │   0.0°\u001b[0m │ -110.0°\u001b[0m │ 110.0°\u001b[0m │\n",
       "│ q3\u001b[0m │   0.15\u001b[0m │ 0.0203\u001b[0m │ -90.0°\u001b[0m │ -135.0°\u001b[0m │ 135.0°\u001b[0m │\n",
       "│ q4\u001b[0m │ 0.4318\u001b[0m │      0\u001b[0m │  90.0°\u001b[0m │ -266.0°\u001b[0m │ 266.0°\u001b[0m │\n",
       "│ q5\u001b[0m │      0\u001b[0m │      0\u001b[0m │ -90.0°\u001b[0m │ -100.0°\u001b[0m │ 100.0°\u001b[0m │\n",
       "│ q6\u001b[0m │      0\u001b[0m │      0\u001b[0m │   0.0°\u001b[0m │ -266.0°\u001b[0m │ 266.0°\u001b[0m │\n",
       "└────┴────────┴────────┴────────┴─────────┴────────┘\n",
       "\n",
       "┌─────┬─────┬──────┬───────┬─────┬──────┬─────┐\n",
       "│name │ q0  │ q1   │ q2    │ q3  │ q4   │ q5  │\n",
       "├─────┼─────┼──────┼───────┼─────┼──────┼─────┤\n",
       "│  qz\u001b[0m │  0°\u001b[0m │  0°\u001b[0m  │  0°\u001b[0m   │  0°\u001b[0m │  0°\u001b[0m  │  0°\u001b[0m │\n",
       "│  qr\u001b[0m │  0°\u001b[0m │  90°\u001b[0m │ -90°\u001b[0m  │  0°\u001b[0m │  0°\u001b[0m  │  0°\u001b[0m │\n",
       "│  qs\u001b[0m │  0°\u001b[0m │  0°\u001b[0m  │ -90°\u001b[0m  │  0°\u001b[0m │  0°\u001b[0m  │  0°\u001b[0m │\n",
       "│  qn\u001b[0m │  0°\u001b[0m │  45°\u001b[0m │  180°\u001b[0m │  0°\u001b[0m │  45°\u001b[0m │  0°\u001b[0m │\n",
       "└─────┴─────┴──────┴───────┴─────┴──────┴─────┘"
      ]
     },
     "execution_count": 26,
     "metadata": {},
     "output_type": "execute_result"
    }
   ],
   "source": [
    "puma = models.DH.Puma560()"
   ]
  },
  {
   "cell_type": "markdown",
   "metadata": {},
   "source": [
    "The `__repr__` method for these objects pretty prints the parameters as a table.  The second table is a list of named joint configurations, for example the \"nominal\" configuration is"
   ]
  },
  {
   "cell_type": "code",
   "execution_count": 27,
   "metadata": {},
   "outputs": [
    {
     "data": {
      "text/plain": [
       "array([0.        , 0.78539816, 3.14159265, 0.        , 0.78539816, 0.        ])"
      ]
     },
     "execution_count": 27,
     "metadata": {},
     "output_type": "execute_result"
    }
   ],
   "source": [
    "puma.qn"
   ]
  },
  {
   "cell_type": "markdown",
   "metadata": {},
   "source": [
    "You can easily add your own, which modifies that particular robot instance"
   ]
  },
  {
   "cell_type": "code",
   "execution_count": 28,
   "metadata": {},
   "outputs": [
    {
     "data": {
      "text/plain": [
       "array([1., 2., 3., 4., 5., 6.])"
      ]
     },
     "execution_count": 28,
     "metadata": {},
     "output_type": "execute_result"
    }
   ],
   "source": [
    "puma.addconfiguration(\"foo\", [1,2,3,4,5,6])\n",
    "puma.foo"
   ]
  },
  {
   "cell_type": "markdown",
   "metadata": {},
   "source": [
    "The most fundamental operation on a robot is to determine its forward kinematics, that is, the pose of its end effector given the joint configuration.  All types of robot object have an `fkine` method to compute this"
   ]
  },
  {
   "cell_type": "code",
   "execution_count": 29,
   "metadata": {},
   "outputs": [
    {
     "data": {
      "text/plain": [
       "  \u001b[38;5;1m 0.1217  \u001b[0m \u001b[38;5;1m-0.6067  \u001b[0m \u001b[38;5;1m-0.7856  \u001b[0m \u001b[38;5;4m 0.2478  \u001b[0m  \u001b[0m\n",
       "  \u001b[38;5;1m 0.8184  \u001b[0m \u001b[38;5;1m 0.5092  \u001b[0m \u001b[38;5;1m-0.2665  \u001b[0m \u001b[38;5;4m-0.1259  \u001b[0m  \u001b[0m\n",
       "  \u001b[38;5;1m 0.5617  \u001b[0m \u001b[38;5;1m-0.6105  \u001b[0m \u001b[38;5;1m 0.5584  \u001b[0m \u001b[38;5;4m 1.146   \u001b[0m  \u001b[0m\n",
       "  \u001b[38;5;244m 0       \u001b[0m \u001b[38;5;244m 0       \u001b[0m \u001b[38;5;244m 0       \u001b[0m \u001b[38;5;244m 1       \u001b[0m  \u001b[0m\n"
      ]
     },
     "execution_count": 29,
     "metadata": {},
     "output_type": "execute_result"
    }
   ],
   "source": [
    "T = puma.fkine([0.1, 0.2, 0.3, 0.4, 0.5, 0.6])"
   ]
  },
  {
   "cell_type": "markdown",
   "metadata": {},
   "source": [
    "or, if you prefer, in a more compact form"
   ]
  },
  {
   "cell_type": "code",
   "execution_count": 30,
   "metadata": {},
   "outputs": [
    {
     "name": "stdout",
     "output_type": "stream",
     "text": [
      "t = 0.248, -0.126, 1.15; rpy/zyx = -47.5°, -34.2°, 81.5°\n"
     ]
    }
   ],
   "source": [
    "T.printline()"
   ]
  },
  {
   "cell_type": "markdown",
   "metadata": {},
   "source": [
    "The next most fundamental operation on a robot is to determine its inverse kinematics, that is, given the pose of its end effector, what are the required joint angles.  In general there are multiple solutions, and the Toolbox provides a numerical solution to this problem"
   ]
  },
  {
   "cell_type": "code",
   "execution_count": 31,
   "metadata": {},
   "outputs": [
    {
     "data": {
      "text/plain": [
       "IKsolution(q=array([0.1, 0.2, 0.3, 0.4, 0.5, 0.6]), success=True, reason=None, iterations=12, residual=8.515092622288915e-13)"
      ]
     },
     "execution_count": 31,
     "metadata": {},
     "output_type": "execute_result"
    }
   ],
   "source": [
    "sol = puma.ikine_LM(T)"
   ]
  },
  {
   "cell_type": "markdown",
   "metadata": {},
   "source": [
    "and the return value indicates success and provides the required joint angles.\n",
    "\n",
    "Because this is a numerical solution, it requires a reasonable initial estimate of the joint configuration.  Here it started at zero and has managed to converge, but if it does not converge then a better initial estimate is required, provided using the `q0=` argument.\n",
    "\n",
    "Some robots, for example the Puma560, have an analytical solution available as well, and its options allow for control over which, of the multiple, solutions is returned"
   ]
  },
  {
   "cell_type": "code",
   "execution_count": 32,
   "metadata": {},
   "outputs": [
    {
     "data": {
      "text/plain": [
       "IKsolution(q=array([ 2.10117673,  1.11634865,  0.3       ,  0.9527867 , -1.65052534, -0.9859752 ]), success=True, reason='')"
      ]
     },
     "execution_count": 32,
     "metadata": {},
     "output_type": "execute_result"
    }
   ],
   "source": [
    "puma.ikine_a(T)"
   ]
  },
  {
   "cell_type": "markdown",
   "metadata": {},
   "source": [
    "We can also plot the robot, but this seems to be not working in Jupyter :()"
   ]
  },
  {
   "cell_type": "code",
   "execution_count": 33,
   "metadata": {},
   "outputs": [
    {
     "data": {
      "image/png": "[encoded data removed]",
      "text/plain": [
       "<Figure size 432x288 with 1 Axes>"
      ]
     },
     "metadata": {},
     "output_type": "display_data"
    },
    {
     "data": {
      "text/plain": [
       "<Figure size 432x288 with 0 Axes>"
      ]
     },
     "metadata": {},
     "output_type": "display_data"
    }
   ],
   "source": [
    "puma.plot(sol.q, backend=\"pyplot\");"
   ]
  },
  {
   "cell_type": "code",
   "execution_count": 34,
   "metadata": {},
   "outputs": [
    {
     "data": {
      "text/plain": [
       "IKsolution(q=array([ 2.10117673,  1.11634865,  0.3       ,  0.9527867 , -1.65052534, -0.9859752 ]), success=True, reason='')"
      ]
     },
     "execution_count": 34,
     "metadata": {},
     "output_type": "execute_result"
    }
   ],
   "source": [
    "puma.ikine_a(T, config=\"lun\")"
   ]
  },
  {
   "cell_type": "markdown",
   "metadata": {},
   "source": [
    "As mentioned earlier, the ETS notation is a different way to think about robot kinematics.\n",
    "\n",
    "We start by defining a set of dimensions for the robot, this example mimics the one in the [paper](https://ieeexplore.ieee.org/document/4252158)"
   ]
  },
  {
   "cell_type": "code",
   "execution_count": 35,
   "metadata": {},
   "outputs": [],
   "source": [
    "from roboticstoolbox import ETS as ET\n",
    "# Puma dimensions (m), see RVC2 Fig. 7.4 for details\n",
    "l1 = 0.672\n",
    "l2 = -0.2337\n",
    "l3 = 0.4318\n",
    "l4 = 0.0203\n",
    "l5 = 0.0837\n",
    "l6 = 0.4318;"
   ]
  },
  {
   "cell_type": "markdown",
   "metadata": {},
   "source": [
    "and now we can write an expression, in terms of translations and rotations, along or about the x-, y- and z-axes.  These can be by a constant amount or by a joint variable (indicated by no passed argument to the method)"
   ]
  },
  {
   "cell_type": "code",
   "execution_count": 36,
   "metadata": {},
   "outputs": [
    {
     "data": {
      "text/plain": [
       "tz(0.672) ⊕ Rz(q0) ⊕ ty(-0.2337) ⊕ Ry(q1) ⊕ tz(0.4318) ⊕ tx(0.0203) ⊕ ty(0.0837) ⊕ Ry(q2) ⊕ tz(0.4318) ⊕ Rz(q3) ⊕ Ry(q4) ⊕ Rz(q5)"
      ]
     },
     "execution_count": 36,
     "metadata": {},
     "output_type": "execute_result"
    }
   ],
   "source": [
    "e = ET.tz(l1) * ET.rz() * ET.ty(l2) * ET.ry() \\\n",
    "    * ET.tz(l3) * ET.tx(l4) * ET.ty(l5) * ET.ry() \\\n",
    "    * ET.tz(l6) * ET.rz() * ET.ry() * ET.rz()"
   ]
  },
  {
   "cell_type": "markdown",
   "metadata": {},
   "source": [
    "The result is an `ETS` object which is like a Python list, it can sliced and iterated.\n",
    "\n",
    "We pass this to the `ERobot` constructor (E for ETS robot) and it chops the ETS into chunks, each one ending with a joint variable"
   ]
  },
  {
   "cell_type": "code",
   "execution_count": 37,
   "metadata": {},
   "outputs": [
    {
     "data": {
      "text/plain": [
       "ERobot: noname, 6 joints (RRRRRR)\n",
       "┌───┬────────┬───────┬────────┬───────────────────────────────────────────────────────────────────┐\n",
       "│id │  link  │ joint │ parent │                                ETS                                │\n",
       "├───┼────────┼───────┼────────┼───────────────────────────────────────────────────────────────────┤\n",
       "│ 1\u001b[0m │ link0\u001b[0m  │     0\u001b[0m │ BASE\u001b[0m   │ {link0} = {BASE} ⊕ tz(0.672) ⊕ Rz(q0)\u001b[0m                             │\n",
       "│ 2\u001b[0m │ link1\u001b[0m  │     1\u001b[0m │ link0\u001b[0m  │ {link1} = {link0} ⊕ ty(-0.2337) ⊕ Ry(q1)\u001b[0m                          │\n",
       "│ 3\u001b[0m │ link2\u001b[0m  │     2\u001b[0m │ link1\u001b[0m  │ {link2} = {link1} ⊕ tz(0.4318) ⊕ tx(0.0203) ⊕ ty(0.0837) ⊕ Ry(q2)\u001b[0m │\n",
       "│ 4\u001b[0m │ link3\u001b[0m  │     3\u001b[0m │ link2\u001b[0m  │ {link3} = {link2} ⊕ tz(0.4318) ⊕ Rz(q3)\u001b[0m                           │\n",
       "│ 5\u001b[0m │ link4\u001b[0m  │     4\u001b[0m │ link3\u001b[0m  │ {link4} = {link3} ⊕ Ry(q4)\u001b[0m                                        │\n",
       "│ 6\u001b[0m │ @link5\u001b[0m │     5\u001b[0m │ link4\u001b[0m  │ {link5} = {link4} ⊕ Rz(q5)\u001b[0m                                        │\n",
       "└───┴────────┴───────┴────────┴───────────────────────────────────────────────────────────────────┘"
      ]
     },
     "execution_count": 37,
     "metadata": {},
     "output_type": "execute_result"
    }
   ],
   "source": [
    "robot = ERobot(e)"
   ]
  },
  {
   "cell_type": "markdown",
   "metadata": {},
   "source": [
    "The `@` symbol indicates the end of a branch (we can have robots with multiple branches) or an end-effector.\n",
    "\n",
    "Finally, we will load a model of the Franka-Emika Panda from a URDF file that is included with the Toolbox"
   ]
  },
  {
   "cell_type": "code",
   "execution_count": 38,
   "metadata": {
    "lines_to_next_cell": 2
   },
   "outputs": [
    {
     "data": {
      "text/plain": [
       "ERobot: panda (by Franka Emika), 7 joints (RRRRRRR), geometry, collision\n",
       "┌───┬──────────────┬───────┬─────────────┬─────────────────────────────────────────────────────────────────────────────┐\n",
       "│id │     link     │ joint │   parent    │                                     ETS                                     │\n",
       "├───┼──────────────┼───────┼─────────────┼─────────────────────────────────────────────────────────────────────────────┤\n",
       "│ 1\u001b[0m │ \u001b[38;5;4mpanda_link0\u001b[0m  │      \u001b[0m │ BASE\u001b[0m        │ {panda_link0} = {BASE}\u001b[0m                                                      │\n",
       "│ 2\u001b[0m │ panda_link1\u001b[0m  │     0\u001b[0m │ panda_link0\u001b[0m │ {panda_link1} = {panda_link0} ⊕ tz(0.333) ⊕ Rz(q0)\u001b[0m                          │\n",
       "│ 3\u001b[0m │ panda_link2\u001b[0m  │     1\u001b[0m │ panda_link1\u001b[0m │ {panda_link2} = {panda_link1} ⊕ Rx(-90°) ⊕ Rz(q1)\u001b[0m                           │\n",
       "│ 4\u001b[0m │ panda_link3\u001b[0m  │     2\u001b[0m │ panda_link2\u001b[0m │ {panda_link3} = {panda_link2} ⊕ ty(-0.316) ⊕ Rx(90°) ⊕ Rz(q2)\u001b[0m               │\n",
       "│ 5\u001b[0m │ panda_link4\u001b[0m  │     3\u001b[0m │ panda_link3\u001b[0m │ {panda_link4} = {panda_link3} ⊕ tx(0.0825) ⊕ Rx(90°) ⊕ Rz(q3)\u001b[0m               │\n",
       "│ 6\u001b[0m │ panda_link5\u001b[0m  │     4\u001b[0m │ panda_link4\u001b[0m │ {panda_link5} = {panda_link4} ⊕ tx(-0.0825) ⊕ ty(0.384) ⊕ Rx(-90°) ⊕ Rz(q4)\u001b[0m │\n",
       "│ 7\u001b[0m │ panda_link6\u001b[0m  │     5\u001b[0m │ panda_link5\u001b[0m │ {panda_link6} = {panda_link5} ⊕ Rx(90°) ⊕ Rz(q5)\u001b[0m                            │\n",
       "│ 8\u001b[0m │ panda_link7\u001b[0m  │     6\u001b[0m │ panda_link6\u001b[0m │ {panda_link7} = {panda_link6} ⊕ tx(0.088) ⊕ Rx(90°) ⊕ Rz(q6)\u001b[0m                │\n",
       "│ 9\u001b[0m │ \u001b[38;5;4m@panda_link8\u001b[0m │      \u001b[0m │ panda_link7\u001b[0m │ {panda_link8} = {panda_link7} ⊕ tz(0.107)\u001b[0m                                   │\n",
       "└───┴──────────────┴───────┴─────────────┴─────────────────────────────────────────────────────────────────────────────┘\n",
       "\n",
       "┌─────┬─────┬────────┬─────┬───────┬─────┬───────┬──────┐\n",
       "│name │ q0  │ q1     │ q2  │ q3    │ q4  │ q5    │ q6   │\n",
       "├─────┼─────┼────────┼─────┼───────┼─────┼───────┼──────┤\n",
       "│  qz\u001b[0m │  0°\u001b[0m │  0°\u001b[0m    │  0°\u001b[0m │  0°\u001b[0m   │  0°\u001b[0m │  0°\u001b[0m   │  0°\u001b[0m  │\n",
       "│  qr\u001b[0m │  0°\u001b[0m │ -17.2°\u001b[0m │  0°\u001b[0m │ -126°\u001b[0m │  0°\u001b[0m │  115°\u001b[0m │  45°\u001b[0m │\n",
       "└─────┴─────┴────────┴─────┴───────┴─────┴───────┴──────┘"
      ]
     },
     "execution_count": 38,
     "metadata": {},
     "output_type": "execute_result"
    }
   ],
   "source": [
    "panda = models.URDF.Panda()"
   ]
  },
  {
   "cell_type": "markdown",
   "metadata": {},
   "source": [
    "The table at the top has tags:\n",
    "* `geometry` the model includes models of the 3D geometry of the robot, as STL or Collada files.\n",
    "* `collision` the model includes collision geometry, a set of simple geometric primitives, such as cylinders and spheres, for each link that can be used for collision checking.\n",
    "\n",
    "The `@` symbol again indicates the end of a branch (we can have robots with multiple branches) or an end-effector.  Links shown in blue have a constant transformation with respect to their parent link.\n"
   ]
  },
  {
   "cell_type": "markdown",
   "metadata": {},
   "source": [
    "## B. Trajectories"
   ]
  },
  {
   "cell_type": "code",
   "execution_count": 39,
   "metadata": {},
   "outputs": [
    {
     "data": {
      "image/png": "[encoded data removed]",
      "text/plain": [
       "<Figure size 432x288 with 3 Axes>"
      ]
     },
     "metadata": {},
     "output_type": "display_data"
    }
   ],
   "source": [
    "traj = jtraj(puma.qz, puma.qr, 100)\n",
    "traj.plot(block=True)"
   ]
  },
  {
   "cell_type": "code",
   "execution_count": 40,
   "metadata": {},
   "outputs": [
    {
     "data": {
      "text/plain": [
       "  \u001b[38;5;1m 1       \u001b[0m \u001b[38;5;1m 0       \u001b[0m \u001b[38;5;1m 0       \u001b[0m \u001b[38;5;4m 0.6     \u001b[0m  \u001b[0m\n",
       "  \u001b[38;5;1m 0       \u001b[0m \u001b[38;5;1m 1       \u001b[0m \u001b[38;5;1m 0       \u001b[0m \u001b[38;5;4m-0.5     \u001b[0m  \u001b[0m\n",
       "  \u001b[38;5;1m 0       \u001b[0m \u001b[38;5;1m 0       \u001b[0m \u001b[38;5;1m 1       \u001b[0m \u001b[38;5;4m 0.3     \u001b[0m  \u001b[0m\n",
       "  \u001b[38;5;244m 0       \u001b[0m \u001b[38;5;244m 0       \u001b[0m \u001b[38;5;244m 0       \u001b[0m \u001b[38;5;244m 1       \u001b[0m  \u001b[0m\n"
      ]
     },
     "execution_count": 40,
     "metadata": {},
     "output_type": "execute_result"
    }
   ],
   "source": [
    "t = np.arange(0, 2, 0.010)\n",
    "T0 = SE3(0.6, -0.5, 0.3)"
   ]
  },
  {
   "cell_type": "code",
   "execution_count": 41,
   "metadata": {},
   "outputs": [
    {
     "data": {
      "text/plain": [
       "  \u001b[38;5;1m 1       \u001b[0m \u001b[38;5;1m 0       \u001b[0m \u001b[38;5;1m 0       \u001b[0m \u001b[38;5;4m 0.4     \u001b[0m  \u001b[0m\n",
       "  \u001b[38;5;1m 0       \u001b[0m \u001b[38;5;1m 1       \u001b[0m \u001b[38;5;1m 0       \u001b[0m \u001b[38;5;4m 0.5     \u001b[0m  \u001b[0m\n",
       "  \u001b[38;5;1m 0       \u001b[0m \u001b[38;5;1m 0       \u001b[0m \u001b[38;5;1m 1       \u001b[0m \u001b[38;5;4m 0.2     \u001b[0m  \u001b[0m\n",
       "  \u001b[38;5;244m 0       \u001b[0m \u001b[38;5;244m 0       \u001b[0m \u001b[38;5;244m 0       \u001b[0m \u001b[38;5;244m 1       \u001b[0m  \u001b[0m\n"
      ]
     },
     "execution_count": 41,
     "metadata": {},
     "output_type": "execute_result"
    }
   ],
   "source": [
    "T1 = SE3(0.4, 0.5, 0.2)"
   ]
  },
  {
   "cell_type": "code",
   "execution_count": 42,
   "metadata": {},
   "outputs": [
    {
     "data": {
      "text/plain": [
       "200"
      ]
     },
     "execution_count": 42,
     "metadata": {},
     "output_type": "execute_result"
    }
   ],
   "source": [
    "Ts = ctraj(T0, T1, t)\n",
    "len(Ts)"
   ]
  },
  {
   "cell_type": "code",
   "execution_count": 43,
   "metadata": {},
   "outputs": [],
   "source": [
    "sol = puma.ikine_LM(Ts)\n",
    "sol.q.shape"
   ]
  },
  {
   "cell_type": "markdown",
   "metadata": {},
   "source": [
    "## C. Symbolic manipulation"
   ]
  },
  {
   "cell_type": "code",
   "execution_count": null,
   "metadata": {},
   "outputs": [],
   "source": [
    "# !pip install sympy\n",
    "import spatialmath.base.symbolic as sym"
   ]
  },
  {
   "cell_type": "markdown",
   "metadata": {},
   "source": [
    "We first define some symbols, these are Python objects.  We can give them unicode names so that they display as Greek letters.  Now we can display the mapping from roll-pitch-yaw angles to an SO(3) matrix."
   ]
  },
  {
   "cell_type": "code",
   "execution_count": null,
   "metadata": {},
   "outputs": [],
   "source": [
    "phi, theta, psi = sym.symbol('φ, ϴ, ψ')\n",
    "rpy2r(phi, theta, psi)"
   ]
  },
  {
   "cell_type": "markdown",
   "metadata": {},
   "source": [
    "Next, we can define a vector of symbolic joint variables, and use that to compute the forward kinematics -- symbolically."
   ]
  },
  {
   "cell_type": "code",
   "execution_count": null,
   "metadata": {},
   "outputs": [],
   "source": [
    "q = sym.symbol(\"q_:6\") # q = (q_1, q_2, ... q_5)\n",
    "T = puma.fkine(q);"
   ]
  },
  {
   "cell_type": "markdown",
   "metadata": {},
   "source": [
    "This expression is huge, remove the semicolon on the last line above, and rerun the cell to check.\n",
    "\n",
    "Partly this is because $\\alpha_j$ values, which are generally some integer multiple of $\\pi/2$, lead to sin and cos values that are not quite zero or one.\n",
    "\n",
    "Instead we can load a new model of the robot where those parameters have symbolic values, not numeric, leading to crisp zero or one trig results."
   ]
  },
  {
   "cell_type": "code",
   "execution_count": null,
   "metadata": {},
   "outputs": [],
   "source": [
    "puma = models.DH.Puma560(symbolic=True)\n",
    "T = puma.fkine(q)"
   ]
  },
  {
   "cell_type": "markdown",
   "metadata": {},
   "source": [
    "The result is much more compact.  Here, we will display just the translational part of this.  The position of the end effector as a function of the first three joint angles.  The last three joint angles don't enter because the robot has a spherical wrist and the tool in this example has zero length."
   ]
  },
  {
   "cell_type": "code",
   "execution_count": null,
   "metadata": {},
   "outputs": [],
   "source": [
    "T.t[0]"
   ]
  },
  {
   "cell_type": "markdown",
   "metadata": {},
   "source": [
    "## D. Differential kinematics"
   ]
  },
  {
   "cell_type": "markdown",
   "metadata": {},
   "source": [
    "We will reload the numerical robot model"
   ]
  },
  {
   "cell_type": "code",
   "execution_count": null,
   "metadata": {},
   "outputs": [],
   "source": [
    "puma = models.DH.Puma560(symbolic=False)"
   ]
  },
  {
   "cell_type": "markdown",
   "metadata": {},
   "source": [
    "Now we will compute the Jacobian matrix that relates joint velocity to spatial velocity of the end effector, in the world-coordinate frame"
   ]
  },
  {
   "cell_type": "code",
   "execution_count": null,
   "metadata": {},
   "outputs": [],
   "source": [
    "J = puma.jacob0(puma.qr)"
   ]
  },
  {
   "cell_type": "markdown",
   "metadata": {},
   "source": [
    "This particular configuration is singular, and the Jacobian is not full rank"
   ]
  },
  {
   "cell_type": "code",
   "execution_count": null,
   "metadata": {},
   "outputs": [],
   "source": [
    "np.linalg.matrix_rank(J)"
   ]
  },
  {
   "cell_type": "markdown",
   "metadata": {},
   "source": [
    "Analyzing dependencies amongst the columns of the Jacobians we find that"
   ]
  },
  {
   "cell_type": "code",
   "execution_count": null,
   "metadata": {},
   "outputs": [],
   "source": [
    "jsingu(J)"
   ]
  },
  {
   "cell_type": "markdown",
   "metadata": {},
   "source": [
    "We can just as easily compute the Jacobian in the end effector coordinate frame"
   ]
  },
  {
   "cell_type": "code",
   "execution_count": null,
   "metadata": {},
   "outputs": [],
   "source": [
    "J = puma.jacobe(puma.qn)"
   ]
  },
  {
   "cell_type": "markdown",
   "metadata": {},
   "source": [
    "The Hessian is the derivative of the Jacobian and is a rank-3 tensor, a 3D array, useful in task-space dynamic problems"
   ]
  },
  {
   "cell_type": "code",
   "execution_count": null,
   "metadata": {},
   "outputs": [],
   "source": [
    "H = puma.hessian0(puma.qn)\n",
    "H.shape"
   ]
  },
  {
   "cell_type": "markdown",
   "metadata": {},
   "source": [
    "For many robot problems we are interested in manipulability, that is, how well posed the robot is to make movement in any direction.  We can also think of this as distance away from a singularity where we lose a degree of freedom of motion.  Two common measures are due to Yoshikawa and Asada"
   ]
  },
  {
   "cell_type": "code",
   "execution_count": null,
   "metadata": {},
   "outputs": [],
   "source": [
    "puma.manipulability(puma.qn)"
   ]
  },
  {
   "cell_type": "code",
   "execution_count": null,
   "metadata": {},
   "outputs": [],
   "source": [
    "puma.manipulability(puma.qn, method=\"asada\")"
   ]
  },
  {
   "cell_type": "code",
   "execution_count": null,
   "metadata": {},
   "outputs": [],
   "source": [
    "puma.manipulability(puma.qn, axes=\"trans\")"
   ]
  },
  {
   "cell_type": "markdown",
   "metadata": {},
   "source": [
    "Motion control that optimizes manipulability needs the manipulability Jacobian, the rate of change of manipulability with respect to each joint variable"
   ]
  },
  {
   "cell_type": "code",
   "execution_count": null,
   "metadata": {
    "lines_to_next_cell": 2
   },
   "outputs": [],
   "source": [
    "puma.jacobm(puma.qn)"
   ]
  },
  {
   "cell_type": "markdown",
   "metadata": {},
   "source": [
    "## E. Dynamics"
   ]
  },
  {
   "cell_type": "markdown",
   "metadata": {},
   "source": [
    "The Toolbox has rich support for manipulator dynamics.\n",
    "\n",
    "We can compute the inverse dynamics, the torques required to achieve a particular dynamic state $(q, \\dot{q}, \\ddot{q})$"
   ]
  },
  {
   "cell_type": "code",
   "execution_count": null,
   "metadata": {
    "lines_to_next_cell": 2
   },
   "outputs": [],
   "source": [
    "tau = puma.rne(puma.qn, np.zeros((6,)), np.zeros((6,)))"
   ]
  },
  {
   "cell_type": "markdown",
   "metadata": {},
   "source": [
    "The inertia tensor is a symmetric matrix that depends on joint configuration"
   ]
  },
  {
   "cell_type": "code",
   "execution_count": null,
   "metadata": {
    "lines_to_next_cell": 2
   },
   "outputs": [],
   "source": [
    "J = puma.inertia(puma.qn)"
   ]
  },
  {
   "cell_type": "markdown",
   "metadata": {},
   "source": [
    "and the velocity terms, Coriolis and centrigual coupling terms, is a function of joint configuration and velocity"
   ]
  },
  {
   "cell_type": "code",
   "execution_count": null,
   "metadata": {
    "lines_to_next_cell": 2
   },
   "outputs": [],
   "source": [
    "C = puma.coriolis(puma.qn, 0.1 * np.ones((6,)))"
   ]
  },
  {
   "cell_type": "markdown",
   "metadata": {},
   "source": [
    "The final element is the gravity torque, the joint torques due to gravity weight forces acting on all the links"
   ]
  },
  {
   "cell_type": "code",
   "execution_count": null,
   "metadata": {
    "lines_to_next_cell": 2
   },
   "outputs": [],
   "source": [
    "g = puma.gravload(puma.qn)"
   ]
  },
  {
   "cell_type": "markdown",
   "metadata": {},
   "source": [
    "The forward dynamics is the joint acceleration as a function of $(q, \\dot{q}, \\tau)$ and can be integrated to simulate the motion of the robot."
   ]
  },
  {
   "cell_type": "code",
   "execution_count": null,
   "metadata": {
    "lines_to_next_cell": 2
   },
   "outputs": [],
   "source": [
    "qdd = puma.accel(puma.qn, np.zeros((6,)), tau)"
   ]
  },
  {
   "cell_type": "markdown",
   "metadata": {},
   "source": [
    "# V. NEW CAPABILITY\n",
    "## B. Collision checking"
   ]
  },
  {
   "cell_type": "code",
   "execution_count": null,
   "metadata": {},
   "outputs": [],
   "source": [
    "!pip install spatialgeometry\n",
    "from spatialgeometry import Cuboid\n"
   ]
  },
  {
   "cell_type": "markdown",
   "metadata": {},
   "source": [
    "The Toolbox now has support for collision checking, using the bullet engine.\n",
    "\n",
    "We create an instance of a Franka-Emika Panda robot and a big box, 1x1x1m "
   ]
  },
  {
   "cell_type": "code",
   "execution_count": null,
   "metadata": {},
   "outputs": [],
   "source": [
    "panda = models.URDF.Panda()\n",
    "obstacle = Cuboid([1, 1, 1], base=SE3(1, 0, 0));"
   ]
  },
  {
   "cell_type": "markdown",
   "metadata": {},
   "source": [
    "And then test if the robot, in configuration `qr`, collides with the box"
   ]
  },
  {
   "cell_type": "code",
   "execution_count": null,
   "metadata": {},
   "outputs": [],
   "source": [
    "iscollision = panda.collided(panda.qr, obstacle) # boolean"
   ]
  },
  {
   "cell_type": "markdown",
   "metadata": {},
   "source": [
    "which it does.  We can do more fine grained testing, does link[0] collide with the box?"
   ]
  },
  {
   "cell_type": "code",
   "execution_count": null,
   "metadata": {},
   "outputs": [],
   "source": [
    "iscollision = panda.links[0].collided(obstacle)"
   ]
  },
  {
   "cell_type": "markdown",
   "metadata": {},
   "source": [
    "No, it doesn't.  But what are the closest points on these objects  "
   ]
  },
  {
   "cell_type": "code",
   "execution_count": null,
   "metadata": {},
   "outputs": [],
   "source": [
    "\n",
    "d, p1, p2 = panda.links[0].closest_point(obstacle)\n",
    "print(d, p1, p2)"
   ]
  },
  {
   "cell_type": "markdown",
   "metadata": {},
   "source": [
    "where `d` is the distance, 0.5m, and `p1` is a point on the robot link 0 and `p2` is a point on the box"
   ]
  },
  {
   "cell_type": "markdown",
   "metadata": {},
   "source": [
    "## C. Interfaces"
   ]
  },
  {
   "cell_type": "markdown",
   "metadata": {},
   "source": [
    "The examples below will not work with CoLab.  They require a local browser to display the robot.\n",
    "\n",
    "To display the robot at a particular configuration"
   ]
  },
  {
   "cell_type": "code",
   "execution_count": null,
   "metadata": {},
   "outputs": [],
   "source": [
    "panda.plot(panda.qr, block=False);"
   ]
  },
  {
   "cell_type": "markdown",
   "metadata": {},
   "source": [
    "To animate the robot within the browser tab, we create a Swift instance, add the robot"
   ]
  },
  {
   "cell_type": "code",
   "execution_count": null,
   "metadata": {},
   "outputs": [],
   "source": [
    "from roboticstoolbox.backends.swift import Swift\n",
    "import time\n",
    "qt = jtraj(panda.qz, panda.qr, 100)\n",
    "backend = Swift()\n",
    "backend.launch()   # create graphical world\n",
    "backend.add(panda) # add robot to the world\n",
    "for q in qt.q:\n",
    "    panda.q = q        # update the robot\n",
    "    backend.step(0.2)    # display the world\n",
    "    time.sleep(0.1)\n"
   ]
  },
  {
   "cell_type": "code",
   "execution_count": null,
   "metadata": {},
   "outputs": [],
   "source": [
    "qt.q.shape"
   ]
  }
 ],
 "metadata": {
  "jupytext": {
   "cell_metadata_filter": "-all",
   "encoding": "# -*- coding: utf-8 -*-",
   "notebook_metadata_filter": "-all",
   "text_representation": {
    "extension": ".py",
    "format_name": "light"
   }
  },
  "kernelspec": {
   "display_name": "Python 3",
   "language": "python",
   "name": "python3"
  },
  "language_info": {
   "codemirror_mode": {
    "name": "ipython",
    "version": 3
   },
   "file_extension": ".py",
   "mimetype": "text/x-python",
   "name": "python",
   "nbconvert_exporter": "python",
   "pygments_lexer": "ipython3",
   "version": "3.8.5"
  },
  "varInspector": {
   "cols": {
    "lenName": 16,
    "lenType": 16,
    "lenVar": 40
   },
   "kernels_config": {
    "python": {
     "delete_cmd_postfix": "",
     "delete_cmd_prefix": "del ",
     "library": "var_list.py",
     "varRefreshCmd": "print(var_dic_list())"
    },
    "r": {
     "delete_cmd_postfix": ") ",
     "delete_cmd_prefix": "rm(",
     "library": "var_list.r",
     "varRefreshCmd": "cat(var_dic_list()) "
    }
   },
   "types_to_exclude": [
    "module",
    "function",
    "builtin_function_or_method",
    "instance",
    "_Feature"
   ],
   "window_display": false
  }
 },
 "nbformat": 4,
 "nbformat_minor": 4
}
