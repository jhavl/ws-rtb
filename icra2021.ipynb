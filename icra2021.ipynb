{
  "cells": [
    {
      "cell_type": "markdown",
      "metadata": {
        "id": "0BHumLe6NDja"
      },
      "source": [
        "# Not your grandmother’s toolbox– the Robotics Toolbox reinvented for python\n",
        "### Peter Corke and Jesse Haviland\n",
        "\n",
        "This is the code for the examples in the [paper published at ICRA2021](https://ieeexplore.ieee.org/document/9561366).\n",
        "\n",
        "\n",
        "## Configuring CoLab\n",
        "\n",
        "To make this run nicely in CoLab we have to install a bunch of packages.  This will be slow and at the end you will need to restart the kernel.  Push the `RESTART KERNEL` button that appears or from the menu above `Runtime/RestartRuntime`"
      ]
    },
    {
      "cell_type": "code",
      "execution_count": null,
      "metadata": {
        "id": "nBiEiLReNDjb"
      },
      "outputs": [],
      "source": [
        "!pip install numpy --upgrade\n",
        "!pip install roboticstoolbox-python\n",
        "!pip install -U ipython\n",
        "!pip install sympy\n",
        "!pip install spatialgeometry[collision]"
      ]
    },
    {
      "cell_type": "markdown",
      "source": [
        "Now, we can import some of the packages we need throughout, NumPy and Matplotlib, and configure the CoLab environment a bit."
      ],
      "metadata": {
        "id": "NCIbI9mmBd9Q"
      }
    },
    {
      "cell_type": "code",
      "source": [
        "from math import pi\n",
        "import numpy as np\n",
        "import matplotlib.pyplot as plt\n",
        "# display result of assignments\n",
        "%config ZMQInteractiveShell.ast_node_interactivity = 'last_expr_or_assign'\n",
        "# make NumPy display a bit nicer\n",
        "np.set_printoptions(linewidth=100, formatter={'float': lambda x: f\"{x:10.4g}\" if abs(x) > 1e-10 else f\"{0:8.4g}\"})\n",
        "# make cells nice and wide\n",
        "from IPython.display import display, HTML\n",
        "display(HTML(data=\"\"\"\n",
        "<style>\n",
        "    div#notebook-container    { width: 95%; }\n",
        "    div#menubar-container     { width: 65%; }\n",
        "    div#maintoolbar-container { width: 99%; }\n",
        "</style>\n",
        "\"\"\"))\n",
        "# %matplotlib widget"
      ],
      "metadata": {
        "id": "mWo8cgwQBA-H"
      },
      "execution_count": null,
      "outputs": []
    },
    {
      "cell_type": "markdown",
      "metadata": {
        "id": "_Dp2mx9TNDjc"
      },
      "source": [
        "# III.SPATIAL MATHEMATICS"
      ]
    },
    {
      "cell_type": "markdown",
      "metadata": {
        "id": "t6U3Z4iNNDjc"
      },
      "source": [
        "The spatial math package underpins the Robotics and Machine Vision Toolboxes. It supports mathematical objects such as SO(2), SE(2), SO(3) and SE(3) matrices, quaternions and unit quaternions as well as twists in 2D and 3D.\n",
        "\n",
        "We start by importing the package"
      ]
    },
    {
      "cell_type": "code",
      "execution_count": null,
      "metadata": {
        "id": "nnIrlQrbNDjc"
      },
      "outputs": [],
      "source": [
        "from spatialmath.base import *"
      ]
    },
    {
      "cell_type": "markdown",
      "metadata": {
        "id": "kglojnQ6NDjc"
      },
      "source": [
        "In robotics we most often need to represent pose in 3D space, and a common way to do this is with a matrix belonging to the group SE(3).\n",
        "\n",
        "We can create an SE(3) transformation by composing a number of simple transformations such as translations and rotations.  The toolbox has a bunch of functions that create and manipulate:\n",
        "\n",
        "* 2D NumPy arrays for SO(2), SE(2), SO(3) and SE(3), so(2), se(2), so(3), se(3) matrices\n",
        "* 1D NumPy arrays for quaternions, unit-quaternions and Twists\n",
        "\n",
        "If you are familiar with the venerable Robotics Toolbox for MATLAB, these functions have the same names and functionality."
      ]
    },
    {
      "cell_type": "code",
      "source": [
        "T = transl(0.5, 0.0, 0.0)"
      ],
      "metadata": {
        "id": "razqHFuJEtUJ"
      },
      "execution_count": null,
      "outputs": []
    },
    {
      "cell_type": "markdown",
      "source": [
        "has created an SE(3) matrix that represents a pure translation of 0.5 in the x-direction."
      ],
      "metadata": {
        "id": "vHJxq2hjEw-a"
      }
    },
    {
      "cell_type": "code",
      "source": [
        "T = trotx(-90, 'deg')"
      ],
      "metadata": {
        "id": "uDtbAvNpE1FJ"
      },
      "execution_count": null,
      "outputs": []
    },
    {
      "cell_type": "markdown",
      "source": [
        ""
      ],
      "metadata": {
        "id": "0JyZ6IJ9E5oc"
      }
    },
    {
      "cell_type": "markdown",
      "source": [
        "has created an SE(3) matrix that represents a pure rotation of -90° about the y-axis"
      ],
      "metadata": {
        "id": "-u7gEZMXE5vG"
      }
    },
    {
      "cell_type": "code",
      "source": [
        "rpy2tr(0.1, 0.2, 0.3, order='xyz')"
      ],
      "metadata": {
        "id": "GhVjmuy6E42_"
      },
      "execution_count": null,
      "outputs": []
    },
    {
      "cell_type": "markdown",
      "source": [
        "has created an SE(3) matrix that represents a rotation by the roll-pitch-yaw angles respectively 0.1, 0.2 and 0.3 radians.  They are composed in the order:\n",
        " * yaw about the z-axis, \n",
        " * pitch about the y-axis, then \n",
        " * roll about the x-axis \n",
        "\n",
        "This is the `order` given as `\"zyx\"` which is a common convention for mobile robots and drones.\n",
        "\n",
        "We can compose these SE(3) matrices by matrix multiplication (the NumPy `@` operator)"
      ],
      "metadata": {
        "id": "sbujgio5FGQ1"
      }
    },
    {
      "cell_type": "code",
      "execution_count": null,
      "metadata": {
        "id": "1s8MF-8WNDjd"
      },
      "outputs": [],
      "source": [
        "T = transl(0.5, 0.0, 0.0) @ rpy2tr(0.1, 0.2, 0.3, order='xyz') @ trotx(-90, 'deg')"
      ]
    },
    {
      "cell_type": "markdown",
      "metadata": {
        "id": "HR5V3gFcNDjd"
      },
      "source": [
        "which has created a 4x4 NumPy array with an SE(3) matrix value.  There are lots of functions in `spatialmath.base` to convert between different representations such roll-pitch-yaw angles, Euler angles, angle-axis, unit quaternions and so on.  There are also functions to plot and animate frames and even turn those into mp4 files. If you're a fan of twists and product of exponential representations there are also functions to compute skew-symmetric matrices, logarithms and exponentials."
      ]
    },
    {
      "cell_type": "markdown",
      "metadata": {
        "id": "wsLi7jj0NDjd"
      },
      "source": [
        "Alternatively, and definitely encouraged, we can use the object-oriented interface"
      ]
    },
    {
      "cell_type": "code",
      "execution_count": null,
      "metadata": {
        "id": "YSVoesAMNDjd"
      },
      "outputs": [],
      "source": [
        "from spatialmath import *"
      ]
    },
    {
      "cell_type": "markdown",
      "metadata": {
        "id": "m8dP6c5DNDje"
      },
      "source": [
        "and we can rewrite the above example as"
      ]
    },
    {
      "cell_type": "code",
      "execution_count": null,
      "metadata": {
        "id": "f70vcuLtNDje"
      },
      "outputs": [],
      "source": [
        "T = SE3(0.5, 0.0, 0.0) * SE3.RPY([0.1, 0.2, 0.3], order='xyz') * SE3.Rx(-90, unit='deg')"
      ]
    },
    {
      "cell_type": "markdown",
      "metadata": {
        "id": "m4DSTBH2NDje"
      },
      "source": [
        "In most environments, we see the matrix printed with color coding: red for rotation submatrix, blue for translation, grey for constant values.\n",
        "\n",
        "The matrices are encapsulated in objects, we can compose them using the regular `*` operator.  "
      ]
    },
    {
      "cell_type": "code",
      "execution_count": null,
      "metadata": {
        "id": "iRbVA0QRNDje"
      },
      "outputs": [],
      "source": [
        "T.eul()"
      ]
    },
    {
      "cell_type": "code",
      "execution_count": null,
      "metadata": {
        "id": "BcXCu9gONDjf"
      },
      "outputs": [],
      "source": [
        "T.R"
      ]
    },
    {
      "cell_type": "code",
      "execution_count": null,
      "metadata": {
        "id": "flb3zO6aNDjf"
      },
      "outputs": [],
      "source": [
        "T.plot(color='red', label='2')"
      ]
    },
    {
      "cell_type": "code",
      "execution_count": null,
      "metadata": {
        "id": "kkuSfxOTNDjf"
      },
      "outputs": [],
      "source": [
        "T.inv()"
      ]
    },
    {
      "cell_type": "markdown",
      "metadata": {
        "id": "j9yh4JI3NDjg"
      },
      "source": [
        "We can create unit quaternions using the same methods as we did for `SE3` objects, and compose them using the `*` operator"
      ]
    },
    {
      "cell_type": "code",
      "execution_count": null,
      "metadata": {
        "id": "arzptzqxNDjg"
      },
      "outputs": [],
      "source": [
        "q1 = UnitQuaternion.Rx(0.3)\n"
      ]
    },
    {
      "cell_type": "code",
      "execution_count": null,
      "metadata": {
        "id": "cL1VD8ZyNDjg"
      },
      "outputs": [],
      "source": [
        "q2 = UnitQuaternion.AngVec(0.3, [1, 0, 0])"
      ]
    },
    {
      "cell_type": "code",
      "execution_count": null,
      "metadata": {
        "id": "T-IenHMHNDjg"
      },
      "outputs": [],
      "source": [
        "q3 = q1 * q2"
      ]
    },
    {
      "cell_type": "markdown",
      "metadata": {
        "id": "9liKbAaCNDjh"
      },
      "source": [
        "The inverse is easy"
      ]
    },
    {
      "cell_type": "code",
      "execution_count": null,
      "metadata": {
        "id": "Vks6z6HgNDjh"
      },
      "outputs": [],
      "source": [
        "q3.inv()"
      ]
    },
    {
      "cell_type": "markdown",
      "metadata": {
        "id": "VUGpgSewNDjh"
      },
      "source": [
        "and we can convert back to an SO(3) rotation matrix"
      ]
    },
    {
      "cell_type": "code",
      "execution_count": null,
      "metadata": {
        "id": "YQuWnV9NNDjh"
      },
      "outputs": [],
      "source": [
        "q3.SO3()"
      ]
    },
    {
      "cell_type": "markdown",
      "metadata": {
        "id": "rvOwksEmNDjh"
      },
      "source": [
        "All the objects just introduced have three superpowers.  Firstly, they can each hold multiple values, just like a Python list.  This is really useful for a collection of frames along a trajectory, or for every link on a robot arm"
      ]
    },
    {
      "cell_type": "code",
      "execution_count": null,
      "metadata": {
        "id": "aZhTwijfNDji"
      },
      "outputs": [],
      "source": [
        "T_many = SE3.Rx(np.linspace(0, pi/2, num=100))\n"
      ]
    },
    {
      "cell_type": "code",
      "execution_count": null,
      "metadata": {
        "id": "hv4_19-aNDji"
      },
      "outputs": [],
      "source": [
        "len(T_many)"
      ]
    },
    {
      "cell_type": "markdown",
      "metadata": {
        "id": "SDBkJu7-NDji"
      },
      "source": [
        "So we can slice them"
      ]
    },
    {
      "cell_type": "code",
      "execution_count": null,
      "metadata": {
        "id": "oSkc0w2YNDji"
      },
      "outputs": [],
      "source": [
        "T_many[20]"
      ]
    },
    {
      "cell_type": "markdown",
      "metadata": {
        "id": "BXZ4s3xmNDji"
      },
      "source": [
        "or use them as iterators in `for` loop or comprehensions"
      ]
    },
    {
      "cell_type": "code",
      "execution_count": null,
      "metadata": {
        "id": "CWB31CSfNDjj"
      },
      "outputs": [],
      "source": [
        "for T in T_many:\n",
        "    pass  # do a thing"
      ]
    },
    {
      "cell_type": "markdown",
      "metadata": {
        "id": "9BNPPTQENDjj"
      },
      "source": [
        "The second super power is broadcasting."
      ]
    },
    {
      "cell_type": "code",
      "execution_count": null,
      "metadata": {
        "id": "JH1EO9vXNDjj"
      },
      "outputs": [],
      "source": [
        "T = SE3.Ry(60, unit=\"deg\")\n",
        "T2 = T_many * T\n",
        "len(T2)"
      ]
    },
    {
      "cell_type": "markdown",
      "metadata": {
        "id": "A91XC1FlNDjj"
      },
      "source": [
        "which has created a new `SE3` object where each value is `T_many[k] * T`.\n",
        "\n",
        "The third superpower is all these objects can transform a vector, or a bunch of vectors"
      ]
    },
    {
      "cell_type": "code",
      "execution_count": null,
      "metadata": {
        "id": "J5GoqX6mNDjk"
      },
      "outputs": [],
      "source": [
        "T * [1, 2, 3]"
      ]
    },
    {
      "cell_type": "markdown",
      "metadata": {
        "id": "DsHEa696NDjk"
      },
      "source": [
        "and the class has handled all the hassle of converting the vector to homogeneous form first.\n",
        "\n",
        "This also works for a collection of vectors, always arranged columnwise"
      ]
    },
    {
      "cell_type": "code",
      "execution_count": null,
      "metadata": {
        "id": "yT_8qxK4NDjk"
      },
      "outputs": [],
      "source": [
        "T * np.array([[1,2,3], [4,5,6]]).T"
      ]
    },
    {
      "cell_type": "markdown",
      "metadata": {
        "id": "7SpgQwRNNDjk"
      },
      "source": [
        "and combining all the superpowers we can write"
      ]
    },
    {
      "cell_type": "code",
      "execution_count": null,
      "metadata": {
        "id": "JBdnjO7ONDjk"
      },
      "outputs": [],
      "source": [
        "T_many * [1, 2, 3]"
      ]
    },
    {
      "cell_type": "markdown",
      "metadata": {
        "id": "HVIafNjhNDjk"
      },
      "source": [
        "which has applied each element of `T_many` to transform the vector `[1,2,3]`, resulting in a 3x100 array, one column per transformed vector."
      ]
    },
    {
      "cell_type": "markdown",
      "metadata": {
        "id": "RvPMDYI7NDjl"
      },
      "source": [
        "# IV. ROBOTICS TOOLBOX\n",
        "\n",
        "## A. Robot models"
      ]
    },
    {
      "cell_type": "markdown",
      "metadata": {
        "id": "XjeWZwZnNDjl"
      },
      "source": [
        "If you like Denavit-Hartenberg notation (standard or modified) then it is easy to create a robot model, it is simply a list of objects that represent a link-joint pair"
      ]
    },
    {
      "cell_type": "code",
      "execution_count": null,
      "metadata": {
        "id": "DR5gxQK5NDjl"
      },
      "outputs": [],
      "source": [
        "from roboticstoolbox import *\n",
        "# robot length values (metres)\n",
        "d1 = 0.352\n",
        "a1 = 0.070\n",
        "a2 = 0.360\n",
        "d4 = 0.380\n",
        "d6 = 0.065;"
      ]
    },
    {
      "cell_type": "code",
      "execution_count": null,
      "metadata": {
        "id": "JuVcwvbcNDjl"
      },
      "outputs": [],
      "source": [
        "robot = DHRobot([\n",
        "  RevoluteDH(d=d1, a=a1, alpha=-pi/2), \n",
        "  RevoluteDH(a=a2), \n",
        "  RevoluteDH(alpha=pi/2),\n",
        "  ], name=\"my IRB140\")"
      ]
    },
    {
      "cell_type": "markdown",
      "metadata": {
        "id": "ZQZmjzLNNDjm"
      },
      "source": [
        "There are also a lot of prebuilt models shipping with the toolbox"
      ]
    },
    {
      "cell_type": "code",
      "execution_count": null,
      "metadata": {
        "id": "JQl9agrxNDjm"
      },
      "outputs": [],
      "source": [
        "models.list()"
      ]
    },
    {
      "cell_type": "markdown",
      "metadata": {
        "id": "y8fZi-5MNDjm"
      },
      "source": [
        "There are currently over 50 robot models, and they fall into three types:\n",
        "1. `DH`, based on standard or modifed Denavit-Hartenberg (DH) notation.  This is what you will find in most of the standard robotics texts\n",
        "2. `ETS`, this is a new way to think about robot kinematics that avoids the (IMO) complexity of DH notation, and was described in [this paper](https://ieeexplore.ieee.org/document/4252158)\n",
        "3. [`URDF`](http://wiki.ros.org/urdf/Tutorials/Building%20a%20Visual%20Robot%20Model%20with%20URDF%20from%20Scratch), which is an industry standard way to represent kinematics, dynamics and 3D structure in XML format\n",
        "\n",
        "We will load a standard Denavit-Hartenberg model of Peter's favourite robot"
      ]
    },
    {
      "cell_type": "code",
      "execution_count": null,
      "metadata": {
        "id": "fxd3E9zYNDjm"
      },
      "outputs": [],
      "source": [
        "puma = models.DH.Puma560()"
      ]
    },
    {
      "cell_type": "markdown",
      "metadata": {
        "id": "oa5b9JnQNDjn"
      },
      "source": [
        "The `__repr__` method for these objects pretty prints the parameters as a table.  The second table is a list of named joint configurations, for example the \"nominal\" configuration is"
      ]
    },
    {
      "cell_type": "code",
      "execution_count": null,
      "metadata": {
        "id": "iV4VUAAeNDjn"
      },
      "outputs": [],
      "source": [
        "puma.qn"
      ]
    },
    {
      "cell_type": "markdown",
      "metadata": {
        "id": "Dbb_BuueNDjn"
      },
      "source": [
        "You can easily add your own, which modifies that particular robot instance"
      ]
    },
    {
      "cell_type": "code",
      "execution_count": null,
      "metadata": {
        "id": "xxn2Tl9JNDjn"
      },
      "outputs": [],
      "source": [
        "puma.addconfiguration(\"foo\", [1,2,3,4,5,6])\n",
        "puma.foo"
      ]
    },
    {
      "cell_type": "markdown",
      "metadata": {
        "id": "Pe8tNPJhNDjn"
      },
      "source": [
        "The most fundamental operation on a robot is to determine its forward kinematics, that is, the pose of its end effector given the joint configuration.  All types of robot object have an `fkine` method to compute this"
      ]
    },
    {
      "cell_type": "code",
      "execution_count": null,
      "metadata": {
        "id": "eWMZm3r3NDjo"
      },
      "outputs": [],
      "source": [
        "T = puma.fkine([0.1, 0.2, 0.3, 0.4, 0.5, 0.6])"
      ]
    },
    {
      "cell_type": "markdown",
      "metadata": {
        "id": "ggSY7qRwNDjo"
      },
      "source": [
        "or, if you prefer, in a more compact form"
      ]
    },
    {
      "cell_type": "code",
      "execution_count": null,
      "metadata": {
        "id": "GPb_5lujNDjo"
      },
      "outputs": [],
      "source": [
        "T.printline()"
      ]
    },
    {
      "cell_type": "markdown",
      "metadata": {
        "id": "sWqfyQ9rNDjo"
      },
      "source": [
        "The next most fundamental operation on a robot is to determine its inverse kinematics, that is, given the pose of its end effector, what are the required joint angles.  In general there are multiple solutions, and the Toolbox provides a numerical solution to this problem"
      ]
    },
    {
      "cell_type": "code",
      "execution_count": null,
      "metadata": {
        "id": "C33_5CI2NDjo"
      },
      "outputs": [],
      "source": [
        "sol = puma.ikine_LM(T)\n",
        "sol"
      ]
    },
    {
      "cell_type": "markdown",
      "metadata": {
        "id": "n8u2H0KoNDjo"
      },
      "source": [
        "and the return value indicates success and provides the required joint angles.\n",
        "\n",
        "Because this is a numerical solution, it requires a reasonable initial estimate of the joint configuration.  Here it started at zero and has managed to converge, but if it does not converge then a better initial estimate is required, provided using the `q0=` argument.\n",
        "\n",
        "Some robots, for example the Puma560, have an analytical solution available as well, and its options allow for control over which, of the multiple, solutions is returned"
      ]
    },
    {
      "cell_type": "code",
      "execution_count": null,
      "metadata": {
        "id": "Nvx_YxxxNDjp"
      },
      "outputs": [],
      "source": [
        "puma.ikine_a(T)"
      ]
    },
    {
      "cell_type": "markdown",
      "metadata": {
        "id": "ex0QskTBNDjp"
      },
      "source": [
        "We can also plot the robot, but this seems to be not working in Jupyter :)"
      ]
    },
    {
      "cell_type": "code",
      "execution_count": null,
      "metadata": {
        "id": "lYrSDSA5NDjp"
      },
      "outputs": [],
      "source": [
        "puma.plot(sol.q, backend=\"pyplot\");"
      ]
    },
    {
      "cell_type": "code",
      "execution_count": null,
      "metadata": {
        "id": "wSdOLHKXNDjp"
      },
      "outputs": [],
      "source": [
        "puma.ikine_a(T, config=\"lun\")"
      ]
    },
    {
      "cell_type": "markdown",
      "metadata": {
        "id": "soZ4dpW5NDjp"
      },
      "source": [
        "As mentioned earlier, the ETS notation is a different way to think about robot kinematics.\n",
        "\n",
        "We start by defining a set of dimensions for the robot, this example mimics the one in the [paper](https://ieeexplore.ieee.org/document/4252158)"
      ]
    },
    {
      "cell_type": "code",
      "execution_count": null,
      "metadata": {
        "id": "QUcOBs3eNDjp"
      },
      "outputs": [],
      "source": [
        "from roboticstoolbox import ETS as ET\n",
        "# Puma dimensions (m), see RVC2 Fig. 7.4 for details\n",
        "l1 = 0.672\n",
        "l2 = -0.2337\n",
        "l3 = 0.4318\n",
        "l4 = 0.0203\n",
        "l5 = 0.0837\n",
        "l6 = 0.4318;"
      ]
    },
    {
      "cell_type": "markdown",
      "metadata": {
        "id": "e7agciuZNDjq"
      },
      "source": [
        "and now we can write an expression, in terms of translations and rotations, along or about the x-, y- and z-axes.  These can be by a constant amount or by a joint variable (indicated by no passed argument to the method)"
      ]
    },
    {
      "cell_type": "code",
      "execution_count": null,
      "metadata": {
        "id": "qCdpyJPTNDjq"
      },
      "outputs": [],
      "source": [
        "e = ET.tz(l1) * ET.rz() * ET.ty(l2) * ET.ry() \\\n",
        "    * ET.tz(l3) * ET.tx(l4) * ET.ty(l5) * ET.ry() \\\n",
        "    * ET.tz(l6) * ET.rz() * ET.ry() * ET.rz()"
      ]
    },
    {
      "cell_type": "markdown",
      "metadata": {
        "id": "FsOxCrFGNDjq"
      },
      "source": [
        "The result is an `ETS` object which is like a Python list, it can sliced and iterated.\n",
        "\n",
        "We pass this to the `ERobot` constructor (E for ETS robot) and it chops the ETS into chunks, each one ending with a joint variable"
      ]
    },
    {
      "cell_type": "code",
      "execution_count": null,
      "metadata": {
        "id": "4gbYnKeZNDjq"
      },
      "outputs": [],
      "source": [
        "robot = ERobot(e)"
      ]
    },
    {
      "cell_type": "markdown",
      "metadata": {
        "id": "JLzj0cFINDjr"
      },
      "source": [
        "The `@` symbol indicates the end of a branch (we can have robots with multiple branches) or an end-effector.\n",
        "\n",
        "Finally, we will load a model of the Franka-Emika Panda from a URDF file that is included with the Toolbox"
      ]
    },
    {
      "cell_type": "code",
      "execution_count": null,
      "metadata": {
        "lines_to_next_cell": 2,
        "id": "_5p2_Y9nNDjr"
      },
      "outputs": [],
      "source": [
        "panda = models.URDF.Panda()"
      ]
    },
    {
      "cell_type": "markdown",
      "metadata": {
        "id": "XffJoFSlNDjr"
      },
      "source": [
        "The table at the top has tags:\n",
        "* `geometry` the model includes models of the 3D geometry of the robot, as STL or Collada files.\n",
        "* `collision` the model includes collision geometry, a set of simple geometric primitives, such as cylinders and spheres, for each link that can be used for collision checking.\n",
        "\n",
        "The `@` symbol again indicates the end of a branch (we can have robots with multiple branches) or an end-effector.  Links shown in blue have a constant transformation with respect to their parent link.\n"
      ]
    },
    {
      "cell_type": "markdown",
      "metadata": {
        "id": "FZ0lPn7cNDjr"
      },
      "source": [
        "## B. Trajectories"
      ]
    },
    {
      "cell_type": "code",
      "execution_count": null,
      "metadata": {
        "id": "qTrbjo4VNDjr"
      },
      "outputs": [],
      "source": [
        "traj = jtraj(puma.qz, puma.qr, 100)\n",
        "plt.plot(traj.q);"
      ]
    },
    {
      "cell_type": "code",
      "execution_count": null,
      "metadata": {
        "id": "YZKWLmUuNDjs"
      },
      "outputs": [],
      "source": [
        "t = np.arange(0, 2, 0.010)\n",
        "T0 = SE3(0.6, -0.5, 0.3)"
      ]
    },
    {
      "cell_type": "code",
      "execution_count": null,
      "metadata": {
        "id": "uEGoWOXGNDjs"
      },
      "outputs": [],
      "source": [
        "T1 = SE3(0.4, 0.5, 0.2)"
      ]
    },
    {
      "cell_type": "code",
      "execution_count": null,
      "metadata": {
        "id": "IzWBsOhuNDjs"
      },
      "outputs": [],
      "source": [
        "Ts = ctraj(T0, T1, t)\n",
        "len(Ts)"
      ]
    },
    {
      "cell_type": "code",
      "execution_count": null,
      "metadata": {
        "id": "tRob9YRXNDjs"
      },
      "outputs": [],
      "source": [
        "sol = puma.ikine_LM(Ts)\n",
        "sol.q.shape"
      ]
    },
    {
      "cell_type": "markdown",
      "metadata": {
        "id": "6LLEnMZrNDjs"
      },
      "source": [
        "## C. Symbolic manipulation"
      ]
    },
    {
      "cell_type": "code",
      "execution_count": null,
      "metadata": {
        "id": "BMbvfqBGNDjs"
      },
      "outputs": [],
      "source": [
        "import spatialmath.base.symbolic as sym"
      ]
    },
    {
      "cell_type": "markdown",
      "metadata": {
        "id": "RX83dgLINDjt"
      },
      "source": [
        "We first define some symbols, these are Python objects.  We can give them unicode names so that they display as Greek letters.  Now we can display the mapping from roll-pitch-yaw angles to an SO(3) matrix."
      ]
    },
    {
      "cell_type": "code",
      "execution_count": null,
      "metadata": {
        "id": "c77GK3xMNDjt"
      },
      "outputs": [],
      "source": [
        "phi, theta, psi = sym.symbol('φ, ϴ, ψ')\n",
        "rpy2r(phi, theta, psi)"
      ]
    },
    {
      "cell_type": "markdown",
      "metadata": {
        "id": "b2vBJYZxNDjt"
      },
      "source": [
        "Next, we can define a vector of symbolic joint variables, and use that to compute the forward kinematics -- symbolically."
      ]
    },
    {
      "cell_type": "code",
      "execution_count": null,
      "metadata": {
        "id": "JrW0reNQNDjt"
      },
      "outputs": [],
      "source": [
        "q = sym.symbol(\"q_:6\") # q = (q_1, q_2, ... q_5)\n",
        "T = puma.fkine(q);"
      ]
    },
    {
      "cell_type": "markdown",
      "metadata": {
        "id": "5QSDK2OLNDjt"
      },
      "source": [
        "This expression is huge, remove the semicolon on the last line above, and rerun the cell to check.\n",
        "\n",
        "Partly this is because $\\alpha_j$ values, which are generally some integer multiple of $\\pi/2$, lead to sin and cos values that are not quite zero or one.\n",
        "\n",
        "Instead we can load a new model of the robot where those parameters have symbolic values, not numeric, leading to crisp zero or one trig results."
      ]
    },
    {
      "cell_type": "code",
      "execution_count": null,
      "metadata": {
        "id": "QBOBQUH-NDjt"
      },
      "outputs": [],
      "source": [
        "puma = models.DH.Puma560(symbolic=True)\n",
        "T = puma.fkine(q)"
      ]
    },
    {
      "cell_type": "markdown",
      "metadata": {
        "id": "u1w1wx0sNDju"
      },
      "source": [
        "The result is much more compact.  Here, we will display just the translational part of this.  The position of the end effector as a function of the first three joint angles.  The last three joint angles don't enter because the robot has a spherical wrist and the tool in this example has zero length."
      ]
    },
    {
      "cell_type": "code",
      "execution_count": null,
      "metadata": {
        "id": "Y5P00_6WNDju"
      },
      "outputs": [],
      "source": [
        "T.t[0]"
      ]
    },
    {
      "cell_type": "markdown",
      "metadata": {
        "id": "pBUDbytDNDju"
      },
      "source": [
        "## D. Differential kinematics"
      ]
    },
    {
      "cell_type": "markdown",
      "metadata": {
        "id": "t7vKDEcBNDju"
      },
      "source": [
        "We will reload the numerical robot model"
      ]
    },
    {
      "cell_type": "code",
      "execution_count": null,
      "metadata": {
        "id": "P1BEChZmNDju"
      },
      "outputs": [],
      "source": [
        "puma = models.DH.Puma560(symbolic=False)"
      ]
    },
    {
      "cell_type": "markdown",
      "metadata": {
        "id": "s-2qF_1UNDju"
      },
      "source": [
        "Now we will compute the Jacobian matrix that relates joint velocity to spatial velocity of the end effector, in the world-coordinate frame"
      ]
    },
    {
      "cell_type": "code",
      "execution_count": null,
      "metadata": {
        "id": "vm7lHGk-NDju"
      },
      "outputs": [],
      "source": [
        "J = puma.jacob0(puma.qr)"
      ]
    },
    {
      "cell_type": "markdown",
      "metadata": {
        "id": "56MiqxwjNDjv"
      },
      "source": [
        "This particular configuration is singular, and the Jacobian is not full rank"
      ]
    },
    {
      "cell_type": "code",
      "execution_count": null,
      "metadata": {
        "id": "9f0pvhDjNDjv"
      },
      "outputs": [],
      "source": [
        "np.linalg.matrix_rank(J)"
      ]
    },
    {
      "cell_type": "markdown",
      "metadata": {
        "id": "7kGvnaHoNDjv"
      },
      "source": [
        "Analyzing dependencies amongst the columns of the Jacobians we find that"
      ]
    },
    {
      "cell_type": "code",
      "execution_count": null,
      "metadata": {
        "id": "saKxgJmRNDjv"
      },
      "outputs": [],
      "source": [
        "jsingu(J)"
      ]
    },
    {
      "cell_type": "markdown",
      "metadata": {
        "id": "GGUYaKO6NDjv"
      },
      "source": [
        "We can just as easily compute the Jacobian in the end effector coordinate frame"
      ]
    },
    {
      "cell_type": "code",
      "execution_count": null,
      "metadata": {
        "id": "xJ8Nu9GYNDjv"
      },
      "outputs": [],
      "source": [
        "J = puma.jacobe(puma.qn)"
      ]
    },
    {
      "cell_type": "markdown",
      "metadata": {
        "id": "9fIIDE_mNDjv"
      },
      "source": [
        "The Hessian is the derivative of the Jacobian and is a rank-3 tensor, a 3D array, useful in task-space dynamic problems"
      ]
    },
    {
      "cell_type": "code",
      "execution_count": null,
      "metadata": {
        "id": "0Wk0m3P7NDjw"
      },
      "outputs": [],
      "source": [
        "H = puma.hessian0(puma.qn)\n",
        "H.shape"
      ]
    },
    {
      "cell_type": "markdown",
      "metadata": {
        "id": "ys1_TchNNDjw"
      },
      "source": [
        "For many robot problems we are interested in manipulability, that is, how well posed the robot is to make movement in any direction.  We can also think of this as distance away from a singularity where we lose a degree of freedom of motion.  Two common measures are due to Yoshikawa and Asada"
      ]
    },
    {
      "cell_type": "code",
      "execution_count": null,
      "metadata": {
        "id": "kvbCR49sNDjw"
      },
      "outputs": [],
      "source": [
        "puma.manipulability(puma.qn)"
      ]
    },
    {
      "cell_type": "code",
      "execution_count": null,
      "metadata": {
        "id": "hgzc3qfrNDjw"
      },
      "outputs": [],
      "source": [
        "puma.manipulability(puma.qn, method=\"asada\")"
      ]
    },
    {
      "cell_type": "code",
      "execution_count": null,
      "metadata": {
        "id": "A2fqrO0iNDjw"
      },
      "outputs": [],
      "source": [
        "puma.manipulability(puma.qn, axes=\"trans\")"
      ]
    },
    {
      "cell_type": "markdown",
      "metadata": {
        "id": "B8K_Lv5tNDjw"
      },
      "source": [
        "Motion control that optimizes manipulability needs the manipulability Jacobian, the rate of change of manipulability with respect to each joint variable"
      ]
    },
    {
      "cell_type": "code",
      "execution_count": null,
      "metadata": {
        "lines_to_next_cell": 2,
        "id": "_exhZ1yGNDjw"
      },
      "outputs": [],
      "source": [
        "puma.jacobm(puma.qn)"
      ]
    },
    {
      "cell_type": "markdown",
      "metadata": {
        "id": "x8rXxe_8NDjx"
      },
      "source": [
        "## E. Dynamics"
      ]
    },
    {
      "cell_type": "markdown",
      "metadata": {
        "id": "YSrtVIYvNDjx"
      },
      "source": [
        "The Toolbox has rich support for manipulator dynamics.\n",
        "\n",
        "We can compute the inverse dynamics, the torques required to achieve a particular dynamic state $(q, \\dot{q}, \\ddot{q})$"
      ]
    },
    {
      "cell_type": "code",
      "execution_count": null,
      "metadata": {
        "lines_to_next_cell": 2,
        "id": "-BqhZkxSNDjx"
      },
      "outputs": [],
      "source": [
        "tau = puma.rne(puma.qn, np.zeros((6,)), np.zeros((6,)))"
      ]
    },
    {
      "cell_type": "markdown",
      "metadata": {
        "id": "kmphgvtRNDjx"
      },
      "source": [
        "The inertia tensor is a symmetric matrix that depends on joint configuration"
      ]
    },
    {
      "cell_type": "code",
      "execution_count": null,
      "metadata": {
        "lines_to_next_cell": 2,
        "id": "TGwR-VdWNDjx"
      },
      "outputs": [],
      "source": [
        "J = puma.inertia(puma.qn)"
      ]
    },
    {
      "cell_type": "markdown",
      "metadata": {
        "id": "VCzL6KUeNDjx"
      },
      "source": [
        "and the velocity terms, Coriolis and centrigual coupling terms, is a function of joint configuration and velocity"
      ]
    },
    {
      "cell_type": "code",
      "execution_count": null,
      "metadata": {
        "lines_to_next_cell": 2,
        "id": "JMkNBEs9NDjx"
      },
      "outputs": [],
      "source": [
        "C = puma.coriolis(puma.qn, 0.1 * np.ones((6,)))"
      ]
    },
    {
      "cell_type": "markdown",
      "metadata": {
        "id": "9OwRojB_NDjx"
      },
      "source": [
        "The final element is the gravity torque, the joint torques due to gravity weight forces acting on all the links"
      ]
    },
    {
      "cell_type": "code",
      "execution_count": null,
      "metadata": {
        "lines_to_next_cell": 2,
        "id": "rlynFbrkNDjy"
      },
      "outputs": [],
      "source": [
        "g = puma.gravload(puma.qn)"
      ]
    },
    {
      "cell_type": "markdown",
      "metadata": {
        "id": "NJm6i38bNDjy"
      },
      "source": [
        "The forward dynamics is the joint acceleration as a function of $(q, \\dot{q}, \\tau)$ and can be integrated to simulate the motion of the robot."
      ]
    },
    {
      "cell_type": "code",
      "execution_count": null,
      "metadata": {
        "lines_to_next_cell": 2,
        "id": "xPBnPnBiNDjy"
      },
      "outputs": [],
      "source": [
        "qdd = puma.accel(puma.qn, np.zeros((6,)), tau)"
      ]
    },
    {
      "cell_type": "markdown",
      "metadata": {
        "id": "t-5UrXZUNDjy"
      },
      "source": [
        "# V. NEW CAPABILITY\n",
        "\n",
        "## B. Collision checking"
      ]
    },
    {
      "cell_type": "code",
      "execution_count": null,
      "metadata": {
        "id": "8vZScmzlNDjy"
      },
      "outputs": [],
      "source": [
        "from spatialgeometry import Cuboid\n"
      ]
    },
    {
      "cell_type": "markdown",
      "metadata": {
        "id": "7_9iSUnfNDjz"
      },
      "source": [
        "The Toolbox now has support for collision checking, using the bullet engine.\n",
        "\n",
        "We create an instance of a Franka-Emika Panda robot and a big box, 1x1x1m "
      ]
    },
    {
      "cell_type": "code",
      "execution_count": null,
      "metadata": {
        "id": "qLGKYNhLNDjz"
      },
      "outputs": [],
      "source": [
        "panda = models.URDF.Panda()\n",
        "obstacle = Cuboid([1, 1, 1], base=SE3(1, 0, 0));"
      ]
    },
    {
      "cell_type": "markdown",
      "metadata": {
        "id": "_KT3eqoXNDjz"
      },
      "source": [
        "And then test if the robot, in configuration `qr`, collides with the box"
      ]
    },
    {
      "cell_type": "code",
      "execution_count": null,
      "metadata": {
        "id": "Z8knhkIxNDjz"
      },
      "outputs": [],
      "source": [
        "iscollision = panda.collided(panda.qr, obstacle) # boolean"
      ]
    },
    {
      "cell_type": "markdown",
      "metadata": {
        "id": "wZy2etoqNDjz"
      },
      "source": [
        "which it does.  We can do more fine grained testing, does link[0] collide with the box?"
      ]
    },
    {
      "cell_type": "code",
      "execution_count": null,
      "metadata": {
        "id": "ZR5y3dZiNDjz"
      },
      "outputs": [],
      "source": [
        "iscollision = panda.links[0].collided(obstacle)"
      ]
    },
    {
      "cell_type": "markdown",
      "metadata": {
        "id": "5GDDawKWNDj0"
      },
      "source": [
        "No, it doesn't.  But what are the closest points on these objects?"
      ]
    },
    {
      "cell_type": "code",
      "execution_count": null,
      "metadata": {
        "id": "MG6QVHTTNDj0"
      },
      "outputs": [],
      "source": [
        "\n",
        "d, p1, p2 = panda.links[0].closest_point(obstacle)\n",
        "print(d, p1, p2)"
      ]
    },
    {
      "cell_type": "markdown",
      "metadata": {
        "id": "-KfegyWbNDj0"
      },
      "source": [
        "where `d` is the distance, 0.5m, and `p1` is a point on the robot link 0 and `p2` is a point on the box"
      ]
    },
    {
      "cell_type": "markdown",
      "metadata": {
        "id": "nlk6EnGlNDj0"
      },
      "source": [
        "## C. Interfaces"
      ]
    },
    {
      "cell_type": "markdown",
      "metadata": {
        "id": "jW1ZRJHYNDj0"
      },
      "source": [
        "**The examples below will not work with CoLab.**  They require a local browser to display the robot.\n",
        "\n",
        "To display the robot at a particular configuration"
      ]
    },
    {
      "cell_type": "code",
      "execution_count": null,
      "metadata": {
        "id": "ajGiIP1XNDj0"
      },
      "outputs": [],
      "source": [
        "panda.plot(panda.qr, block=False);"
      ]
    },
    {
      "cell_type": "markdown",
      "metadata": {
        "id": "VkOJJoRNNDj1"
      },
      "source": [
        "To animate the robot within the browser tab, we create a Swift instance, add the robot, and then, in a loop, update its configuration and `step` the simulation environment."
      ]
    },
    {
      "cell_type": "code",
      "execution_count": null,
      "metadata": {
        "id": "dVLMyqlSNDj1"
      },
      "outputs": [],
      "source": [
        "from roboticstoolbox.backends.swift import Swift\n",
        "qt = jtraj(panda.qz, panda.qr, 100)\n",
        "backend = Swift()\n",
        "backend.launch(realtime=True)  # create graphical world\n",
        "backend.add(panda)             # add robot to the world\n",
        "for q in qt.q:\n",
        "    panda.q = q                # update the robot\n",
        "    backend.step(dt=0.1)       # display/refresh the world\n"
      ]
    }
  ],
  "metadata": {
    "jupytext": {
      "cell_metadata_filter": "-all",
      "encoding": "# -*- coding: utf-8 -*-",
      "notebook_metadata_filter": "-all",
      "text_representation": {
        "extension": ".py",
        "format_name": "light"
      }
    },
    "kernelspec": {
      "display_name": "Python 3",
      "language": "python",
      "name": "python3"
    },
    "language_info": {
      "codemirror_mode": {
        "name": "ipython",
        "version": 3
      },
      "file_extension": ".py",
      "mimetype": "text/x-python",
      "name": "python",
      "nbconvert_exporter": "python",
      "pygments_lexer": "ipython3",
      "version": "3.8.5"
    },
    "varInspector": {
      "cols": {
        "lenName": 16,
        "lenType": 16,
        "lenVar": 40
      },
      "kernels_config": {
        "python": {
          "delete_cmd_postfix": "",
          "delete_cmd_prefix": "del ",
          "library": "var_list.py",
          "varRefreshCmd": "print(var_dic_list())"
        },
        "r": {
          "delete_cmd_postfix": ") ",
          "delete_cmd_prefix": "rm(",
          "library": "var_list.r",
          "varRefreshCmd": "cat(var_dic_list()) "
        }
      },
      "types_to_exclude": [
        "module",
        "function",
        "builtin_function_or_method",
        "instance",
        "_Feature"
      ],
      "window_display": false
    },
    "colab": {
      "name": "icra2021.ipynb",
      "provenance": [],
      "toc_visible": true
    }
  },
  "nbformat": 4,
  "nbformat_minor": 0
}