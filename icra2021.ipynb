{
  "cells": [
    {
      "cell_type": "markdown",
      "metadata": {
        "id": "WyJ1eAeiGYi6"
      },
      "source": [
        "# Not your grandmother’s toolbox– the Robotics Toolbox reinvented for python\n",
        "### Peter Corke and Jesse Haviland\n",
        "\n",
        "This is the code for the examples in the [paper published at ICRA2021](https://ieeexplore.ieee.org/document/9561366).\n"
      ]
    },
    {
      "cell_type": "code",
      "execution_count": 1,
      "metadata": {
        "colab": {
          "base_uri": "https://localhost:8080/",
          "height": 411
        },
        "id": "ltGg2gWzGYi7",
        "outputId": "75b147c4-8c06-4d75-9062-9211b102efc4"
      },
      "outputs": [
        {
          "output_type": "stream",
          "name": "stdout",
          "text": [
            "Requirement already satisfied: numpy in /usr/local/lib/python3.7/dist-packages (1.21.5)\n",
            "Requirement already satisfied: roboticstoolbox-python in /usr/local/lib/python3.7/dist-packages (0.11.0)\n",
            "Requirement already satisfied: pgraph-python in /usr/local/lib/python3.7/dist-packages (from roboticstoolbox-python) (0.6.1)\n",
            "Requirement already satisfied: scipy in /usr/local/lib/python3.7/dist-packages (from roboticstoolbox-python) (1.4.1)\n",
            "Requirement already satisfied: rtb-data in /usr/local/lib/python3.7/dist-packages (from roboticstoolbox-python) (0.10.1)\n",
            "Requirement already satisfied: swift-sim>=0.10.0 in /usr/local/lib/python3.7/dist-packages (from roboticstoolbox-python) (0.10.0)\n",
            "Requirement already satisfied: numpy>=1.18.0 in /usr/local/lib/python3.7/dist-packages (from roboticstoolbox-python) (1.21.5)\n",
            "Requirement already satisfied: matplotlib in /usr/local/lib/python3.7/dist-packages (from roboticstoolbox-python) (3.2.2)\n",
            "Requirement already satisfied: spatialgeometry>=0.2.0 in /usr/local/lib/python3.7/dist-packages (from roboticstoolbox-python) (0.2.0)\n",
            "Requirement already satisfied: qpsolvers in /usr/local/lib/python3.7/dist-packages (from roboticstoolbox-python) (1.8.0)\n",
            "Requirement already satisfied: ansitable in /usr/local/lib/python3.7/dist-packages (from roboticstoolbox-python) (0.9.6)\n",
            "Requirement already satisfied: progress in /usr/local/lib/python3.7/dist-packages (from roboticstoolbox-python) (1.6)\n",
            "Requirement already satisfied: spatialmath-python>=0.11 in /usr/local/lib/python3.7/dist-packages (from roboticstoolbox-python) (0.11)\n",
            "Requirement already satisfied: colored in /usr/local/lib/python3.7/dist-packages (from spatialmath-python>=0.11->roboticstoolbox-python) (1.4.3)\n",
            "Requirement already satisfied: sphinxcontrib-jsmath in /usr/local/lib/python3.7/dist-packages (from spatialmath-python>=0.11->roboticstoolbox-python) (1.0.1)\n",
            "Requirement already satisfied: websockets in /usr/local/lib/python3.7/dist-packages (from swift-sim>=0.10.0->roboticstoolbox-python) (10.1)\n",
            "Requirement already satisfied: cycler>=0.10 in /usr/local/lib/python3.7/dist-packages (from matplotlib->roboticstoolbox-python) (0.11.0)\n",
            "Requirement already satisfied: kiwisolver>=1.0.1 in /usr/local/lib/python3.7/dist-packages (from matplotlib->roboticstoolbox-python) (1.3.2)\n",
            "Requirement already satisfied: pyparsing!=2.0.4,!=2.1.2,!=2.1.6,>=2.0.1 in /usr/local/lib/python3.7/dist-packages (from matplotlib->roboticstoolbox-python) (3.0.6)\n",
            "Requirement already satisfied: python-dateutil>=2.1 in /usr/local/lib/python3.7/dist-packages (from matplotlib->roboticstoolbox-python) (2.8.2)\n",
            "Requirement already satisfied: six>=1.5 in /usr/local/lib/python3.7/dist-packages (from python-dateutil>=2.1->matplotlib->roboticstoolbox-python) (1.15.0)\n",
            "Requirement already satisfied: quadprog>=0.1.8 in /usr/local/lib/python3.7/dist-packages (from qpsolvers->roboticstoolbox-python) (0.1.11)\n"
          ]
        },
        {
          "output_type": "display_data",
          "data": {
            "text/html": [
              "\n",
              "<style>\n",
              "    div#notebook-container    { width: 95%; }\n",
              "    div#menubar-container     { width: 65%; }\n",
              "    div#maintoolbar-container { width: 99%; }\n",
              "</style>\n"
            ],
            "text/plain": [
              "<IPython.core.display.HTML object>"
            ]
          },
          "metadata": {}
        }
      ],
      "source": [
        "!pip install numpy --upgrade\n",
        "!pip install roboticstoolbox-python\n",
        "#!pip install -U ipython\n",
        "from math import pi\n",
        "import numpy as np\n",
        "import matplotlib.pyplot as plt\n",
        "\n",
        "# display result of assignments\n",
        "%config ZMQInteractiveShell.ast_node_interactivity = 'all'\n",
        "# make NumPy display a bit nicer\n",
        "np.set_printoptions(linewidth=100, formatter={'float': lambda x: f\"{x:10.4g}\" if abs(x) > 1e-10 else f\"{0:8.4g}\"})\n",
        "# make cells nice and wide\n",
        "from IPython.display import display, HTML\n",
        "display(HTML(data=\"\"\"\n",
        "<style>\n",
        "    div#notebook-container    { width: 95%; }\n",
        "    div#menubar-container     { width: 65%; }\n",
        "    div#maintoolbar-container { width: 99%; }\n",
        "</style>\n",
        "\"\"\"))\n",
        "%matplotlib inline"
      ]
    },
    {
      "cell_type": "markdown",
      "metadata": {
        "id": "HluUDVBmGYi8"
      },
      "source": [
        "# III.SPATIAL MATHEMATICS"
      ]
    },
    {
      "cell_type": "markdown",
      "metadata": {
        "id": "VvWyCI0LGYi8"
      },
      "source": [
        "The spatial math package underpins the Robotics and Machine Vision Toolboxes. It supports mathematical objects such as SO(2), SE(2), SO(3) and SE(3) matrices, quaternions and unit quaternions as well as twists in 2D and 3D.\n",
        "\n",
        "We start by importing the package"
      ]
    },
    {
      "cell_type": "code",
      "execution_count": 34,
      "metadata": {
        "id": "C_q1lJskGYi9"
      },
      "outputs": [],
      "source": [
        "from spatialmath.base import *"
      ]
    },
    {
      "cell_type": "markdown",
      "metadata": {
        "id": "Rvc-CoJrGYi9"
      },
      "source": [
        "Now we can create an SE(3) transformation by composing a number of simple transformations such as translations and rotations.  These functions have the same names, and mimic the functions of the older Robotics Toolbox for MATLAB"
      ]
    },
    {
      "cell_type": "code",
      "execution_count": 35,
      "metadata": {
        "colab": {
          "base_uri": "https://localhost:8080/"
        },
        "id": "2xpOABVBGYi9",
        "outputId": "676efa1c-3d9b-429c-e1ec-28d926054279"
      },
      "outputs": [
        {
          "output_type": "execute_result",
          "data": {
            "text/plain": [
              "array([[ 0.97517033, -0.19866933, -0.0978434 ,  0.5       ],\n",
              "       [ 0.153792  ,  0.28962948,  0.94470249,  0.        ],\n",
              "       [-0.15934508, -0.93629336,  0.31299183,  0.        ],\n",
              "       [ 0.        ,  0.        ,  0.        ,  1.        ]])"
            ]
          },
          "metadata": {},
          "execution_count": 35
        }
      ],
      "source": [
        "T = transl(0.5, 0.0, 0.0) @ rpy2tr(0.1, 0.2, 0.3, order='xyz') @ trotx(-90, 'deg')"
      ]
    },
    {
      "cell_type": "markdown",
      "metadata": {
        "id": "_9t8B1IPGYi-"
      },
      "source": [
        "which has created a 4x4 NumPy array with an SE(3) matrix value.  There are lots of functions in `spatialmath.base` to convert between different representations such roll-pitch-yaw angles, Euler angles, angle-axis, unit quaternions and so on.  There are also functions to plot and animate frames and even turn those into mp4 files. If you're a fan of twists and product of exponential representations there are also functions to compute skew-symmetric matrices, logarithms and exponentials."
      ]
    },
    {
      "cell_type": "markdown",
      "metadata": {
        "id": "gbKY6Gv3GYi-"
      },
      "source": [
        "Alternatively, and definitely encouraged, we can use the object-oriented interface"
      ]
    },
    {
      "cell_type": "code",
      "execution_count": 36,
      "metadata": {
        "id": "jpbaqO2IGYi-"
      },
      "outputs": [],
      "source": [
        "from spatialmath import *"
      ]
    },
    {
      "cell_type": "markdown",
      "metadata": {
        "id": "4cz9qCElGYi-"
      },
      "source": [
        "and we can rewrite the above example as"
      ]
    },
    {
      "cell_type": "code",
      "execution_count": 37,
      "metadata": {
        "colab": {
          "base_uri": "https://localhost:8080/"
        },
        "id": "rZs0UyCzGYi_",
        "outputId": "3db07f48-bfcd-42e2-b71d-899cef7812db"
      },
      "outputs": [
        {
          "output_type": "execute_result",
          "data": {
            "text/plain": [
              "   0.9752   -0.1987   -0.09784   0.5       \n",
              "   0.1538    0.2896    0.9447    0         \n",
              "  -0.1593   -0.9363    0.313     0         \n",
              "   0         0         0         1         \n"
            ]
          },
          "metadata": {},
          "execution_count": 37
        }
      ],
      "source": [
        "T = SE3(0.5, 0.0, 0.0) * SE3.RPY([0.1, 0.2, 0.3], order='xyz') * SE3.Rx(-90, unit='deg')"
      ]
    },
    {
      "cell_type": "markdown",
      "metadata": {
        "id": "ik2rWEaUGYi_"
      },
      "source": [
        "In most environments, we see the matrix printed with color coding: red for rotation submatrix, blue for translation, grey for constant values.\n",
        "\n",
        "The matrices are encapsulated in objects, we can compose them using the regular `*` operator.  "
      ]
    },
    {
      "cell_type": "code",
      "execution_count": 38,
      "metadata": {
        "colab": {
          "base_uri": "https://localhost:8080/"
        },
        "id": "EHJ1O8sGGYi_",
        "outputId": "9248b9f0-a079-4833-b779-63ed0beef304"
      },
      "outputs": [
        {
          "output_type": "execute_result",
          "data": {
            "text/plain": [
              "array([ 1.67399895,  1.25245482, -1.4022243 ])"
            ]
          },
          "metadata": {},
          "execution_count": 38
        }
      ],
      "source": [
        "T.eul()"
      ]
    },
    {
      "cell_type": "code",
      "execution_count": 39,
      "metadata": {
        "colab": {
          "base_uri": "https://localhost:8080/"
        },
        "id": "-Rxql_7dGYi_",
        "outputId": "794df71a-5e8e-4a41-ea73-8b15123753f7"
      },
      "outputs": [
        {
          "output_type": "execute_result",
          "data": {
            "text/plain": [
              "array([[ 0.97517033, -0.19866933, -0.0978434 ],\n",
              "       [ 0.153792  ,  0.28962948,  0.94470249],\n",
              "       [-0.15934508, -0.93629336,  0.31299183]])"
            ]
          },
          "metadata": {},
          "execution_count": 39
        }
      ],
      "source": [
        "T.R"
      ]
    },
    {
      "cell_type": "code",
      "execution_count": 8,
      "metadata": {
        "colab": {
          "base_uri": "https://localhost:8080/",
          "height": 248
        },
        "id": "CKkAbQnoGYjA",
        "outputId": "c9f81cf2-8c82-4c02-a72a-2657767805fe"
      },
      "outputs": [
        {
          "output_type": "display_data",
          "data": {
            "image/png": "[encoded data removed]",
            "text/plain": [
              "<Figure size 432x288 with 1 Axes>"
            ]
          },
          "metadata": {
            "needs_background": "light"
          }
        }
      ],
      "source": [
        "T.plot(color='red', label='2')"
      ]
    },
    {
      "cell_type": "code",
      "execution_count": 9,
      "metadata": {
        "colab": {
          "base_uri": "https://localhost:8080/"
        },
        "id": "matb2nu3GYjA",
        "outputId": "7621dbd5-186d-4c7a-f8ea-5b1fc34fe50b"
      },
      "outputs": [
        {
          "output_type": "execute_result",
          "data": {
            "text/plain": [
              "   0.9752    0.1538   -0.1593   -0.4876    \n",
              "  -0.1987    0.2896   -0.9363    0.09933   \n",
              "  -0.09784   0.9447    0.313     0.04892   \n",
              "   0         0         0         1         \n"
            ]
          },
          "metadata": {},
          "execution_count": 9
        }
      ],
      "source": [
        "T.inv()"
      ]
    },
    {
      "cell_type": "markdown",
      "metadata": {
        "id": "Jsl5ipHaGYjA"
      },
      "source": [
        "We can create unit quaternions using the same methods as we did for `SE3` objects, and compose them using the `*` operator"
      ]
    },
    {
      "cell_type": "code",
      "execution_count": 10,
      "metadata": {
        "colab": {
          "base_uri": "https://localhost:8080/"
        },
        "id": "CvzqXFKhGYjB",
        "outputId": "f2c7f19c-5b84-4146-b62c-fdf3b2b6a25a"
      },
      "outputs": [
        {
          "output_type": "stream",
          "name": "stdout",
          "text": [
            " 0.9888 <<  0.1494,  0.0000,  0.0000 >>\n"
          ]
        },
        {
          "output_type": "execute_result",
          "data": {
            "text/plain": [
              ""
            ]
          },
          "metadata": {},
          "execution_count": 10
        }
      ],
      "source": [
        "q1 = UnitQuaternion.Rx(0.3)\n"
      ]
    },
    {
      "cell_type": "code",
      "execution_count": 11,
      "metadata": {
        "colab": {
          "base_uri": "https://localhost:8080/"
        },
        "id": "NFi0an6UGYjB",
        "outputId": "a8e5d277-a9f1-4f1f-a1c9-7c28e5e78c48"
      },
      "outputs": [
        {
          "output_type": "stream",
          "name": "stdout",
          "text": [
            " 0.9888 <<  0.1494,  0.0000,  0.0000 >>\n"
          ]
        },
        {
          "output_type": "execute_result",
          "data": {
            "text/plain": [
              ""
            ]
          },
          "metadata": {},
          "execution_count": 11
        }
      ],
      "source": [
        "q2 = UnitQuaternion.AngVec(0.3, [1, 0, 0])"
      ]
    },
    {
      "cell_type": "code",
      "execution_count": null,
      "metadata": {
        "id": "1fespxx0GYjB",
        "outputId": "03fd7515-6eee-49c2-d4a9-5df40afae57b"
      },
      "outputs": [
        {
          "name": "stdout",
          "output_type": "stream",
          "text": [
            " 0.9553 <<  0.2955,  0.0000,  0.0000 >>\n"
          ]
        },
        {
          "data": {
            "text/plain": []
          },
          "execution_count": 112,
          "metadata": {},
          "output_type": "execute_result"
        }
      ],
      "source": [
        "q3 = q1 * q2"
      ]
    },
    {
      "cell_type": "markdown",
      "metadata": {
        "id": "aihwKi_oGYjC"
      },
      "source": [
        "The inverse is easy"
      ]
    },
    {
      "cell_type": "code",
      "execution_count": null,
      "metadata": {
        "id": "7oW_wCC5GYjC",
        "outputId": "18251907-7485-4afc-eb77-f2b9e3f8d438"
      },
      "outputs": [
        {
          "name": "stdout",
          "output_type": "stream",
          "text": [
            " 0.9553 << -0.2955, -0.0000, -0.0000 >>\n"
          ]
        },
        {
          "data": {
            "text/plain": []
          },
          "execution_count": 113,
          "metadata": {},
          "output_type": "execute_result"
        }
      ],
      "source": [
        "q3.inv()"
      ]
    },
    {
      "cell_type": "markdown",
      "metadata": {
        "id": "9RgKkqVPGYjC"
      },
      "source": [
        "and we can convert back to an SO(3) rotation matrix"
      ]
    },
    {
      "cell_type": "code",
      "execution_count": null,
      "metadata": {
        "id": "UJyXaJWTGYjC",
        "outputId": "55a7796e-fcb7-4b47-afbb-3395bdd33b45"
      },
      "outputs": [
        {
          "data": {
            "text/plain": [
              "  \u001b[38;5;1m 1       \u001b[0m \u001b[38;5;1m 0       \u001b[0m \u001b[38;5;1m 0       \u001b[0m  \u001b[0m\n",
              "  \u001b[38;5;1m 0       \u001b[0m \u001b[38;5;1m 0.8253  \u001b[0m \u001b[38;5;1m-0.5646  \u001b[0m  \u001b[0m\n",
              "  \u001b[38;5;1m 0       \u001b[0m \u001b[38;5;1m 0.5646  \u001b[0m \u001b[38;5;1m 0.8253  \u001b[0m  \u001b[0m\n"
            ]
          },
          "execution_count": 114,
          "metadata": {},
          "output_type": "execute_result"
        }
      ],
      "source": [
        "q3.SO3()"
      ]
    },
    {
      "cell_type": "markdown",
      "metadata": {
        "id": "osNNjHk_GYjD"
      },
      "source": [
        "All the objects just introduced have three superpowers.  Firstly, they can each hold multiple values, just like a Python list.  This is really useful for a collection of frames along a trajectory, or for every link on a robot arm"
      ]
    },
    {
      "cell_type": "code",
      "execution_count": 12,
      "metadata": {
        "colab": {
          "base_uri": "https://localhost:8080/"
        },
        "id": "b2m7Fio7GYjD",
        "outputId": "e4119113-1827-4074-837e-0e6c47073ad8"
      },
      "outputs": [
        {
          "output_type": "execute_result",
          "data": {
            "text/plain": [
              "0:\n",
              "   1         0         0         0         \n",
              "   0         1         0         0         \n",
              "   0         0         1         0         \n",
              "   0         0         0         1         \n",
              "1:\n",
              "   1         0         0         0         \n",
              "   0         0.9999   -0.01587   0         \n",
              "   0         0.01587   0.9999    0         \n",
              "   0         0         0         1         \n",
              "2:\n",
              "   1         0         0         0         \n",
              "   0         0.9995   -0.03173   0         \n",
              "   0         0.03173   0.9995    0         \n",
              "   0         0         0         1         \n",
              "3:\n",
              "   1         0         0         0         \n",
              "   0         0.9989   -0.04758   0         \n",
              "   0         0.04758   0.9989    0         \n",
              "   0         0         0         1         \n",
              "4:\n",
              "   1         0         0         0         \n",
              "   0         0.998    -0.06342   0         \n",
              "   0         0.06342   0.998     0         \n",
              "   0         0         0         1         \n",
              "5:\n",
              "   1         0         0         0         \n",
              "   0         0.9969   -0.07925   0         \n",
              "   0         0.07925   0.9969    0         \n",
              "   0         0         0         1         \n",
              "6:\n",
              "   1         0         0         0         \n",
              "   0         0.9955   -0.09506   0         \n",
              "   0         0.09506   0.9955    0         \n",
              "   0         0         0         1         \n",
              "7:\n",
              "   1         0         0         0         \n",
              "   0         0.9938   -0.1108    0         \n",
              "   0         0.1108    0.9938    0         \n",
              "   0         0         0         1         \n",
              "8:\n",
              "   1         0         0         0         \n",
              "   0         0.992    -0.1266    0         \n",
              "   0         0.1266    0.992     0         \n",
              "   0         0         0         1         \n",
              "9:\n",
              "   1         0         0         0         \n",
              "   0         0.9898   -0.1423    0         \n",
              "   0         0.1423    0.9898    0         \n",
              "   0         0         0         1         \n",
              "10:\n",
              "   1         0         0         0         \n",
              "   0         0.9874   -0.158     0         \n",
              "   0         0.158     0.9874    0         \n",
              "   0         0         0         1         \n",
              "11:\n",
              "   1         0         0         0         \n",
              "   0         0.9848   -0.1736    0         \n",
              "   0         0.1736    0.9848    0         \n",
              "   0         0         0         1         \n",
              "12:\n",
              "   1         0         0         0         \n",
              "   0         0.9819   -0.1893    0         \n",
              "   0         0.1893    0.9819    0         \n",
              "   0         0         0         1         \n",
              "13:\n",
              "   1         0         0         0         \n",
              "   0         0.9788   -0.2048    0         \n",
              "   0         0.2048    0.9788    0         \n",
              "   0         0         0         1         \n",
              "14:\n",
              "   1         0         0         0         \n",
              "   0         0.9754   -0.2203    0         \n",
              "   0         0.2203    0.9754    0         \n",
              "   0         0         0         1         \n",
              "15:\n",
              "   1         0         0         0         \n",
              "   0         0.9718   -0.2358    0         \n",
              "   0         0.2358    0.9718    0         \n",
              "   0         0         0         1         \n",
              "16:\n",
              "   1         0         0         0         \n",
              "   0         0.9679   -0.2511    0         \n",
              "   0         0.2511    0.9679    0         \n",
              "   0         0         0         1         \n",
              "17:\n",
              "   1         0         0         0         \n",
              "   0         0.9638   -0.2665    0         \n",
              "   0         0.2665    0.9638    0         \n",
              "   0         0         0         1         \n",
              "18:\n",
              "   1         0         0         0         \n",
              "   0         0.9595   -0.2817    0         \n",
              "   0         0.2817    0.9595    0         \n",
              "   0         0         0         1         \n",
              "19:\n",
              "   1         0         0         0         \n",
              "   0         0.9549   -0.2969    0         \n",
              "   0         0.2969    0.9549    0         \n",
              "   0         0         0         1         \n",
              "20:\n",
              "   1         0         0         0         \n",
              "   0         0.9501   -0.312     0         \n",
              "   0         0.312     0.9501    0         \n",
              "   0         0         0         1         \n",
              "21:\n",
              "   1         0         0         0         \n",
              "   0         0.945    -0.3271    0         \n",
              "   0         0.3271    0.945     0         \n",
              "   0         0         0         1         \n",
              "22:\n",
              "   1         0         0         0         \n",
              "   0         0.9397   -0.342     0         \n",
              "   0         0.342     0.9397    0         \n",
              "   0         0         0         1         \n",
              "23:\n",
              "   1         0         0         0         \n",
              "   0         0.9341   -0.3569    0         \n",
              "   0         0.3569    0.9341    0         \n",
              "   0         0         0         1         \n",
              "24:\n",
              "   1         0         0         0         \n",
              "   0         0.9284   -0.3717    0         \n",
              "   0         0.3717    0.9284    0         \n",
              "   0         0         0         1         \n",
              "25:\n",
              "   1         0         0         0         \n",
              "   0         0.9224   -0.3863    0         \n",
              "   0         0.3863    0.9224    0         \n",
              "   0         0         0         1         \n",
              "26:\n",
              "   1         0         0         0         \n",
              "   0         0.9161   -0.4009    0         \n",
              "   0         0.4009    0.9161    0         \n",
              "   0         0         0         1         \n",
              "27:\n",
              "   1         0         0         0         \n",
              "   0         0.9096   -0.4154    0         \n",
              "   0         0.4154    0.9096    0         \n",
              "   0         0         0         1         \n",
              "28:\n",
              "   1         0         0         0         \n",
              "   0         0.9029   -0.4298    0         \n",
              "   0         0.4298    0.9029    0         \n",
              "   0         0         0         1         \n",
              "29:\n",
              "   1         0         0         0         \n",
              "   0         0.896    -0.4441    0         \n",
              "   0         0.4441    0.896     0         \n",
              "   0         0         0         1         \n",
              "30:\n",
              "   1         0         0         0         \n",
              "   0         0.8888   -0.4582    0         \n",
              "   0         0.4582    0.8888    0         \n",
              "   0         0         0         1         \n",
              "31:\n",
              "   1         0         0         0         \n",
              "   0         0.8815   -0.4723    0         \n",
              "   0         0.4723    0.8815    0         \n",
              "   0         0         0         1         \n",
              "32:\n",
              "   1         0         0         0         \n",
              "   0         0.8738   -0.4862    0         \n",
              "   0         0.4862    0.8738    0         \n",
              "   0         0         0         1         \n",
              "33:\n",
              "   1         0         0         0         \n",
              "   0         0.866    -0.5       0         \n",
              "   0         0.5       0.866     0         \n",
              "   0         0         0         1         \n",
              "34:\n",
              "   1         0         0         0         \n",
              "   0         0.858    -0.5137    0         \n",
              "   0         0.5137    0.858     0         \n",
              "   0         0         0         1         \n",
              "35:\n",
              "   1         0         0         0         \n",
              "   0         0.8497   -0.5272    0         \n",
              "   0         0.5272    0.8497    0         \n",
              "   0         0         0         1         \n",
              "36:\n",
              "   1         0         0         0         \n",
              "   0         0.8413   -0.5406    0         \n",
              "   0         0.5406    0.8413    0         \n",
              "   0         0         0         1         \n",
              "37:\n",
              "   1         0         0         0         \n",
              "   0         0.8326   -0.5539    0         \n",
              "   0         0.5539    0.8326    0         \n",
              "   0         0         0         1         \n",
              "38:\n",
              "   1         0         0         0         \n",
              "   0         0.8237   -0.5671    0         \n",
              "   0         0.5671    0.8237    0         \n",
              "   0         0         0         1         \n",
              "39:\n",
              "   1         0         0         0         \n",
              "   0         0.8146   -0.5801    0         \n",
              "   0         0.5801    0.8146    0         \n",
              "   0         0         0         1         \n",
              "40:\n",
              "   1         0         0         0         \n",
              "   0         0.8053   -0.5929    0         \n",
              "   0         0.5929    0.8053    0         \n",
              "   0         0         0         1         \n",
              "41:\n",
              "   1         0         0         0         \n",
              "   0         0.7958   -0.6056    0         \n",
              "   0         0.6056    0.7958    0         \n",
              "   0         0         0         1         \n",
              "42:\n",
              "   1         0         0         0         \n",
              "   0         0.7861   -0.6182    0         \n",
              "   0         0.6182    0.7861    0         \n",
              "   0         0         0         1         \n",
              "43:\n",
              "   1         0         0         0         \n",
              "   0         0.7761   -0.6306    0         \n",
              "   0         0.6306    0.7761    0         \n",
              "   0         0         0         1         \n",
              "44:\n",
              "   1         0         0         0         \n",
              "   0         0.766    -0.6428    0         \n",
              "   0         0.6428    0.766     0         \n",
              "   0         0         0         1         \n",
              "45:\n",
              "   1         0         0         0         \n",
              "   0         0.7557   -0.6549    0         \n",
              "   0         0.6549    0.7557    0         \n",
              "   0         0         0         1         \n",
              "46:\n",
              "   1         0         0         0         \n",
              "   0         0.7453   -0.6668    0         \n",
              "   0         0.6668    0.7453    0         \n",
              "   0         0         0         1         \n",
              "47:\n",
              "   1         0         0         0         \n",
              "   0         0.7346   -0.6785    0         \n",
              "   0         0.6785    0.7346    0         \n",
              "   0         0         0         1         \n",
              "48:\n",
              "   1         0         0         0         \n",
              "   0         0.7237   -0.6901    0         \n",
              "   0         0.6901    0.7237    0         \n",
              "   0         0         0         1         \n",
              "49:\n",
              "   1         0         0         0         \n",
              "   0         0.7127   -0.7015    0         \n",
              "   0         0.7015    0.7127    0         \n",
              "   0         0         0         1         \n",
              "50:\n",
              "   1         0         0         0         \n",
              "   0         0.7015   -0.7127    0         \n",
              "   0         0.7127    0.7015    0         \n",
              "   0         0         0         1         \n",
              "51:\n",
              "   1         0         0         0         \n",
              "   0         0.6901   -0.7237    0         \n",
              "   0         0.7237    0.6901    0         \n",
              "   0         0         0         1         \n",
              "52:\n",
              "   1         0         0         0         \n",
              "   0         0.6785   -0.7346    0         \n",
              "   0         0.7346    0.6785    0         \n",
              "   0         0         0         1         \n",
              "53:\n",
              "   1         0         0         0         \n",
              "   0         0.6668   -0.7453    0         \n",
              "   0         0.7453    0.6668    0         \n",
              "   0         0         0         1         \n",
              "54:\n",
              "   1         0         0         0         \n",
              "   0         0.6549   -0.7557    0         \n",
              "   0         0.7557    0.6549    0         \n",
              "   0         0         0         1         \n",
              "55:\n",
              "   1         0         0         0         \n",
              "   0         0.6428   -0.766     0         \n",
              "   0         0.766     0.6428    0         \n",
              "   0         0         0         1         \n",
              "56:\n",
              "   1         0         0         0         \n",
              "   0         0.6306   -0.7761    0         \n",
              "   0         0.7761    0.6306    0         \n",
              "   0         0         0         1         \n",
              "57:\n",
              "   1         0         0         0         \n",
              "   0         0.6182   -0.7861    0         \n",
              "   0         0.7861    0.6182    0         \n",
              "   0         0         0         1         \n",
              "58:\n",
              "   1         0         0         0         \n",
              "   0         0.6056   -0.7958    0         \n",
              "   0         0.7958    0.6056    0         \n",
              "   0         0         0         1         \n",
              "59:\n",
              "   1         0         0         0         \n",
              "   0         0.5929   -0.8053    0         \n",
              "   0         0.8053    0.5929    0         \n",
              "   0         0         0         1         \n",
              "60:\n",
              "   1         0         0         0         \n",
              "   0         0.5801   -0.8146    0         \n",
              "   0         0.8146    0.5801    0         \n",
              "   0         0         0         1         \n",
              "61:\n",
              "   1         0         0         0         \n",
              "   0         0.5671   -0.8237    0         \n",
              "   0         0.8237    0.5671    0         \n",
              "   0         0         0         1         \n",
              "62:\n",
              "   1         0         0         0         \n",
              "   0         0.5539   -0.8326    0         \n",
              "   0         0.8326    0.5539    0         \n",
              "   0         0         0         1         \n",
              "63:\n",
              "   1         0         0         0         \n",
              "   0         0.5406   -0.8413    0         \n",
              "   0         0.8413    0.5406    0         \n",
              "   0         0         0         1         \n",
              "64:\n",
              "   1         0         0         0         \n",
              "   0         0.5272   -0.8497    0         \n",
              "   0         0.8497    0.5272    0         \n",
              "   0         0         0         1         \n",
              "65:\n",
              "   1         0         0         0         \n",
              "   0         0.5137   -0.858     0         \n",
              "   0         0.858     0.5137    0         \n",
              "   0         0         0         1         \n",
              "66:\n",
              "   1         0         0         0         \n",
              "   0         0.5      -0.866     0         \n",
              "   0         0.866     0.5       0         \n",
              "   0         0         0         1         \n",
              "67:\n",
              "   1         0         0         0         \n",
              "   0         0.4862   -0.8738    0         \n",
              "   0         0.8738    0.4862    0         \n",
              "   0         0         0         1         \n",
              "68:\n",
              "   1         0         0         0         \n",
              "   0         0.4723   -0.8815    0         \n",
              "   0         0.8815    0.4723    0         \n",
              "   0         0         0         1         \n",
              "69:\n",
              "   1         0         0         0         \n",
              "   0         0.4582   -0.8888    0         \n",
              "   0         0.8888    0.4582    0         \n",
              "   0         0         0         1         \n",
              "70:\n",
              "   1         0         0         0         \n",
              "   0         0.4441   -0.896     0         \n",
              "   0         0.896     0.4441    0         \n",
              "   0         0         0         1         \n",
              "71:\n",
              "   1         0         0         0         \n",
              "   0         0.4298   -0.9029    0         \n",
              "   0         0.9029    0.4298    0         \n",
              "   0         0         0         1         \n",
              "72:\n",
              "   1         0         0         0         \n",
              "   0         0.4154   -0.9096    0         \n",
              "   0         0.9096    0.4154    0         \n",
              "   0         0         0         1         \n",
              "73:\n",
              "   1         0         0         0         \n",
              "   0         0.4009   -0.9161    0         \n",
              "   0         0.9161    0.4009    0         \n",
              "   0         0         0         1         \n",
              "74:\n",
              "   1         0         0         0         \n",
              "   0         0.3863   -0.9224    0         \n",
              "   0         0.9224    0.3863    0         \n",
              "   0         0         0         1         \n",
              "75:\n",
              "   1         0         0         0         \n",
              "   0         0.3717   -0.9284    0         \n",
              "   0         0.9284    0.3717    0         \n",
              "   0         0         0         1         \n",
              "76:\n",
              "   1         0         0         0         \n",
              "   0         0.3569   -0.9341    0         \n",
              "   0         0.9341    0.3569    0         \n",
              "   0         0         0         1         \n",
              "77:\n",
              "   1         0         0         0         \n",
              "   0         0.342    -0.9397    0         \n",
              "   0         0.9397    0.342     0         \n",
              "   0         0         0         1         \n",
              "78:\n",
              "   1         0         0         0         \n",
              "   0         0.3271   -0.945     0         \n",
              "   0         0.945     0.3271    0         \n",
              "   0         0         0         1         \n",
              "79:\n",
              "   1         0         0         0         \n",
              "   0         0.312    -0.9501    0         \n",
              "   0         0.9501    0.312     0         \n",
              "   0         0         0         1         \n",
              "80:\n",
              "   1         0         0         0         \n",
              "   0         0.2969   -0.9549    0         \n",
              "   0         0.9549    0.2969    0         \n",
              "   0         0         0         1         \n",
              "81:\n",
              "   1         0         0         0         \n",
              "   0         0.2817   -0.9595    0         \n",
              "   0         0.9595    0.2817    0         \n",
              "   0         0         0         1         \n",
              "82:\n",
              "   1         0         0         0         \n",
              "   0         0.2665   -0.9638    0         \n",
              "   0         0.9638    0.2665    0         \n",
              "   0         0         0         1         \n",
              "83:\n",
              "   1         0         0         0         \n",
              "   0         0.2511   -0.9679    0         \n",
              "   0         0.9679    0.2511    0         \n",
              "   0         0         0         1         \n",
              "84:\n",
              "   1         0         0         0         \n",
              "   0         0.2358   -0.9718    0         \n",
              "   0         0.9718    0.2358    0         \n",
              "   0         0         0         1         \n",
              "85:\n",
              "   1         0         0         0         \n",
              "   0         0.2203   -0.9754    0         \n",
              "   0         0.9754    0.2203    0         \n",
              "   0         0         0         1         \n",
              "86:\n",
              "   1         0         0         0         \n",
              "   0         0.2048   -0.9788    0         \n",
              "   0         0.9788    0.2048    0         \n",
              "   0         0         0         1         \n",
              "87:\n",
              "   1         0         0         0         \n",
              "   0         0.1893   -0.9819    0         \n",
              "   0         0.9819    0.1893    0         \n",
              "   0         0         0         1         \n",
              "88:\n",
              "   1         0         0         0         \n",
              "   0         0.1736   -0.9848    0         \n",
              "   0         0.9848    0.1736    0         \n",
              "   0         0         0         1         \n",
              "89:\n",
              "   1         0         0         0         \n",
              "   0         0.158    -0.9874    0         \n",
              "   0         0.9874    0.158     0         \n",
              "   0         0         0         1         \n",
              "90:\n",
              "   1         0         0         0         \n",
              "   0         0.1423   -0.9898    0         \n",
              "   0         0.9898    0.1423    0         \n",
              "   0         0         0         1         \n",
              "91:\n",
              "   1         0         0         0         \n",
              "   0         0.1266   -0.992     0         \n",
              "   0         0.992     0.1266    0         \n",
              "   0         0         0         1         \n",
              "92:\n",
              "   1         0         0         0         \n",
              "   0         0.1108   -0.9938    0         \n",
              "   0         0.9938    0.1108    0         \n",
              "   0         0         0         1         \n",
              "93:\n",
              "   1         0         0         0         \n",
              "   0         0.09506  -0.9955    0         \n",
              "   0         0.9955    0.09506   0         \n",
              "   0         0         0         1         \n",
              "94:\n",
              "   1         0         0         0         \n",
              "   0         0.07925  -0.9969    0         \n",
              "   0         0.9969    0.07925   0         \n",
              "   0         0         0         1         \n",
              "95:\n",
              "   1         0         0         0         \n",
              "   0         0.06342  -0.998     0         \n",
              "   0         0.998     0.06342   0         \n",
              "   0         0         0         1         \n",
              "96:\n",
              "   1         0         0         0         \n",
              "   0         0.04758  -0.9989    0         \n",
              "   0         0.9989    0.04758   0         \n",
              "   0         0         0         1         \n",
              "97:\n",
              "   1         0         0         0         \n",
              "   0         0.03173  -0.9995    0         \n",
              "   0         0.9995    0.03173   0         \n",
              "   0         0         0         1         \n",
              "98:\n",
              "   1         0         0         0         \n",
              "   0         0.01587  -0.9999    0         \n",
              "   0         0.9999    0.01587   0         \n",
              "   0         0         0         1         \n",
              "99:\n",
              "   1         0         0         0         \n",
              "   0         0        -1         0         \n",
              "   0         1         0         0         \n",
              "   0         0         0         1         \n"
            ]
          },
          "metadata": {},
          "execution_count": 12
        }
      ],
      "source": [
        "T_many = SE3.Rx(np.linspace(0, pi/2, num=100))\n"
      ]
    },
    {
      "cell_type": "code",
      "execution_count": 13,
      "metadata": {
        "colab": {
          "base_uri": "https://localhost:8080/"
        },
        "id": "C_PViGXGGYjD",
        "outputId": "a35d64bd-6c5c-46e0-a26b-73131c197c97"
      },
      "outputs": [
        {
          "output_type": "execute_result",
          "data": {
            "text/plain": [
              "100"
            ]
          },
          "metadata": {},
          "execution_count": 13
        }
      ],
      "source": [
        "len(T_many)"
      ]
    },
    {
      "cell_type": "markdown",
      "metadata": {
        "id": "3QYt4EVnGYjD"
      },
      "source": [
        "So we can slice them"
      ]
    },
    {
      "cell_type": "code",
      "execution_count": null,
      "metadata": {
        "id": "vTAWVURuGYjD",
        "outputId": "1e5928f2-727b-4d4c-d100-9bb970ae2587"
      },
      "outputs": [
        {
          "data": {
            "text/plain": [
              "  \u001b[38;5;1m 1       \u001b[0m \u001b[38;5;1m 0       \u001b[0m \u001b[38;5;1m 0       \u001b[0m \u001b[38;5;4m 0       \u001b[0m  \u001b[0m\n",
              "  \u001b[38;5;1m 0       \u001b[0m \u001b[38;5;1m 0.9501  \u001b[0m \u001b[38;5;1m-0.312   \u001b[0m \u001b[38;5;4m 0       \u001b[0m  \u001b[0m\n",
              "  \u001b[38;5;1m 0       \u001b[0m \u001b[38;5;1m 0.312   \u001b[0m \u001b[38;5;1m 0.9501  \u001b[0m \u001b[38;5;4m 0       \u001b[0m  \u001b[0m\n",
              "  \u001b[38;5;244m 0       \u001b[0m \u001b[38;5;244m 0       \u001b[0m \u001b[38;5;244m 0       \u001b[0m \u001b[38;5;244m 1       \u001b[0m  \u001b[0m\n"
            ]
          },
          "execution_count": 117,
          "metadata": {},
          "output_type": "execute_result"
        }
      ],
      "source": [
        "T_many[20]"
      ]
    },
    {
      "cell_type": "markdown",
      "metadata": {
        "id": "vX_3bwG0GYjE"
      },
      "source": [
        "or use them as iterators in `for` loop or comprehensions"
      ]
    },
    {
      "cell_type": "code",
      "execution_count": null,
      "metadata": {
        "id": "IE5VO99yGYjE"
      },
      "outputs": [],
      "source": [
        "for T in T_many:\n",
        "    pass  # do a thing"
      ]
    },
    {
      "cell_type": "markdown",
      "metadata": {
        "id": "-aJ8s2VOGYjE"
      },
      "source": [
        "The second super power is broadcasting."
      ]
    },
    {
      "cell_type": "code",
      "execution_count": null,
      "metadata": {
        "id": "sio9b1tgGYjE",
        "outputId": "822d202b-101f-486a-ca1e-07a3e1f69086"
      },
      "outputs": [
        {
          "data": {
            "text/plain": [
              "100"
            ]
          },
          "execution_count": 119,
          "metadata": {},
          "output_type": "execute_result"
        }
      ],
      "source": [
        "T = SE3.Ry(60, unit=\"deg\")\n",
        "T2 = T_many * T\n",
        "len(T2)"
      ]
    },
    {
      "cell_type": "markdown",
      "metadata": {
        "id": "7l6U5RRVGYjE"
      },
      "source": [
        "which has created a new `SE3` object where each value is `T_many[k] * T`.\n",
        "\n",
        "The third superpower is all these objects can transform a vector, or a bunch of vectors"
      ]
    },
    {
      "cell_type": "code",
      "execution_count": null,
      "metadata": {
        "id": "vF93dnHEGYjF",
        "outputId": "1c3359ed-eb3b-4822-cf3e-16927bea627d"
      },
      "outputs": [
        {
          "data": {
            "text/plain": [
              "array([[     3.098],\n",
              "       [         2],\n",
              "       [     0.634]])"
            ]
          },
          "execution_count": 120,
          "metadata": {},
          "output_type": "execute_result"
        }
      ],
      "source": [
        "T * [1, 2, 3]"
      ]
    },
    {
      "cell_type": "markdown",
      "metadata": {
        "id": "rOYtRtPaGYjF"
      },
      "source": [
        "and the class has handled all the hassle of converting the vector to homogeneous form first.\n",
        "\n",
        "This also works for a collection of vectors, always arranged columnwise"
      ]
    },
    {
      "cell_type": "code",
      "execution_count": null,
      "metadata": {
        "id": "h1kHM510GYjF",
        "outputId": "ba21d29f-d398-4713-cf29-b69669b09f5d"
      },
      "outputs": [
        {
          "data": {
            "text/plain": [
              "array([[     3.098,      7.196],\n",
              "       [         2,          5],\n",
              "       [     0.634,    -0.4641]])"
            ]
          },
          "execution_count": 121,
          "metadata": {},
          "output_type": "execute_result"
        }
      ],
      "source": [
        "T * np.array([[1,2,3], [4,5,6]]).T"
      ]
    },
    {
      "cell_type": "markdown",
      "metadata": {
        "id": "Z3lI-lD7GYjF"
      },
      "source": [
        "and combining all the superpowers we can write"
      ]
    },
    {
      "cell_type": "code",
      "execution_count": null,
      "metadata": {
        "id": "4Qz0VytJGYjG",
        "outputId": "3952c76a-9ad9-4a8f-964a-658556c7b4b2"
      },
      "outputs": [
        {
          "data": {
            "text/plain": [
              "array([[         1,          1,          1,          1,          1,          1,          1,\n",
              "                 1,          1,          1,          1,          1,          1,          1,\n",
              "                 1,          1,          1,          1,          1,          1,          1,\n",
              "                 1,          1,          1,          1,          1,          1,          1,\n",
              "                 1,          1,          1,          1,          1,          1,          1,\n",
              "                 1,          1,          1,          1,          1,          1,          1,\n",
              "                 1,          1,          1,          1,          1,          1,          1,\n",
              "                 1,          1,          1,          1,          1,          1,          1,\n",
              "                 1,          1,          1,          1,          1,          1,          1,\n",
              "                 1,          1,          1,          1,          1,          1,          1,\n",
              "                 1,          1,          1,          1,          1,          1,          1,\n",
              "                 1,          1,          1,          1,          1,          1,          1,\n",
              "                 1,          1,          1,          1,          1,          1,          1,\n",
              "                 1,          1,          1,          1,          1,          1,          1,\n",
              "                 1,          1],\n",
              "       [         2,      1.952,      1.904,      1.855,      1.806,      1.756,      1.706,\n",
              "             1.655,      1.604,      1.553,      1.501,      1.449,      1.396,      1.343,\n",
              "              1.29,      1.236,      1.182,      1.128,      1.074,      1.019,      0.964,\n",
              "            0.9088,     0.8533,     0.7976,     0.7417,     0.6857,     0.6294,      0.573,\n",
              "            0.5165,     0.4598,      0.403,     0.3461,     0.2891,     0.2321,     0.1749,\n",
              "            0.1178,    0.06058,    0.00338,   -0.05383,     -0.111,    -0.1682,    -0.2253,\n",
              "           -0.2824,    -0.3394,    -0.3963,    -0.4531,    -0.5098,    -0.5663,    -0.6228,\n",
              "            -0.679,    -0.7351,     -0.791,    -0.8468,    -0.9023,    -0.9575,     -1.013,\n",
              "            -1.067,     -1.122,     -1.176,      -1.23,     -1.284,     -1.337,      -1.39,\n",
              "            -1.442,     -1.495,     -1.547,     -1.598,     -1.649,       -1.7,      -1.75,\n",
              "              -1.8,     -1.849,     -1.898,     -1.946,     -1.994,     -2.042,     -2.089,\n",
              "            -2.135,     -2.181,     -2.226,     -2.271,     -2.315,     -2.359,     -2.402,\n",
              "            -2.444,     -2.486,     -2.527,     -2.567,     -2.607,     -2.646,     -2.685,\n",
              "            -2.723,      -2.76,     -2.796,     -2.832,     -2.867,     -2.901,     -2.935,\n",
              "            -2.968,         -3],\n",
              "       [         3,      3.031,      3.062,      3.092,      3.121,      3.149,      3.177,\n",
              "             3.203,      3.229,      3.254,      3.278,      3.302,      3.324,      3.346,\n",
              "             3.367,      3.387,      3.406,      3.424,      3.442,      3.459,      3.474,\n",
              "             3.489,      3.503,      3.516,      3.528,       3.54,       3.55,       3.56,\n",
              "             3.568,      3.576,      3.583,      3.589,      3.594,      3.598,      3.601,\n",
              "             3.604,      3.605,      3.606,      3.605,      3.604,      3.602,      3.599,\n",
              "             3.594,       3.59,      3.584,      3.577,      3.569,      3.561,      3.551,\n",
              "             3.541,       3.53,      3.518,      3.505,      3.491,      3.476,       3.46,\n",
              "             3.444,      3.427,      3.408,      3.389,      3.369,      3.349,      3.327,\n",
              "             3.304,      3.281,      3.257,      3.232,      3.206,       3.18,      3.152,\n",
              "             3.124,      3.095,      3.066,      3.035,      3.004,      2.972,      2.939,\n",
              "             2.905,      2.871,      2.836,      2.801,      2.764,      2.727,      2.689,\n",
              "             2.651,      2.612,      2.572,      2.532,      2.491,      2.449,      2.407,\n",
              "             2.364,       2.32,      2.276,      2.231,      2.186,       2.14,      2.094,\n",
              "             2.047,          2]])"
            ]
          },
          "execution_count": 122,
          "metadata": {},
          "output_type": "execute_result"
        }
      ],
      "source": [
        "T_many * [1, 2, 3]"
      ]
    },
    {
      "cell_type": "markdown",
      "metadata": {
        "id": "rbJznhboGYjG"
      },
      "source": [
        "which has applied each element of `T_many` to transform the vector `[1,2,3]`, resulting in a 3x100 array, one column per transformed vector."
      ]
    },
    {
      "cell_type": "markdown",
      "metadata": {
        "id": "wmz1bb8kGYjG"
      },
      "source": [
        "# IV. ROBOTICS TOOLBOX\n",
        "## A. Robot models"
      ]
    },
    {
      "cell_type": "markdown",
      "metadata": {
        "id": "cvREulVbGYjG"
      },
      "source": [
        "If you like Denavit-Hartenberg notation (standard or modified) then it is easy to create a robot model, it is simply a list of objects that represent a link-joint pair"
      ]
    },
    {
      "cell_type": "code",
      "execution_count": 2,
      "metadata": {
        "id": "e6C-sNQyGYjG"
      },
      "outputs": [],
      "source": [
        "from roboticstoolbox import *\n",
        "# robot length values (metres)\n",
        "d1 = 0.352\n",
        "a1 = 0.070\n",
        "a2 = 0.360\n",
        "d4 = 0.380\n",
        "d6 = 0.065;"
      ]
    },
    {
      "cell_type": "code",
      "execution_count": 3,
      "metadata": {
        "colab": {
          "base_uri": "https://localhost:8080/"
        },
        "id": "7RfoMYrIGYjH",
        "outputId": "60587796-f432-43b4-b4a4-3d9536744b2b"
      },
      "outputs": [
        {
          "output_type": "execute_result",
          "data": {
            "text/plain": [
              "DHRobot: my IRB140, 3 joints (RRR), dynamics, standard DH parameters\n",
              "┏━━━━┳━━━━━━━┳━━━━━━┳━━━━━━━━┓\n",
              "┃θⱼ  ┃  dⱼ   ┃  aⱼ  ┃   ⍺ⱼ   ┃\n",
              "┣━━━━╋━━━━━━━╋━━━━━━╋━━━━━━━━┫\n",
              "┃ q1 ┃ 0.352 ┃ 0.07 ┃ -90.0° ┃\n",
              "┃ q2 ┃     0 ┃ 0.36 ┃   0.0° ┃\n",
              "┃ q3 ┃     0 ┃    0 ┃  90.0° ┃\n",
              "┗━━━━┻━━━━━━━┻━━━━━━┻━━━━━━━━┛"
            ]
          },
          "metadata": {},
          "execution_count": 3
        }
      ],
      "source": [
        "robot = DHRobot([\n",
        "  RevoluteDH(d=d1, a=a1, alpha=-pi/2), \n",
        "  RevoluteDH(a=a2), \n",
        "  RevoluteDH(alpha=pi/2),\n",
        "  ], name=\"my IRB140\")"
      ]
    },
    {
      "cell_type": "markdown",
      "metadata": {
        "id": "_tCYMJ27GYjH"
      },
      "source": [
        "There are also a lot of prebuilt models shipping with the toolbox"
      ]
    },
    {
      "cell_type": "code",
      "execution_count": 4,
      "metadata": {
        "colab": {
          "base_uri": "https://localhost:8080/"
        },
        "id": "75eq3gknGYjH",
        "outputId": "a8a1b4a5-d0f0-4bea-b937-0fef2eb8dd43"
      },
      "outputs": [
        {
          "output_type": "stream",
          "name": "stdout",
          "text": [
            "   class              name              manufacturer      type  DoF  dims                        structure  dynamics  geometry          keywords          \n",
            "Panda         Panda                  Franka Emika         DH    7    3d    RRRRRRR                          Y         Y                                   \n",
            "Puma560       Puma 560               Unimation            DH    6    3d    RRRRRR                           Y         Y         dynamics, symbolic, mesh  \n",
            "Stanford      Stanford arm           Victor Scheinman     DH    6    3d    RRPRRR                           Y                   dynamics                  \n",
            "Ball          ball                                        DH    10   3d    RRRRRRRRRR                       Y                                             \n",
            "Hyper         Hyper10                                     DH    10   3d    RRRRRRRRRR                       Y                   symbolic                  \n",
            "Coil          Hyper10                                     DH    10   3d    RRRRRRRRRR                       Y                   symbolic                  \n",
            "Cobra600      Cobra600               Adept                DH    4    3d    RRPR                             Y                                             \n",
            "IRB140        IRB 140                ABB                  DH    6    3d    RRRRRR                           Y         Y                                   \n",
            "KR5           KR5                    KUKA                 DH    6    3d    RRRRRR                           Y         Y                                   \n",
            "Orion5        Orion 5                RAWR Robotics        DH    4    3d    RRRR                             Y                                             \n",
            "Planar3       Planar 3 link                               DH    3    3d    RRR                              Y                   planar                    \n",
            "Planar2       Planar 2 link                               DH    2    3d    RR                               Y                   planar                    \n",
            "LWR4          LWR-IV                 Kuka                 DH    7    3d    RRRRRRR                          Y                                             \n",
            "Sawyer        Sawyer                 Rethink Robotics     DH    6    3d    RRRRRR                           Y                   redundant, symbolic       \n",
            "UR3           UR3                    Universal Robotics   DH    6    3d    RRRRRR                           Y                   dynamics, symbolic        \n",
            "UR5           UR5                    Universal Robotics   DH    6    3d    RRRRRR                           Y                   dynamics, symbolic        \n",
            "UR10          UR10                   Universal Robotics   DH    6    3d    RRRRRR                           Y                   dynamics, symbolic        \n",
            "Mico          Mico                   Kinova               DH    6    3d    RRRRRR                           Y                   symbolic                  \n",
            "Jaco          Jaco                   Kinova               DH    6    3d    RRRRRR                           Y                   symbolic                  \n",
            "Baxter        Baxter-left            Rethink Robotics     DH    7    3d    RRRRRRR                          Y                                             \n",
            "TwoLink       2 link                                      DH    2    3d    RR                               Y                   planar, dynamics          \n",
            "Hyper3d       Hyper3d10                                   DH    10   3d    RRRRRRRRRR                       Y                   symbolic                  \n",
            "P8            P8                                          DH    8    3d    PPRRRRRR                         Y                   mobile, redundant         \n",
            "Panda         panda                  Franka Emika         URDF  7    3d    RRRRRRR                                    Y                                   \n",
            "Frankie       frankie                Franka Emika         URDF  9    3d    RPRRRRRRR                                  Y                                   \n",
            "UR3           UR3                    Universal Robotics   URDF  6    3d    RRRRRR                           Y         Y                                   \n",
            "UR5           UR5                    Universal Robotics   URDF  6    3d    RRRRRR                           Y         Y                                   \n",
            "UR10          UR10                   Universal Robotics   URDF  6    3d    RRRRRR                           Y         Y                                   \n",
            "Puma560       Puma560                Unimation            URDF  6    3d    RRRRRR                                     Y                                   \n",
            "px100         px100                  Interbotix           URDF  7    3d    RRRRRPP                          Y         Y                                   \n",
            "px150         px150                  Interbotix           URDF  8    3d    RRRRRRPP                         Y         Y                                   \n",
            "rx150         rx150                  Interbotix           URDF  8    3d    RRRRRRPP                         Y         Y                                   \n",
            "rx200         rx200                  Interbotix           URDF  8    3d    RRRRRRPP                         Y         Y                                   \n",
            "vx300         vx300                  Interbotix           URDF  8    3d    RRRRRRPP                         Y         Y                                   \n",
            "vx300s        vx300s                 Interbotix           URDF  9    3d    RRRRRRRPP                        Y         Y                                   \n",
            "wx200         wx200                  Interbotix           URDF  8    3d    RRRRRRPP                         Y         Y                                   \n",
            "wx250         wx250                  Interbotix           URDF  8    3d    RRRRRRPP                         Y         Y                                   \n",
            "wx250s        wx250s                 Interbotix           URDF  9    3d    RRRRRRRPP                        Y         Y                                   \n",
            "Mico          j2n4s300               Kinova               URDF  10   3d    RRRRRRRRRR                       Y         Y                                   \n",
            "PR2           pr2                    Willow Garage        URDF  31   3d    RRRRRRRRRRRRPRRRRRRRRRRRRRRRRRR  Y         Y                                   \n",
            "LBR           kuka_lbr_iiwa_14_r820  Kuka                 URDF  7    3d    RRRRRRR                                    Y                                   \n",
            "KinovaGen3    gen3                   Kinova               URDF  7    3d    RRRRRRR                          Y         Y                                   \n",
            "YuMi          yumi                   ABB                  URDF  14   3d    RRRRRRRRRRRRRR                   Y         Y                                   \n",
            "Panda         Panda                  Franka Emika         ETS   7    3d    RRRRRRR                                                                        \n",
            "Frankie       Frankie                Franka Emika, Omron  ETS   9    3d    RPRRRRRRR                                            mobile                    \n",
            "Puma560       Puma560                Unimation            ETS   6    3d    RRRRRR                                                                         \n",
            "Planar_Y      Planar-Y                                    ETS   6    3d    RRRRRR                                                                         \n",
            "Planar2       Planar2                                     ETS   2    2d    RR                                                                             \n",
            "GenericSeven  Generic Seven          Jesse's Imagination  ETS   7    3d    RRRRRRR                                                                        \n",
            "Omni          Omni                   Jesse                ETS   3    3d    RPP                                        Y         mobile                    \n",
            "\n"
          ]
        }
      ],
      "source": [
        "models.list()"
      ]
    },
    {
      "cell_type": "markdown",
      "metadata": {
        "id": "IE2viXJrGYjH"
      },
      "source": [
        "There are currently over 50 robot models, and they fall into three types:\n",
        "1. `DH`, based on standard or modifed Denavit-Hartenberg (DH) notation.  This is what you will find in most of the standard robotics texts\n",
        "2. `ETS`, this is a new way to think about robot kinematics that avoids the (IMO) complexity of DH notation, and was described in [this paper](https://ieeexplore.ieee.org/document/4252158)\n",
        "3. [`URDF`](http://wiki.ros.org/urdf/Tutorials/Building%20a%20Visual%20Robot%20Model%20with%20URDF%20from%20Scratch), which is an industry standard way to represent kinematics, dynamics and 3D structure in XML format\n",
        "\n",
        "We will load a standard Denavit-Hartenberg model of Peter's favourite robot"
      ]
    },
    {
      "cell_type": "code",
      "execution_count": 5,
      "metadata": {
        "colab": {
          "base_uri": "https://localhost:8080/"
        },
        "id": "muG_vsS5GYjH",
        "outputId": "4f7d7b53-ce3b-4283-867c-cc19fab2ff56"
      },
      "outputs": [
        {
          "output_type": "execute_result",
          "data": {
            "text/plain": [
              "DHRobot: Puma 560 (by Unimation), 6 joints (RRRRRR), dynamics, geometry, standard DH parameters\n",
              "┏━━━━┳━━━━━━━━┳━━━━━━━━┳━━━━━━━━┳━━━━━━━━━┳━━━━━━━━┓\n",
              "┃θⱼ  ┃   dⱼ   ┃   aⱼ   ┃   ⍺ⱼ   ┃   q⁻    ┃   q⁺   ┃\n",
              "┣━━━━╋━━━━━━━━╋━━━━━━━━╋━━━━━━━━╋━━━━━━━━━╋━━━━━━━━┫\n",
              "┃ q1 ┃ 0.6718 ┃      0 ┃  90.0° ┃ -160.0° ┃ 160.0° ┃\n",
              "┃ q2 ┃      0 ┃ 0.4318 ┃   0.0° ┃ -110.0° ┃ 110.0° ┃\n",
              "┃ q3 ┃   0.15 ┃ 0.0203 ┃ -90.0° ┃ -135.0° ┃ 135.0° ┃\n",
              "┃ q4 ┃ 0.4318 ┃      0 ┃  90.0° ┃ -266.0° ┃ 266.0° ┃\n",
              "┃ q5 ┃      0 ┃      0 ┃ -90.0° ┃ -100.0° ┃ 100.0° ┃\n",
              "┃ q6 ┃      0 ┃      0 ┃   0.0° ┃ -266.0° ┃ 266.0° ┃\n",
              "┗━━━━┻━━━━━━━━┻━━━━━━━━┻━━━━━━━━┻━━━━━━━━━┻━━━━━━━━┛\n",
              "\n",
              "┌─────┬─────┬──────┬───────┬─────┬──────┬─────┐\n",
              "│name │ q0  │ q1   │ q2    │ q3  │ q4   │ q5  │\n",
              "├─────┼─────┼──────┼───────┼─────┼──────┼─────┤\n",
              "│  qz │  0° │  0°  │  0°   │  0° │  0°  │  0° │\n",
              "│  qr │  0° │  90° │ -90°  │  0° │  0°  │  0° │\n",
              "│  qs │  0° │  0°  │ -90°  │  0° │  0°  │  0° │\n",
              "│  qn │  0° │  45° │  180° │  0° │  45° │  0° │\n",
              "└─────┴─────┴──────┴───────┴─────┴──────┴─────┘"
            ]
          },
          "metadata": {},
          "execution_count": 5
        }
      ],
      "source": [
        "puma = models.DH.Puma560()"
      ]
    },
    {
      "cell_type": "markdown",
      "metadata": {
        "id": "lbPMvIF7GYjI"
      },
      "source": [
        "The `__repr__` method for these objects pretty prints the parameters as a table.  The second table is a list of named joint configurations, for example the \"nominal\" configuration is"
      ]
    },
    {
      "cell_type": "code",
      "execution_count": 6,
      "metadata": {
        "colab": {
          "base_uri": "https://localhost:8080/"
        },
        "id": "88cQdDUvGYjI",
        "outputId": "e0c8878b-a18c-4df8-de7b-6f981f460a1e"
      },
      "outputs": [
        {
          "output_type": "execute_result",
          "data": {
            "text/plain": [
              "array([0.        , 0.78539816, 3.14159265, 0.        , 0.78539816, 0.        ])"
            ]
          },
          "metadata": {},
          "execution_count": 6
        }
      ],
      "source": [
        "puma.qn"
      ]
    },
    {
      "cell_type": "markdown",
      "metadata": {
        "id": "OQgn4eIBGYjI"
      },
      "source": [
        "You can easily add your own, which modifies that particular robot instance"
      ]
    },
    {
      "cell_type": "code",
      "execution_count": 7,
      "metadata": {
        "colab": {
          "base_uri": "https://localhost:8080/"
        },
        "id": "9fSdUqT2GYjI",
        "outputId": "f992c736-f732-4c12-f3df-3c6d6d974d83"
      },
      "outputs": [
        {
          "output_type": "execute_result",
          "data": {
            "text/plain": [
              "array([1., 2., 3., 4., 5., 6.])"
            ]
          },
          "metadata": {},
          "execution_count": 7
        }
      ],
      "source": [
        "puma.addconfiguration(\"foo\", [1,2,3,4,5,6])\n",
        "puma.foo"
      ]
    },
    {
      "cell_type": "markdown",
      "metadata": {
        "id": "A18raq8fGYjI"
      },
      "source": [
        "The most fundamental operation on a robot is to determine its forward kinematics, that is, the pose of its end effector given the joint configuration.  All types of robot object have an `fkine` method to compute this"
      ]
    },
    {
      "cell_type": "code",
      "execution_count": 8,
      "metadata": {
        "colab": {
          "base_uri": "https://localhost:8080/"
        },
        "id": "G1HxtynTGYjJ",
        "outputId": "f4e9f50c-2b42-40d9-f48b-693bf6f51f3d"
      },
      "outputs": [
        {
          "output_type": "execute_result",
          "data": {
            "text/plain": [
              "   0         0         1         0.5963    \n",
              "   0         1         0        -0.1501    \n",
              "  -1         0         0         0.6575    \n",
              "   0         0         0         1         \n"
            ]
          },
          "metadata": {},
          "execution_count": 8
        }
      ],
      "source": [
        "T = puma.fkine(puma.qn)"
      ]
    },
    {
      "cell_type": "markdown",
      "metadata": {
        "id": "ZkAFGxGgGYjJ"
      },
      "source": [
        "or, if you prefer, in a more compact form"
      ]
    },
    {
      "cell_type": "code",
      "execution_count": 9,
      "metadata": {
        "colab": {
          "base_uri": "https://localhost:8080/"
        },
        "id": "Fr_mVZ75GYjJ",
        "outputId": "374b0d8e-a971-45f0-d699-7128bd874a3b"
      },
      "outputs": [
        {
          "output_type": "stream",
          "name": "stdout",
          "text": [
            "t = 0.596, -0.15, 0.657; rpy/zyx = 0°, 90°, 0°\n"
          ]
        }
      ],
      "source": [
        "T.printline()"
      ]
    },
    {
      "cell_type": "markdown",
      "metadata": {
        "id": "Id0bg_UEGYjJ"
      },
      "source": [
        "The next most fundamental operation on a robot is to determine its inverse kinematics, that is, given the pose of its end effector, what are the required joint angles.  In general there are multiple solutions, and the Toolbox provides a numerical solution to this problem"
      ]
    },
    {
      "cell_type": "code",
      "execution_count": 10,
      "metadata": {
        "colab": {
          "base_uri": "https://localhost:8080/"
        },
        "id": "tNGJKU1SGYjJ",
        "outputId": "a68574f7-4063-483b-ad2a-481487a926db"
      },
      "outputs": [
        {
          "output_type": "execute_result",
          "data": {
            "text/plain": [
              "IKsolution(q=array([-7.51090261e-11, -8.33533063e-01,  9.39558324e-02,  1.16389563e-10, -8.31219097e-01, -8.22891548e-11]), success=True, reason=None, iterations=10, residual=8.689513107709946e-11)"
            ]
          },
          "metadata": {},
          "execution_count": 10
        }
      ],
      "source": [
        "sol = puma.ikine_LM(T)"
      ]
    },
    {
      "cell_type": "markdown",
      "metadata": {
        "id": "isX6I16bGYjK"
      },
      "source": [
        "and the return value indicates success and provides the required joint angles.\n",
        "\n",
        "Because this is a numerical solution, it requires a reasonable initial estimate of the joint configuration.  Here it started at zero and has managed to converge, but if it does not converge then a better initial estimate is required, provided using the `q0=` argument.\n",
        "\n",
        "Some robots, for example the Puma560, have an analytical solution available as well, and its options allow for control over which, of the multiple, solutions is returned"
      ]
    },
    {
      "cell_type": "code",
      "execution_count": 11,
      "metadata": {
        "colab": {
          "base_uri": "https://localhost:8080/"
        },
        "id": "-ZJ_7gz_GYjK",
        "outputId": "b8f1a847-1cf3-4853-cc05-5e96e4918cd0"
      },
      "outputs": [
        {
          "output_type": "execute_result",
          "data": {
            "text/plain": [
              "IKsolution(q=array([ 2.64856121,  2.35619449,  0.09395583, -0.60903322, -0.97434958, -2.76819308]), success=True, reason='')"
            ]
          },
          "metadata": {},
          "execution_count": 11
        }
      ],
      "source": [
        "puma.ikine_a(T)"
      ]
    },
    {
      "cell_type": "code",
      "execution_count": 17,
      "metadata": {
        "colab": {
          "base_uri": "https://localhost:8080/",
          "height": 353
        },
        "id": "OIyBb3AKGYjK",
        "outputId": "1b894ef6-3d3a-4122-f0d8-08b6555770d0"
      },
      "outputs": [
        {
          "output_type": "display_data",
          "data": {
            "image/png": "[encoded data removed]",
            "text/plain": [
              "<Figure size 432x288 with 1 Axes>"
            ]
          },
          "metadata": {}
        },
        {
          "output_type": "display_data",
          "data": {
            "text/plain": [
              "<Figure size 432x288 with 0 Axes>"
            ]
          },
          "metadata": {}
        },
        {
          "output_type": "display_data",
          "data": {
            "text/plain": [
              "<Figure size 432x288 with 0 Axes>"
            ]
          },
          "metadata": {}
        }
      ],
      "source": [
        "puma.plot(sol.q, backend=\"pyplot\");"
      ]
    },
    {
      "cell_type": "code",
      "execution_count": null,
      "metadata": {
        "id": "9DJHfejzGYjK",
        "outputId": "64a29a52-4e94-436e-d232-27c9e7015e7f"
      },
      "outputs": [
        {
          "data": {
            "text/plain": [
              "IKsolution(q=array([     2.649,      2.356,    0.09396,     -0.609,    -0.9743,     -2.768]), success=True, reason='')"
            ]
          },
          "execution_count": 134,
          "metadata": {},
          "output_type": "execute_result"
        }
      ],
      "source": [
        "puma.ikine_a(T, config=\"lun\")"
      ]
    },
    {
      "cell_type": "markdown",
      "metadata": {
        "id": "YDxHXQLgGYjK"
      },
      "source": [
        "As mentioned earlier, the ETS notation is a different way to think about robot kinematics.\n",
        "\n",
        "We start by defining a set of dimensions for the robot, this example mimics the one in the [paper](https://ieeexplore.ieee.org/document/4252158)"
      ]
    },
    {
      "cell_type": "code",
      "execution_count": 13,
      "metadata": {
        "id": "UKi0m8YHGYjL"
      },
      "outputs": [],
      "source": [
        "from roboticstoolbox import ETS as ET\n",
        "# Puma dimensions (m), see RVC2 Fig. 7.4 for details\n",
        "l1 = 0.672\n",
        "l2 = -0.2337\n",
        "l3 = 0.4318\n",
        "l4 = 0.0203\n",
        "l5 = 0.0837\n",
        "l6 = 0.4318;"
      ]
    },
    {
      "cell_type": "markdown",
      "metadata": {
        "id": "uU3kZnZlGYjL"
      },
      "source": [
        "and now we can write an expression, in terms of translations and rotations, along or about the x-, y- and z-axes.  These can be by a constant amount or by a joint variable (indicated by no passed argument to the method)"
      ]
    },
    {
      "cell_type": "code",
      "execution_count": 14,
      "metadata": {
        "colab": {
          "base_uri": "https://localhost:8080/"
        },
        "id": "IEhsDNheGYjL",
        "outputId": "784482d4-b375-48f7-a378-91071e1be18d"
      },
      "outputs": [
        {
          "output_type": "execute_result",
          "data": {
            "text/plain": [
              "tz(0.672) ⊕ Rz(q0) ⊕ ty(-0.2337) ⊕ Ry(q1) ⊕ tz(0.4318) ⊕ tx(0.0203) ⊕ ty(0.0837) ⊕ Ry(q2) ⊕ tz(0.4318) ⊕ Rz(q3) ⊕ Ry(q4) ⊕ Rz(q5)"
            ]
          },
          "metadata": {},
          "execution_count": 14
        }
      ],
      "source": [
        "e = ET.tz(l1) * ET.rz() * ET.ty(l2) * ET.ry() \\\n",
        "    * ET.tz(l3) * ET.tx(l4) * ET.ty(l5) * ET.ry() \\\n",
        "    * ET.tz(l6) * ET.rz() * ET.ry() * ET.rz()"
      ]
    },
    {
      "cell_type": "markdown",
      "metadata": {
        "id": "RqbO7xqjGYjL"
      },
      "source": [
        "The result is an `ETS` object which is like a Python list, it can sliced and iterated.\n",
        "\n",
        "We pass this to the `ERobot` constructor (E for ETS robot) and it chops the ETS into chunks, each one ending with a joint variable"
      ]
    },
    {
      "cell_type": "code",
      "execution_count": 15,
      "metadata": {
        "colab": {
          "base_uri": "https://localhost:8080/"
        },
        "id": "1ji1GMdMGYjM",
        "outputId": "63285469-1d8b-4122-c4d7-03671a6428f2"
      },
      "outputs": [
        {
          "output_type": "execute_result",
          "data": {
            "text/plain": [
              "ERobot: noname, 6 joints (RRRRRR)\n",
              "┌───┬────────┬───────┬────────┬───────────────────────────────────────────────────────────────────┐\n",
              "│id │  link  │ joint │ parent │                                ETS                                │\n",
              "├───┼────────┼───────┼────────┼───────────────────────────────────────────────────────────────────┤\n",
              "│ 1 │ link0  │     0 │ BASE   │ {link0} = {BASE} ⊕ tz(0.672) ⊕ Rz(q0)                             │\n",
              "│ 2 │ link1  │     1 │ link0  │ {link1} = {link0} ⊕ ty(-0.2337) ⊕ Ry(q1)                          │\n",
              "│ 3 │ link2  │     2 │ link1  │ {link2} = {link1} ⊕ tz(0.4318) ⊕ tx(0.0203) ⊕ ty(0.0837) ⊕ Ry(q2) │\n",
              "│ 4 │ link3  │     3 │ link2  │ {link3} = {link2} ⊕ tz(0.4318) ⊕ Rz(q3)                           │\n",
              "│ 5 │ link4  │     4 │ link3  │ {link4} = {link3} ⊕ Ry(q4)                                        │\n",
              "│ 6 │ @link5 │     5 │ link4  │ {link5} = {link4} ⊕ Rz(q5)                                        │\n",
              "└───┴────────┴───────┴────────┴───────────────────────────────────────────────────────────────────┘"
            ]
          },
          "metadata": {},
          "execution_count": 15
        }
      ],
      "source": [
        "robot = ERobot(e)"
      ]
    },
    {
      "cell_type": "markdown",
      "metadata": {
        "id": "Galu9-PZGYjM"
      },
      "source": [
        "The `@` symbol indicates the end of a branch (we can have robots with multiple branches) or an end-effector.\n",
        "\n",
        "Finally, we will load a model of the Franka-Emika Panda from a URDF file that is included with the Toolbox"
      ]
    },
    {
      "cell_type": "code",
      "execution_count": 16,
      "metadata": {
        "lines_to_next_cell": 2,
        "colab": {
          "base_uri": "https://localhost:8080/"
        },
        "id": "Bq5-hkH5GYjM",
        "outputId": "cd170eae-e493-4fa9-d7d7-26e1f3fd07c0"
      },
      "outputs": [
        {
          "output_type": "execute_result",
          "data": {
            "text/plain": [
              "ERobot: panda (by Franka Emika), 7 joints (RRRRRRR), geometry, collision\n",
              "┌───┬──────────────┬───────┬─────────────┬─────────────────────────────────────────────────────────────────────────────┐\n",
              "│id │     link     │ joint │   parent    │                                     ETS                                     │\n",
              "├───┼──────────────┼───────┼─────────────┼─────────────────────────────────────────────────────────────────────────────┤\n",
              "│ 1 │ panda_link0  │       │ BASE        │ {panda_link0} = {BASE}                                                      │\n",
              "│ 2 │ panda_link1  │     0 │ panda_link0 │ {panda_link1} = {panda_link0} ⊕ tz(0.333) ⊕ Rz(q0)                          │\n",
              "│ 3 │ panda_link2  │     1 │ panda_link1 │ {panda_link2} = {panda_link1} ⊕ Rx(-90°) ⊕ Rz(q1)                           │\n",
              "│ 4 │ panda_link3  │     2 │ panda_link2 │ {panda_link3} = {panda_link2} ⊕ ty(-0.316) ⊕ Rx(90°) ⊕ Rz(q2)               │\n",
              "│ 5 │ panda_link4  │     3 │ panda_link3 │ {panda_link4} = {panda_link3} ⊕ tx(0.0825) ⊕ Rx(90°) ⊕ Rz(q3)               │\n",
              "│ 6 │ panda_link5  │     4 │ panda_link4 │ {panda_link5} = {panda_link4} ⊕ tx(-0.0825) ⊕ ty(0.384) ⊕ Rx(-90°) ⊕ Rz(q4) │\n",
              "│ 7 │ panda_link6  │     5 │ panda_link5 │ {panda_link6} = {panda_link5} ⊕ Rx(90°) ⊕ Rz(q5)                            │\n",
              "│ 8 │ panda_link7  │     6 │ panda_link6 │ {panda_link7} = {panda_link6} ⊕ tx(0.088) ⊕ Rx(90°) ⊕ Rz(q6)                │\n",
              "│ 9 │ @panda_link8 │       │ panda_link7 │ {panda_link8} = {panda_link7} ⊕ tz(0.107)                                   │\n",
              "└───┴──────────────┴───────┴─────────────┴─────────────────────────────────────────────────────────────────────────────┘\n",
              "\n",
              "┌─────┬─────┬────────┬─────┬───────┬─────┬───────┬──────┐\n",
              "│name │ q0  │ q1     │ q2  │ q3    │ q4  │ q5    │ q6   │\n",
              "├─────┼─────┼────────┼─────┼───────┼─────┼───────┼──────┤\n",
              "│  qz │  0° │  0°    │  0° │  0°   │  0° │  0°   │  0°  │\n",
              "│  qr │  0° │ -17.2° │  0° │ -126° │  0° │  115° │  45° │\n",
              "└─────┴─────┴────────┴─────┴───────┴─────┴───────┴──────┘"
            ]
          },
          "metadata": {},
          "execution_count": 16
        }
      ],
      "source": [
        "panda = models.URDF.Panda()"
      ]
    },
    {
      "cell_type": "markdown",
      "metadata": {
        "id": "zMbLUuHMGYjM"
      },
      "source": [
        "The table at the top has tags:\n",
        "* `geometry` the model includes models of the 3D geometry of the robot, as STL or Collada files.\n",
        "* `collision` the model includes collision geometry, a set of simple geometric primitives, such as cylinders and spheres, for each link that can be used for collision checking.\n",
        "\n",
        "The `@` symbol again indicates the end of a branch (we can have robots with multiple branches) or an end-effector.  Links shown in blue have a constant transformation with respect to their parent link.\n"
      ]
    },
    {
      "cell_type": "markdown",
      "metadata": {
        "id": "LwhvE5aNGYjN"
      },
      "source": [
        "## B. Trajectories"
      ]
    },
    {
      "cell_type": "code",
      "execution_count": 18,
      "metadata": {
        "colab": {
          "base_uri": "https://localhost:8080/",
          "height": 259
        },
        "id": "skHgkKs0GYjN",
        "outputId": "3cca0c2f-a729-4efe-d544-9d76d06dc49d"
      },
      "outputs": [
        {
          "output_type": "display_data",
          "data": {
            "image/png": "[encoded data removed]",
            "text/plain": [
              "<Figure size 432x288 with 1 Axes>"
            ]
          },
          "metadata": {}
        }
      ],
      "source": [
        "traj = jtraj(puma.qz, puma.qr, 100)\n",
        "plt.plot(traj.q);"
      ]
    },
    {
      "cell_type": "code",
      "execution_count": 19,
      "metadata": {
        "colab": {
          "base_uri": "https://localhost:8080/",
          "height": 181
        },
        "id": "PDm4EMkcGYjN",
        "outputId": "c55477b6-3bc6-4569-d24b-845d9bef1e2a"
      },
      "outputs": [
        {
          "output_type": "error",
          "ename": "NameError",
          "evalue": "ignored",
          "traceback": [
            "\u001b[0;31m---------------------------------------------------------------------------\u001b[0m",
            "\u001b[0;31mNameError\u001b[0m                                 Traceback (most recent call last)",
            "\u001b[0;32m<ipython-input-19-25c68c15409f>\u001b[0m in \u001b[0;36m<module>\u001b[0;34m\u001b[0m\n\u001b[1;32m      1\u001b[0m \u001b[0mt\u001b[0m \u001b[0;34m=\u001b[0m \u001b[0mnp\u001b[0m\u001b[0;34m.\u001b[0m\u001b[0marange\u001b[0m\u001b[0;34m(\u001b[0m\u001b[0;36m0\u001b[0m\u001b[0;34m,\u001b[0m \u001b[0;36m2\u001b[0m\u001b[0;34m,\u001b[0m \u001b[0;36m0.010\u001b[0m\u001b[0;34m)\u001b[0m\u001b[0;34m\u001b[0m\u001b[0;34m\u001b[0m\u001b[0m\n\u001b[0;32m----> 2\u001b[0;31m \u001b[0mT0\u001b[0m \u001b[0;34m=\u001b[0m \u001b[0mSE3\u001b[0m\u001b[0;34m(\u001b[0m\u001b[0;36m0.6\u001b[0m\u001b[0;34m,\u001b[0m \u001b[0;34m-\u001b[0m\u001b[0;36m0.5\u001b[0m\u001b[0;34m,\u001b[0m \u001b[0;36m0.3\u001b[0m\u001b[0;34m)\u001b[0m\u001b[0;34m\u001b[0m\u001b[0;34m\u001b[0m\u001b[0m\n\u001b[0m",
            "\u001b[0;31mNameError\u001b[0m: name 'SE3' is not defined"
          ]
        }
      ],
      "source": [
        "t = np.arange(0, 2, 0.010)\n",
        "T0 = SE3(0.6, -0.5, 0.3)"
      ]
    },
    {
      "cell_type": "code",
      "execution_count": null,
      "metadata": {
        "id": "PrgediX7GYjN",
        "outputId": "85a069b1-3a7b-40c8-e420-937b5780388d"
      },
      "outputs": [
        {
          "data": {
            "text/plain": [
              "  \u001b[38;5;1m 1       \u001b[0m \u001b[38;5;1m 0       \u001b[0m \u001b[38;5;1m 0       \u001b[0m \u001b[38;5;4m 0.4     \u001b[0m  \u001b[0m\n",
              "  \u001b[38;5;1m 0       \u001b[0m \u001b[38;5;1m 1       \u001b[0m \u001b[38;5;1m 0       \u001b[0m \u001b[38;5;4m 0.5     \u001b[0m  \u001b[0m\n",
              "  \u001b[38;5;1m 0       \u001b[0m \u001b[38;5;1m 0       \u001b[0m \u001b[38;5;1m 1       \u001b[0m \u001b[38;5;4m 0.2     \u001b[0m  \u001b[0m\n",
              "  \u001b[38;5;244m 0       \u001b[0m \u001b[38;5;244m 0       \u001b[0m \u001b[38;5;244m 0       \u001b[0m \u001b[38;5;244m 1       \u001b[0m  \u001b[0m\n"
            ]
          },
          "execution_count": 141,
          "metadata": {},
          "output_type": "execute_result"
        }
      ],
      "source": [
        "T1 = SE3(0.4, 0.5, 0.2)"
      ]
    },
    {
      "cell_type": "code",
      "execution_count": null,
      "metadata": {
        "id": "w6sjwgDyGYjN",
        "outputId": "98cf829f-1e26-4328-9955-7e1f4306672e"
      },
      "outputs": [
        {
          "data": {
            "text/plain": [
              "200"
            ]
          },
          "execution_count": 142,
          "metadata": {},
          "output_type": "execute_result"
        }
      ],
      "source": [
        "Ts = ctraj(T0, T1, t)\n",
        "len(Ts)"
      ]
    },
    {
      "cell_type": "code",
      "execution_count": null,
      "metadata": {
        "id": "aPH3C3KsGYjN",
        "outputId": "c05db860-7299-434b-9bc1-0095d119449c"
      },
      "outputs": [
        {
          "data": {
            "text/plain": [
              "(200, 6)"
            ]
          },
          "execution_count": 143,
          "metadata": {},
          "output_type": "execute_result"
        }
      ],
      "source": [
        "sol = puma.ikine_LM(Ts)\n",
        "sol.q.shape"
      ]
    },
    {
      "cell_type": "markdown",
      "metadata": {
        "id": "nfxk23v3GYjO"
      },
      "source": [
        "## C. Symbolic manipulation"
      ]
    },
    {
      "cell_type": "code",
      "execution_count": 29,
      "metadata": {
        "colab": {
          "base_uri": "https://localhost:8080/"
        },
        "id": "Yw1VSdxUGYjO",
        "outputId": "c42e1ab3-09fc-4eb2-b46d-c90f2600c5fd"
      },
      "outputs": [
        {
          "output_type": "stream",
          "name": "stdout",
          "text": [
            "Requirement already satisfied: sympy in /usr/local/lib/python3.7/dist-packages (1.7.1)\n",
            "Requirement already satisfied: mpmath>=0.19 in /usr/local/lib/python3.7/dist-packages (from sympy) (1.2.1)\n"
          ]
        },
        {
          "output_type": "execute_result",
          "data": {
            "text/plain": [
              "array([[cos(ψ)*cos(ϴ), sin(φ)*sin(ϴ)*cos(ψ) - sin(ψ)*cos(φ), sin(φ)*sin(ψ) + sin(ϴ)*cos(φ)*cos(ψ)],\n",
              "       [sin(ψ)*cos(ϴ), sin(φ)*sin(ψ)*sin(ϴ) + cos(φ)*cos(ψ), -sin(φ)*cos(ψ) + sin(ψ)*sin(ϴ)*cos(φ)],\n",
              "       [-sin(ϴ), sin(φ)*cos(ϴ), cos(φ)*cos(ϴ)]], dtype=object)"
            ]
          },
          "metadata": {},
          "execution_count": 29
        }
      ],
      "source": [
        "!pip install sympy\n",
        "import spatialmath.base.symbolic as sym\n",
        "phi, theta, psi = sym.symbol('φ, ϴ, ψ')\n",
        "rpy2r(phi, theta, psi)"
      ]
    },
    {
      "cell_type": "code",
      "execution_count": 30,
      "metadata": {
        "id": "0SOqf3VZGYjO"
      },
      "outputs": [],
      "source": [
        "q = sym.symbol(\"q_:6\") # q = (q_1, q_2, ... q_5)\n",
        "T = puma.fkine(q);"
      ]
    },
    {
      "cell_type": "code",
      "execution_count": 31,
      "metadata": {
        "colab": {
          "base_uri": "https://localhost:8080/",
          "height": 59
        },
        "id": "mLZELBVcGYjO",
        "outputId": "c6d61740-804d-455f-9e9c-e4b73bdde58a"
      },
      "outputs": [
        {
          "output_type": "execute_result",
          "data": {
            "text/latex": "$\\displaystyle 0.15005 \\sin{\\left(q_{0} \\right)} - 0.0203 \\sin{\\left(q_{1} \\right)} \\sin{\\left(q_{2} \\right)} \\cos{\\left(q_{0} \\right)} - 0.4318 \\sin{\\left(q_{1} \\right)} \\cos{\\left(q_{0} \\right)} \\cos{\\left(q_{2} \\right)} - 0.4318 \\sin{\\left(q_{2} \\right)} \\cos{\\left(q_{0} \\right)} \\cos{\\left(q_{1} \\right)} + 0.0203 \\cos{\\left(q_{0} \\right)} \\cos{\\left(q_{1} \\right)} \\cos{\\left(q_{2} \\right)} + 0.4318 \\cos{\\left(q_{0} \\right)} \\cos{\\left(q_{1} \\right)}$",
            "text/plain": [
              "0.15005*sin(q_0) - 0.0203*sin(q_1)*sin(q_2)*cos(q_0) - 0.4318*sin(q_1)*cos(q_0)*cos(q_2) - 0.4318*sin(q_2)*cos(q_0)*cos(q_1) + 0.0203*cos(q_0)*cos(q_1)*cos(q_2) + 0.4318*cos(q_0)*cos(q_1)"
            ]
          },
          "metadata": {},
          "execution_count": 31
        }
      ],
      "source": [
        "puma = models.DH.Puma560(symbolic=True)\n",
        "T = puma.fkine(q)\n",
        "T.t[0]"
      ]
    },
    {
      "cell_type": "markdown",
      "metadata": {
        "id": "UfUsUWPWGYjP"
      },
      "source": [
        "## D. Differential kinematics"
      ]
    },
    {
      "cell_type": "code",
      "execution_count": null,
      "metadata": {
        "id": "7hl8z4D9GYjP",
        "outputId": "b8a188be-5e32-44a6-bc86-c07d652e13a5"
      },
      "outputs": [
        {
          "data": {
            "text/plain": [
              "array([[      0.15,    -0.8636,    -0.4318,        0,        0,        0],\n",
              "       [    0.0203,        0,        0,        0,        0,        0],\n",
              "       [       0,     0.0203,     0.0203,        0,        0,        0],\n",
              "       [       0,        0,        0,        0,        0,        0],\n",
              "       [       0,         -1,         -1,        0,         -1,        0],\n",
              "       [         1,        0,        0,          1,        0,          1]])"
            ]
          },
          "execution_count": 149,
          "metadata": {},
          "output_type": "execute_result"
        }
      ],
      "source": [
        "puma = models.DH.Puma560(symbolic=False)\n",
        "\n",
        "J = puma.jacob0(puma.qr)"
      ]
    },
    {
      "cell_type": "code",
      "execution_count": null,
      "metadata": {
        "id": "yKLOz9jOGYjP",
        "outputId": "1b9ed750-1611-48f6-bdd1-a57e3a0c97ef"
      },
      "outputs": [
        {
          "data": {
            "text/plain": [
              "5"
            ]
          },
          "execution_count": 150,
          "metadata": {},
          "output_type": "execute_result"
        }
      ],
      "source": [
        "np.linalg.matrix_rank(J)"
      ]
    },
    {
      "cell_type": "code",
      "execution_count": null,
      "metadata": {
        "id": "i5mdcSdIGYjP",
        "outputId": "1adb6777-f339-4ae7-9d54-c3f01d51f133"
      },
      "outputs": [
        {
          "name": "stdout",
          "output_type": "stream",
          "text": [
            "joint 5 is dependent on joint 3\n"
          ]
        }
      ],
      "source": [
        "jsingu(J)"
      ]
    },
    {
      "cell_type": "code",
      "execution_count": null,
      "metadata": {
        "id": "yf9ebArWGYjP",
        "outputId": "ef913aff-eb83-4d07-a625-68ec1a7b2cd7"
      },
      "outputs": [
        {
          "data": {
            "text/plain": [
              "(6, 7, 7)"
            ]
          },
          "execution_count": 152,
          "metadata": {},
          "output_type": "execute_result"
        }
      ],
      "source": [
        "H = panda.hessian0(panda.qz)\n",
        "H.shape"
      ]
    },
    {
      "cell_type": "code",
      "execution_count": null,
      "metadata": {
        "id": "wqOrpG4oGYjQ",
        "outputId": "5651a278-412d-4a5a-b1bc-6124f641a7cd"
      },
      "outputs": [
        {
          "data": {
            "text/plain": [
              "0.07861716534599998"
            ]
          },
          "execution_count": 153,
          "metadata": {},
          "output_type": "execute_result"
        }
      ],
      "source": [
        "puma.manipulability(puma.qn)"
      ]
    },
    {
      "cell_type": "code",
      "execution_count": null,
      "metadata": {
        "id": "X8lpp6n5GYjQ",
        "outputId": "9e9b3a75-fd3e-4bad-c81d-fd040ec69c13"
      },
      "outputs": [
        {
          "data": {
            "text/plain": [
              "0.0043746137281665"
            ]
          },
          "execution_count": 154,
          "metadata": {},
          "output_type": "execute_result"
        }
      ],
      "source": [
        "puma.manipulability(puma.qn, method=\"asada\")"
      ]
    },
    {
      "cell_type": "code",
      "execution_count": null,
      "metadata": {
        "id": "NzaI4f0gGYjQ",
        "outputId": "9fda141c-e558-4fe9-e18a-0d6b25f67234"
      },
      "outputs": [
        {
          "data": {
            "text/plain": [
              "0.11118146146764128"
            ]
          },
          "execution_count": 155,
          "metadata": {},
          "output_type": "execute_result"
        }
      ],
      "source": [
        "puma.manipulability(puma.qn, axes=\"trans\")"
      ]
    },
    {
      "cell_type": "code",
      "execution_count": null,
      "metadata": {
        "lines_to_next_cell": 2,
        "id": "wZ9G8QWsGYjQ",
        "outputId": "d7f06d8a-ad5f-4926-ed4b-7a0f443e7d40"
      },
      "outputs": [
        {
          "data": {
            "text/plain": [
              "array([[       0],\n",
              "       [ -0.002627],\n",
              "       [       0],\n",
              "       [   0.04064],\n",
              "       [       0],\n",
              "       [  -0.02734],\n",
              "       [       0]])"
            ]
          },
          "execution_count": 156,
          "metadata": {},
          "output_type": "execute_result"
        }
      ],
      "source": [
        "panda.jacobm(panda.qr)"
      ]
    },
    {
      "cell_type": "markdown",
      "metadata": {
        "id": "nsIzU2EHGYjQ"
      },
      "source": [
        "## E. Dynamics"
      ]
    },
    {
      "cell_type": "code",
      "execution_count": null,
      "metadata": {
        "lines_to_next_cell": 2,
        "id": "2zkYyUyJGYjQ",
        "outputId": "0a0f0f81-c4b8-4f9e-ed07-ee2eea79d03a"
      },
      "outputs": [
        {
          "data": {
            "text/plain": [
              "array([       0,      31.64,      6.035,        0,    0.02825,        0])"
            ]
          },
          "execution_count": 157,
          "metadata": {},
          "output_type": "execute_result"
        }
      ],
      "source": [
        "tau = puma.rne(puma.qn, np.zeros((6,)), np.zeros((6,)))"
      ]
    },
    {
      "cell_type": "code",
      "execution_count": null,
      "metadata": {
        "lines_to_next_cell": 2,
        "id": "qlp-D1X0GYjR",
        "outputId": "d2e2683b-444f-4f25-b60b-4d2c18caba32"
      },
      "outputs": [
        {
          "data": {
            "text/plain": [
              "array([[     3.659,    -0.4044,     0.1006,  -0.002517,        0,        0],\n",
              "       [   -0.4044,      4.414,     0.3509,        0,    0.00236,        0],\n",
              "       [    0.1006,     0.3509,     0.9378,        0,    0.00148,        0],\n",
              "       [ -0.002517,        0,        0,     0.1925,        0,  2.828e-05],\n",
              "       [       0,    0.00236,    0.00148,        0,     0.1713,        0],\n",
              "       [       0,        0,        0,  2.828e-05,        0,     0.1941]])"
            ]
          },
          "execution_count": 158,
          "metadata": {},
          "output_type": "execute_result"
        }
      ],
      "source": [
        "J = puma.inertia(puma.qn)"
      ]
    },
    {
      "cell_type": "code",
      "execution_count": null,
      "metadata": {
        "lines_to_next_cell": 2,
        "id": "BPzl5j3hGYjR",
        "outputId": "b8adb4f1-b6a9-4d92-ccfe-97901a9cd4a9"
      },
      "outputs": [
        {
          "data": {
            "text/plain": [
              "array([[   -0.0267,    -0.1291,    0.01696, -3.344e-05, -0.0002789,      6e-06],\n",
              "       [   0.06274,    0.03857,    0.07715, -0.0001552,  -1.24e-05, -5.858e-07],\n",
              "       [  -0.03607,   -0.03867, -9.207e-05, -9.304e-05, -0.0002762, -5.858e-07],\n",
              "       [ 4.001e-05,  5.718e-05, -4.998e-06,  1.011e-05,  2.425e-05, -4.243e-06],\n",
              "       [-1.756e-05,   9.62e-05,  0.0001841, -2.425e-05,        0, -5.858e-07],\n",
              "       [     6e-06,  3.414e-06,  3.414e-06,  1.414e-06,  5.858e-07,        0]])"
            ]
          },
          "execution_count": 159,
          "metadata": {},
          "output_type": "execute_result"
        }
      ],
      "source": [
        "C = puma.coriolis(puma.qn, 0.1 * np.ones((6,)))"
      ]
    },
    {
      "cell_type": "code",
      "execution_count": null,
      "metadata": {
        "lines_to_next_cell": 2,
        "id": "xg_oJy_dGYjR",
        "outputId": "3aad421c-dd5c-4946-f06c-52ca5badaac0"
      },
      "outputs": [
        {
          "data": {
            "text/plain": [
              "array([       0,      31.64,      6.035,        0,    0.02825,        0])"
            ]
          },
          "execution_count": 160,
          "metadata": {},
          "output_type": "execute_result"
        }
      ],
      "source": [
        "g = puma.gravload(puma.qn)"
      ]
    },
    {
      "cell_type": "code",
      "execution_count": null,
      "metadata": {
        "lines_to_next_cell": 2,
        "id": "Scz6cODlGYjR",
        "outputId": "48bc7719-3e14-4e7f-9ca5-b6ee71209ad4"
      },
      "outputs": [
        {
          "data": {
            "text/plain": [
              "array([     147.6,     -133.7,      406.4,     -2.494,     -8.281,  0.0003634])"
            ]
          },
          "execution_count": 161,
          "metadata": {},
          "output_type": "execute_result"
        }
      ],
      "source": [
        "qdd = puma.accel(puma.qn, tau, np.zeros((6,)))"
      ]
    },
    {
      "cell_type": "markdown",
      "metadata": {
        "id": "Vcc4bf3eGYjR"
      },
      "source": [
        "# V. NEW CAPABILITY\n",
        "## B. Collision checking"
      ]
    },
    {
      "cell_type": "code",
      "execution_count": null,
      "metadata": {
        "id": "N913IH3jGYjS",
        "outputId": "aa55964e-6642-4f84-e042-1d0391f29024"
      },
      "outputs": [
        {
          "name": "stdout",
          "output_type": "stream",
          "text": [
            "\u001b]2;C02D8125PN78:/Users/corkep/Dropbox/code/ws-rtb\u0007\u001b]1;C02D8125PN78\u0007pip: Command not found.\n"
          ]
        },
        {
          "data": {
            "text/plain": [
              "False"
            ]
          },
          "execution_count": 162,
          "metadata": {},
          "output_type": "execute_result"
        }
      ],
      "source": [
        "!pip install spatialgeometry\n",
        "from spatialgeometry import Cuboid\n",
        "obstacle = Cuboid([1, 1, 1], base=SE3(1, 0, 0)) \n",
        "iscollision = panda.collided(panda.qr, obstacle) # boolean\n",
        "iscollision = panda.links[0].collided(obstacle)"
      ]
    },
    {
      "cell_type": "code",
      "execution_count": null,
      "metadata": {
        "id": "2CmfHQd3GYjS",
        "outputId": "2ee1607e-394a-404e-cf2f-2a2ba191be12"
      },
      "outputs": [
        {
          "name": "stdout",
          "output_type": "stream",
          "text": [
            "0.015720599440705682 [    0.4905   -0.05996      0.512] [    0.5004   -0.05996     0.4998]\n",
            "0.5 [       0        0       0.06] [       0.5        0       0.06]\n"
          ]
        }
      ],
      "source": [
        "d, p1, p2 = panda.closest_point(panda.qr, obstacle)\n",
        "print(d, p1, p2)\n",
        "d, p1, p2 = panda.links[0].closest_point(obstacle)\n",
        "print(d, p1, p2)"
      ]
    },
    {
      "cell_type": "markdown",
      "metadata": {
        "id": "DxnsuJVKGYjS"
      },
      "source": [
        "## C. Interfaces"
      ]
    },
    {
      "cell_type": "markdown",
      "metadata": {
        "id": "0MnmEVIdGYjS"
      },
      "source": [
        "The examples below will not work with CoLab.  They require a local browser to display the robot."
      ]
    },
    {
      "cell_type": "code",
      "execution_count": null,
      "metadata": {
        "id": "AkxxfXnXGYjS"
      },
      "outputs": [],
      "source": [
        "panda.plot(panda.qr, block=False);"
      ]
    },
    {
      "cell_type": "code",
      "execution_count": null,
      "metadata": {
        "id": "2R7U5HqWGYjS"
      },
      "outputs": [],
      "source": [
        "from roboticstoolbox.backends.swift import Swift\n",
        "backend = Swift()\n",
        "backend.launch()   # create graphical world\n",
        "backend.add(panda) # add robot to the world\n",
        "panda.q = panda.qr        # update the robot\n",
        "backend.step()    # display the world"
      ]
    }
  ],
  "metadata": {
    "jupytext": {
      "cell_metadata_filter": "-all",
      "encoding": "# -*- coding: utf-8 -*-",
      "notebook_metadata_filter": "-all",
      "text_representation": {
        "extension": ".py",
        "format_name": "light"
      }
    },
    "kernelspec": {
      "display_name": "Python 3",
      "language": "python",
      "name": "python3"
    },
    "language_info": {
      "codemirror_mode": {
        "name": "ipython",
        "version": 3
      },
      "file_extension": ".py",
      "mimetype": "text/x-python",
      "name": "python",
      "nbconvert_exporter": "python",
      "pygments_lexer": "ipython3",
      "version": "3.8.5"
    },
    "varInspector": {
      "cols": {
        "lenName": 16,
        "lenType": 16,
        "lenVar": 40
      },
      "kernels_config": {
        "python": {
          "delete_cmd_postfix": "",
          "delete_cmd_prefix": "del ",
          "library": "var_list.py",
          "varRefreshCmd": "print(var_dic_list())"
        },
        "r": {
          "delete_cmd_postfix": ") ",
          "delete_cmd_prefix": "rm(",
          "library": "var_list.r",
          "varRefreshCmd": "cat(var_dic_list()) "
        }
      },
      "types_to_exclude": [
        "module",
        "function",
        "builtin_function_or_method",
        "instance",
        "_Feature"
      ],
      "window_display": false
    },
    "colab": {
      "name": "icra2021.ipynb",
      "provenance": [],
      "toc_visible": true
    }
  },
  "nbformat": 4,
  "nbformat_minor": 0
}