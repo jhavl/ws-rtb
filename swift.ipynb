{
 "cells": [
  {
   "cell_type": "markdown",
   "metadata": {},
   "source": [
    "\n",
    "# Introduction to Swift and the Robotics Toolbox for Python"
   ]
  },
  {
   "cell_type": "markdown",
   "metadata": {},
   "source": [
    "_Note: This notebook must be run locally. Due to how the Swift Simulator operates, this notebook will not run on Google Colab_"
   ]
  },
  {
   "cell_type": "markdown",
   "metadata": {},
   "source": [
    "## Setup\n",
    "\n",
    "First we must import the key packages which we will use throughout the exercises"
   ]
  },
  {
   "cell_type": "code",
   "execution_count": 1,
   "metadata": {},
   "outputs": [],
   "source": [
    "import roboticstoolbox as rtb\n",
    "import spatialmath as sm\n",
    "import swift\n",
    "import numpy as np\n",
    "import spatialgeometry as sg"
   ]
  },
  {
   "cell_type": "markdown",
   "metadata": {},
   "source": [
    "Swift is a browser based robot simulator. We must first make the environment and\n",
    "then use the `launch` method to open the simulator.\n",
    "\n",
    "Each time `launch()` is called, a new browser tab is opened with a clean Swift\n",
    "environment.\n",
    "\n",
    "By passing the `realtime=True` keyword argument to the `launch` method, the\n",
    "simulator will try to run as close as possible to realtime, instead of as fast\n",
    "as possible."
   ]
  },
  {
   "cell_type": "code",
   "execution_count": 2,
   "metadata": {},
   "outputs": [],
   "source": [
    "# Make the environment\n",
    "env = swift.Swift()\n",
    "\n",
    "# Launch the simulator, will open a browser tab\n",
    "env.launch(realtime=True)"
   ]
  },
  {
   "cell_type": "markdown",
   "metadata": {},
   "source": [
    "## Playing with a Robot\n",
    "\n",
    "Now we can make a robot.\n",
    "\n",
    "We can change the physical location of the Panda robot in the environment with the\n",
    "`base` property. In this example, we move the Panda 1 metre along the y-axis.\n",
    "\n",
    "Finally, we add the Panda to the environment using the `add()` method. Now you\n",
    "should see a Panda loaded into the Swift environment, located 1 metre along the\n",
    "y-axis."
   ]
  },
  {
   "cell_type": "markdown",
   "metadata": {},
   "source": [
    "Exercise 1\n",
    "* Modify the code to position the robot at x = -0.1, y = 1.0, z = 0.0"
   ]
  },
  {
   "cell_type": "code",
   "execution_count": 3,
   "metadata": {},
   "outputs": [
    {
     "data": {
      "text/plain": [
       "0"
      ]
     },
     "execution_count": 3,
     "metadata": {},
     "output_type": "execute_result"
    }
   ],
   "source": [
    "# Make a Panda Robot\n",
    "panda = rtb.models.Panda()\n",
    "\n",
    "# Move the Panda along the y-axis\n",
    "panda.base = sm.SE3.Ty(1.0)\n",
    "\n",
    "# Add the Panda to the Swift environment\n",
    "env.add(panda)"
   ]
  },
  {
   "cell_type": "markdown",
   "metadata": {},
   "source": [
    "In this stage we are going to change the configuration of the Panda.\n",
    "\n",
    "We can change the configuration of a robot using the `q` property.\n",
    "\n",
    "After changing the robot state, we must use the `step(dt)` method to update the\n",
    "swift environment. The `dt` parameter to the `step` method defines how much time\n",
    "to step through."
   ]
  },
  {
   "cell_type": "markdown",
   "metadata": {},
   "source": [
    "Exercise 2\n",
    "* Modify the code to change the joint angles of the robot. Make sure you step the environment to visualise the results"
   ]
  },
  {
   "cell_type": "code",
   "execution_count": 4,
   "metadata": {},
   "outputs": [],
   "source": [
    "# Change the robot configuration\n",
    "panda.q = [0, -0.3, 0, -2.2, 0, 2.0, np.pi / 4]\n",
    "\n",
    "# Step the environment to see the updated robot\n",
    "env.step(0)"
   ]
  },
  {
   "cell_type": "markdown",
   "metadata": {},
   "source": [
    "We can also velocity control the robot using the `qd` property of the robot.\n",
    "\n",
    "`qd` specifies the joint velocities $\\dot{q}$ for each joint within the robot.\n",
    "\n",
    "In this example we are going to actuate the first and fifth joint of the robot\n",
    "at 0.1 rad/s.\n",
    "\n",
    "We are then going to simulate the robot for 5 seconds, stepping the environment\n",
    "in 10 ms increments. As the robot is simulated, the robot's configuration is\n",
    "updated in the `q` property."
   ]
  },
  {
   "cell_type": "markdown",
   "metadata": {},
   "source": [
    "Exercise 3\n",
    "* Modify the code so that the robot's second joint rotates at 0.2 rad/s"
   ]
  },
  {
   "cell_type": "code",
   "execution_count": 5,
   "metadata": {},
   "outputs": [
    {
     "name": "stdout",
     "output_type": "stream",
     "text": [
      "[ 0.5        -0.3         0.         -2.2        -0.5         2.          0.78539816]\n"
     ]
    }
   ],
   "source": [
    "# Set the joint velocities of the robot\n",
    "panda.qd = [0.1, 0, 0, 0, -0.1, 0, 0]\n",
    "\n",
    "# Set the simulation step size to 10 ms\n",
    "dt = 0.1\n",
    "\n",
    "# To simulate for 5 seconds, we need 50 steps\n",
    "for _ in range(50):\n",
    "    env.step(dt)\n",
    "\n",
    "# Print the new robot joint configuration\n",
    "print(panda.q)"
   ]
  },
  {
   "cell_type": "markdown",
   "metadata": {},
   "source": [
    "End-effector pose\n",
    "\n",
    "To find out where the end-effector is located in the world we use forward\n",
    "kinematics. This can be calculated in the toolbox using the `fkine(q)` method.\n",
    "The argument `q` species to robot configuration in which to calculate the\n",
    "forward kinematics.\n",
    "\n",
    "Note that the forward kinematics includes the base transform. We can choose to\n",
    "ignore the base transform by passing the `include_base=False` keyword argument."
   ]
  },
  {
   "cell_type": "markdown",
   "metadata": {},
   "source": [
    "Exercise 4\n",
    "* Calculate and print the forward kinematics of the robot at the joint configuration `[0.1, 0.0, -1.1, 0.5, 0.3, -0.3, 0.9]`"
   ]
  },
  {
   "cell_type": "code",
   "execution_count": 6,
   "metadata": {},
   "outputs": [
    {
     "name": "stdout",
     "output_type": "stream",
     "text": [
      "Forward kinematics at zero-angle configuration\n",
      "  \u001b[38;5;1m 0.7071  \u001b[0m \u001b[38;5;1m 0.7071  \u001b[0m \u001b[38;5;1m 0       \u001b[0m \u001b[38;5;4m 0.088   \u001b[0m  \u001b[0m\n",
      "  \u001b[38;5;1m 0.7071  \u001b[0m \u001b[38;5;1m-0.7071  \u001b[0m \u001b[38;5;1m 0       \u001b[0m \u001b[38;5;4m 1       \u001b[0m  \u001b[0m\n",
      "  \u001b[38;5;1m 0       \u001b[0m \u001b[38;5;1m 0       \u001b[0m \u001b[38;5;1m-1       \u001b[0m \u001b[38;5;4m 0.8226  \u001b[0m  \u001b[0m\n",
      "  \u001b[38;5;244m 0       \u001b[0m \u001b[38;5;244m 0       \u001b[0m \u001b[38;5;244m 0       \u001b[0m \u001b[38;5;244m 1       \u001b[0m  \u001b[0m\n",
      "\n",
      "Forward kinematics at current configuration\n",
      "  \u001b[38;5;1m 0.7631  \u001b[0m \u001b[38;5;1m 0.5568  \u001b[0m \u001b[38;5;1m 0.3282  \u001b[0m \u001b[38;5;4m 0.4657  \u001b[0m  \u001b[0m\n",
      "  \u001b[38;5;1m 0.6442  \u001b[0m \u001b[38;5;1m-0.6958  \u001b[0m \u001b[38;5;1m-0.3175  \u001b[0m \u001b[38;5;4m 1.17    \u001b[0m  \u001b[0m\n",
      "  \u001b[38;5;1m 0.05163 \u001b[0m \u001b[38;5;1m 0.4537  \u001b[0m \u001b[38;5;1m-0.8897  \u001b[0m \u001b[38;5;4m 0.4306  \u001b[0m  \u001b[0m\n",
      "  \u001b[38;5;244m 0       \u001b[0m \u001b[38;5;244m 0       \u001b[0m \u001b[38;5;244m 0       \u001b[0m \u001b[38;5;244m 1       \u001b[0m  \u001b[0m\n",
      "\n",
      "Robot base to end-effector transform at current configuration\n",
      "  \u001b[38;5;1m 0.7631  \u001b[0m \u001b[38;5;1m 0.5568  \u001b[0m \u001b[38;5;1m 0.3282  \u001b[0m \u001b[38;5;4m 0.4657  \u001b[0m  \u001b[0m\n",
      "  \u001b[38;5;1m 0.6442  \u001b[0m \u001b[38;5;1m-0.6958  \u001b[0m \u001b[38;5;1m-0.3175  \u001b[0m \u001b[38;5;4m 0.1699  \u001b[0m  \u001b[0m\n",
      "  \u001b[38;5;1m 0.05163 \u001b[0m \u001b[38;5;1m 0.4537  \u001b[0m \u001b[38;5;1m-0.8897  \u001b[0m \u001b[38;5;4m 0.4306  \u001b[0m  \u001b[0m\n",
      "  \u001b[38;5;244m 0       \u001b[0m \u001b[38;5;244m 0       \u001b[0m \u001b[38;5;244m 0       \u001b[0m \u001b[38;5;244m 1       \u001b[0m  \u001b[0m\n",
      "\n"
     ]
    }
   ],
   "source": [
    "# Work out the forward kinemtics of the robot at the zero-angle configuration\n",
    "print(\"Forward kinematics at zero-angle configuration\")\n",
    "print(panda.fkine([0, 0, 0, 0, 0, 0, 0]))\n",
    "\n",
    "# Work out the forward kinemtics of the robot at the current configuration\n",
    "print(\"Forward kinematics at current configuration\")\n",
    "print(panda.fkine(panda.q))\n",
    "\n",
    "# Work out the transform between the base and end-effector of the robot at\n",
    "# the current configuration\n",
    "print(\"Robot base to end-effector transform at current configuration\")\n",
    "print(panda.fkine(panda.q, include_base=False))\n"
   ]
  },
  {
   "cell_type": "markdown",
   "metadata": {},
   "source": [
    "## Resolved-Rate Motion Control\n",
    "\n",
    "We use the manipulator Jacobian $\\mathbf{J}(q)$ to control the robot's end-effector spatial velocity $^e\\nu$ using the joint velocities $\\dot{q}$.\n",
    "\n",
    "The end-effector spatial velocity \\\n",
    "\\\n",
    "$\\nu = (v_x, v_y, v_z, \\omega_x, \\omega_y, \\omega_z)^\\top$ \\\n",
    "\\\n",
    "is related to joint velocities by \\\n",
    "\\\n",
    "$^e\\nu = \\mathbf{J}(q) \\dot{q}$\n",
    "\n",
    "We can use the inverse of this relationship to specify a desired end-effector velocity $^e\\nu$ and get the required joint velocities $\\dot{q}$ with \\\n",
    "\\\n",
    "$\\dot{q} = \\mathbf{J}{(q)^+} \\ ^e\\nu $ \\\n",
    "\\\n",
    "where Moore-Penrose Pseudoinverse $(\\cdot)^+$ is used if the Jacobian is not square (the number of robot joints $n$ is greater than 7).\n"
   ]
  },
  {
   "cell_type": "code",
   "execution_count": 7,
   "metadata": {},
   "outputs": [],
   "source": [
    "# Change the robot configuration to the ready position\n",
    "panda.q = [0, -0.3, 0, -2.2, 0, 2.0, np.pi / 4]\n",
    "\n",
    "# Specify our desired end-effector velocity\n",
    "ev = [0.05, 0, 0, 0, 0, 0]\n",
    "\n",
    "# Run the simulation for 5 seconds\n",
    "for _ in range(50):\n",
    "\n",
    "    # Work out the manipulator Jacobian using the current robot configuration\n",
    "    J = panda.jacobe(panda.q)\n",
    "\n",
    "    # Since the Panda has 7 joints, the Jacobian is not square, therefore we must\n",
    "    # use the pseudoinverse (the pinv method)\n",
    "    J_inv = np.linalg.pinv(J)\n",
    "\n",
    "    # Calculate the required joint velocities and apply to the robot\n",
    "    panda.qd = J_inv @ ev\n",
    "\n",
    "    # Step the simulator by dt seconds\n",
    "    env.step(dt)"
   ]
  },
  {
   "cell_type": "markdown",
   "metadata": {},
   "source": [
    "### Reference frames\n",
    "\n",
    "An important point to note here is that the reference frame matters.\n",
    "\n",
    "The end-effector spatial velocity $\\nu$ could be in any reference frame.\n",
    "\n",
    "However, most commonly, the it would be specified in the end-effector frame.\n",
    "\n",
    "In which case we specify it as $^e\\nu$ (where the $^e$ indicates it is in the end-effector frame).\n",
    "\n",
    "Alternatively, we could specify it in the base frame of the robot. We specify it as $^0\\nu$ in this case.\n",
    "\n",
    "The manipulator Jacobian also has a reference frame. The toolbox can calculate both the end-effector frame Jacobian \n",
    "\n",
    "$^e\\mathbf{J}(q)$ - use the toolbox method `jacobe`\n",
    "\n",
    "and the base frame manipulator Jacobian\n",
    "\n",
    "$^0\\mathbf{J}(q)$ - use the toolbox method `jacob0`.\n",
    "\n",
    "The Jacobian frame must match the velocity frame or you will get unexpected results.\n"
   ]
  },
  {
   "cell_type": "markdown",
   "metadata": {},
   "source": [
    "In the following example we are going to illustrate the difference between using $^e\\mathbf{J}(q)$ and $^0\\mathbf{J}(q)$.\n",
    "\n",
    "In the first case we are going to give make the end-effector move at 0.05 m/s along the x-axis of the base frame\n",
    "\n",
    "Therefore we are specifying  base frame velocity $^0\\nu = (0.05, 0, 0, 0, 0, 0)^\\top$\n",
    "\n",
    "Since we specified a base-frame velocity we must use the base frame Jacobian $^0\\mathbf{J}(q)$. "
   ]
  },
  {
   "cell_type": "markdown",
   "metadata": {},
   "source": [
    "Exercise 5\n",
    "* Modify the code so the robot rotates around the z-axis of the base frame"
   ]
  },
  {
   "cell_type": "code",
   "execution_count": 8,
   "metadata": {},
   "outputs": [],
   "source": [
    "# Change the robot configuration\n",
    "panda.q = [0, -1.1, 0, -2.1, 0, 2.0, np.pi / 4]\n",
    "env.step()\n",
    "\n",
    "# Specify our desired end-effector velocity\n",
    "ev = [0.05, 0, 0, 0, 0, 0]\n",
    "\n",
    "# Run the simulation for 5 seconds\n",
    "for _ in range(50):\n",
    "\n",
    "    # Work out the base frame manipulator Jacobian using the current robot configuration\n",
    "    J = panda.jacob0(panda.q)\n",
    "\n",
    "    # Since the Panda has 7 joints, the Jacobian is not square, therefore we must\n",
    "    # use the pseudoinverse (the pinv method)\n",
    "    J_inv = np.linalg.pinv(J)\n",
    "\n",
    "    # Calculate the required joint velocities and apply to the robot\n",
    "    panda.qd = J_inv @ ev\n",
    "\n",
    "    # Step the simulator by dt seconds\n",
    "    env.step(dt)"
   ]
  },
  {
   "cell_type": "markdown",
   "metadata": {},
   "source": [
    "Now we will do the same thing but with the end-effector frame Jacobian $^e\\mathbf{J}(q)$.\n",
    "\n",
    "Note how the robot now moves along the x-axis of the end-effector frame rather than the base frame."
   ]
  },
  {
   "cell_type": "markdown",
   "metadata": {},
   "source": [
    "Exercise 6\n",
    "* Modify the code so the robot rotates around the z-axis of the end-effector frame"
   ]
  },
  {
   "cell_type": "code",
   "execution_count": 9,
   "metadata": {},
   "outputs": [],
   "source": [
    "# Change the robot configuration\n",
    "panda.q = [0, -1.1, 0, -2.1, 0, 2.0, np.pi / 4]\n",
    "env.step()\n",
    "\n",
    "# Specify our desired end-effector velocity\n",
    "ev = [0.05, 0, 0, 0, 0, 0]\n",
    "\n",
    "# Run the simulation for 5 seconds\n",
    "for _ in range(50):\n",
    "\n",
    "    # Work out the end-effector frame manipulator Jacobian using the current robot configuration\n",
    "    J = panda.jacobe(panda.q)\n",
    "\n",
    "    # Since the Panda has 7 joints, the Jacobian is not square, therefore we must\n",
    "    # use the pseudoinverse (the pinv method)\n",
    "    J_inv = np.linalg.pinv(J)\n",
    "\n",
    "    # Calculate the required joint velocities and apply to the robot\n",
    "    panda.qd = J_inv @ ev\n",
    "\n",
    "    # Step the simulator by dt seconds\n",
    "    env.step(dt)"
   ]
  },
  {
   "cell_type": "markdown",
   "metadata": {},
   "source": [
    "### Closing the Loop\n",
    "\n",
    "We want the robot to go to a specific location in the world. Before we do that, lets add some objects to the world so we can visualise the desired destinations.\n",
    "\n",
    "We will also add an axes to visualise the orientation of the end-effector\n",
    "\n",
    "We can make objects using the `spatialgeometry` package. I this case we are going to add an axes, a cube, and a sphere.\n"
   ]
  },
  {
   "cell_type": "markdown",
   "metadata": {},
   "source": [
    "Exercise 7\n",
    "* Add another cuboid to the environment\n",
    "    * The cuboid has a length of 0.2m, width of 0.4m and a height of 0.8m\n",
    "    * The color needs to be green with an opacity of 30%\n",
    "    * Make the cuboid located at x = -1.0, y = 0.0, z = 0.5"
   ]
  },
  {
   "cell_type": "code",
   "execution_count": 10,
   "metadata": {},
   "outputs": [
    {
     "data": {
      "text/plain": [
       "4"
      ]
     },
     "execution_count": 10,
     "metadata": {},
     "output_type": "execute_result"
    }
   ],
   "source": [
    "# Change the robot configuration to the ready position\n",
    "panda.q = [0, -0.3, 0, -2.2, 0, 2.0, np.pi / 4]\n",
    "env.step(0)\n",
    "\n",
    "# Make the end-effector axes, with a length of 10cm\n",
    "# Make the end-effector axes located at the end-effector\n",
    "ee_ax = sg.Axes(0.1, base=panda.fkine(panda.q))\n",
    "\n",
    "# Make the goal axes, with a length of 10cm\n",
    "# Make the goal axes located at x=0.5m, y=0.6m and z=0.5m\n",
    "goal_ax = sg.Axes(0.1, base=sm.SE3(0.5, 0.6, 0.5) * sm.SE3.Rx(np.pi))\n",
    "\n",
    "# Make the cuboid, with a length, width and height of 10cm\n",
    "# Make the cuboid located at x=0.5m, y=1m and z=0.05m\n",
    "# Make the color red with an opacity of 50%\n",
    "goal_cube = sg.Cuboid(\n",
    "    [0.1, 0.1, 0.1],\n",
    "    base=sm.SE3(0.5, 1, 0.05) * sm.SE3.Rx(np.pi),\n",
    "    color=[1, 0.2, 0.1, 0.5]\n",
    ")\n",
    "\n",
    "# Make the sphere, with a radius of 5cm\n",
    "# Make the sphere located at x=0.5m, y=1.3m and z=0.3m\n",
    "# Make the color blue with an opacity of 100%\n",
    "goal_sphere = sg.Sphere(\n",
    "    0.05,\n",
    "    base=sm.SE3(0.5, 1.3, 0.3) * sm.SE3.Rx(np.pi),\n",
    "    color=[0.0, 0.2, 1, 1.0]\n",
    ")\n",
    "\n",
    "# Add the objects to the environment\n",
    "env.add(ee_ax)\n",
    "env.add(goal_ax)\n",
    "env.add(goal_cube)\n",
    "env.add(goal_sphere)\n"
   ]
  },
  {
   "cell_type": "markdown",
   "metadata": {},
   "source": [
    "\n",
    "To get the robot to go a location in the world, we must update the desired end-effector spatial velocity at each time step.\n",
    "\n",
    "To do this, we set the end-effector spatial velocity to the spatial error between the end-effectors current pose and the goal pose.\n",
    "\n",
    "We can do this easily using the `p_servo` method in the toolbox. Lets try to make the robot reach the axes first.\n",
    "\n",
    "`p_servo` takes\n",
    "* the current robot pose, which we can calculate using the `panda.fkine` method\n",
    "* the goal pose which we can access using the `goal_ax.base` attribute\n",
    "* the gain, which adjusts how quickly the robot will reach the goal\n",
    "* the error threshold, which specifies a minimum distance before the robot has arrived\n",
    "\n",
    "`p_servo` returns\n",
    "* the spatial error multiplied by the gain which we can use as $^e\\nu$\n",
    "* arrived, a boolean specifying if the robot has arrived or not"
   ]
  },
  {
   "cell_type": "markdown",
   "metadata": {},
   "source": [
    "Exercise 8\n",
    "* Print the spatial error to the cuboid `goal_cube`\n",
    "* Print the spatial error to the sphere `goal_sphere`"
   ]
  },
  {
   "cell_type": "code",
   "execution_count": 11,
   "metadata": {},
   "outputs": [
    {
     "name": "stdout",
     "output_type": "stream",
     "text": [
      "[ 2.45959532e-02  4.00000000e-01 -8.53410764e-02 -1.53106918e-18 -1.00000000e-01 -5.26627616e-17] False\n"
     ]
    }
   ],
   "source": [
    "# Calculate the spatial error to the goal pose\n",
    "error, arrived = rtb.p_servo(panda.fkine(panda.q), goal_ax.base, gain=1.0, threshold=0.001)\n",
    "print(error, arrived)"
   ]
  },
  {
   "cell_type": "markdown",
   "metadata": {},
   "source": [
    "To make the robot approach the goal, we introduce a loop, and we re-calculate the required end-effector spatial velocity on each step."
   ]
  },
  {
   "cell_type": "markdown",
   "metadata": {},
   "source": [
    "Exercise 9\n",
    "* Make the robot reach for the cuboid `goal_cube`\n",
    "* Make the robot reach for the sphere `goal_sphere`\n",
    "* Make the robot reach for the axes `goal_ax` twice as fast\n",
    "* Make the robot reach for the cuboid `goal_cube` four times faster\n",
    "* Make the robot reach for the sphere `goal_sphere` twice as slow"
   ]
  },
  {
   "cell_type": "code",
   "execution_count": 12,
   "metadata": {},
   "outputs": [],
   "source": [
    "# Change the robot configuration to the ready position\n",
    "panda.q = [0, -0.3, 0, -2.2, 0, 2.0, np.pi / 4]\n",
    "env.step(0)\n",
    "\n",
    "# A variable to specify when to break the loop\n",
    "arrived = False\n",
    "\n",
    "dt = 0.05\n",
    "\n",
    "# Run the simulation until the robot arrives at the goal\n",
    "while not arrived:\n",
    "\n",
    "    # Set the pose of ee_ax to be the pose of the end-effector\n",
    "    ee_ax.base = panda.fkine(panda.q)\n",
    "\n",
    "    # Work out the end-effector frame manipulator Jacobian using the current robot configuration\n",
    "    J = panda.jacobe(panda.q)\n",
    "\n",
    "    # Since the Panda has 7 joints, the Jacobian is not square, therefore we must\n",
    "    # use the pseudoinverse (the pinv method)\n",
    "    J_inv = np.linalg.pinv(J)\n",
    "\n",
    "    # Calculate the required end-effector velocity and whether the robot has arrived\n",
    "    ev, arrived = rtb.p_servo(panda.fkine(panda.q), goal_ax.base, gain=1.0, threshold=0.001)\n",
    "\n",
    "    # Calculate the required joint velocities and apply to the robot\n",
    "    panda.qd = J_inv @ ev\n",
    "\n",
    "    # Step the simulator by dt seconds\n",
    "    env.step(dt)"
   ]
  }
 ],
 "metadata": {
  "interpreter": {
   "hash": "528815e074ebcdb9b34bcb695d4aa9d425bdb2cc6656b4ca45050b51a4125937"
  },
  "kernelspec": {
   "display_name": "Python 3 (ipykernel)",
   "language": "python",
   "name": "python3"
  },
  "language_info": {
   "codemirror_mode": {
    "name": "ipython",
    "version": 3
   },
   "file_extension": ".py",
   "mimetype": "text/x-python",
   "name": "python",
   "nbconvert_exporter": "python",
   "pygments_lexer": "ipython3",
   "version": "3.9.7"
  }
 },
 "nbformat": 4,
 "nbformat_minor": 2
}
